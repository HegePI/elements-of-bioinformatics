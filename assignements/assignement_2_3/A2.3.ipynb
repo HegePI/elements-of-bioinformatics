{
 "cells": [
  {
   "cell_type": "markdown",
   "metadata": {},
   "source": [
    "# Assignment 2.3: RNA assembly"
   ]
  },
  {
   "cell_type": "markdown",
   "metadata": {},
   "source": [
    "# Learning outcomes\n",
    "\n",
    "- Familiarity with min-cost flow reductions\n",
    "- A practical understanding of assembling RNA transcripts\n",
    "- Familiarity with two models of RNA assembly, and their strong and weak points\n",
    "- An understanding that non-trivial algorithms are required for great practical results (not always, but often)"
   ]
  },
  {
   "cell_type": "markdown",
   "metadata": {},
   "source": [
    "# Contents\n",
    "### 1. Basics\n",
    "    1.1 Helper functions for min-cost flows\n",
    "    1.2 Visualizing flow networks\n",
    "\n",
    "### 2. First flow reductions\n",
    "    2.1 Longest path in a DAG\n",
    "    2.2 Matching assembled sequences with reference sequences\n",
    "\n",
    "### 3. RNA assembly as Minimum Path Cover\n",
    "    3.1 Helper functions\n",
    "    3.2 Minimum Path Cover reduction\n",
    "\n",
    "### 4. Decomposing a flow into paths\n",
    "    4.1. DP for finding a path of maximum bottleneck\n",
    "    4.2. Decomposing a flow, one path at a time\n",
    "\n",
    "### 5. RNA assembly as a (heuristic) flow decomposition\n",
    "\n",
    "---\n",
    "$^\\ast$The algorithms and datasets in this assignment assume a simplified scenario: we do not start from RNA-seq reads, but directly with a (real) splicing graph. Also, there will be no noise in the coverage values that we will use for this graph."
   ]
  },
  {
   "cell_type": "markdown",
   "metadata": {},
   "source": [
    "<h3 style='background:yellow;padding:10px;color:black'><strong>TASK 0</strong></h3>\n",
    "\n",
    "At the end of the assignment, write here how many hours it took to complete it (approximately). Write also general feedback about the assignment. What was difficult, what was easy, what was interesting, what was not, what other tasks / topics you would have liked to have in it?"
   ]
  },
  {
   "cell_type": "markdown",
   "metadata": {},
   "source": [
    "#### Your answers here ...\n",
    "---"
   ]
  },
  {
   "cell_type": "markdown",
   "metadata": {},
   "source": [
    "---\n",
    "- What is your background? (CS/Bio)"
   ]
  },
  {
   "cell_type": "markdown",
   "metadata": {},
   "source": [
    "#### Your answers here ...\n",
    "---"
   ]
  },
  {
   "cell_type": "markdown",
   "metadata": {},
   "source": [
    "# 1. Basics\n",
    "\n",
    "In this section we start by introducing some helper functions for min-cost flows and for visualizing the graphs. Then, we will implement the two reductions from the video lectures: longest path in a DAG, and matching novel and existing transcripts.\n",
    "\n",
    "## 1.1. Helper functions for min-cost flows\n",
    "\n",
    "We will use the NextworkX Python package (https://networkx.org) for representing graphs, and for solving min-cost flow problems on them. Since its `network_simplex` min-cost flow solver implementation (https://networkx.org/documentation/stable/reference/algorithms/generated/networkx.algorithms.flow.network_simplex.html#networkx.algorithms.flow.network_simplex) has a slightly different (but equivalent) interface to min-cost flows, we start with the following *wrapping* function `min_cost_flow(G, s, t)`. "
   ]
  },
  {
   "cell_type": "code",
   "execution_count": null,
   "metadata": {
    "tags": [
     "outputPrepend"
    ]
   },
   "outputs": [],
   "source": [
    "from itertools import count\n",
    "import networkx as nx\n",
    "\n",
    "bigNumber = 1 << 32\n",
    "\n",
    "def min_cost_flow(G, s, t):\n",
    "    \n",
    "    flowNetwork = nx.DiGraph()\n",
    "    \n",
    "    flowNetwork.add_node(s, demand = -bigNumber)\n",
    "    flowNetwork.add_node(t, demand = bigNumber)\n",
    "            \n",
    "    for v in G.nodes():\n",
    "        if v != s and v != t:\n",
    "            flowNetwork.add_node(v, demand = 0)\n",
    "    \n",
    "    flowNetwork.add_edge(s, t, weight = 0)\n",
    "\n",
    "    counter = count(1) # Start an iterator given increasing integers starting from 1\n",
    "    edgeMap = dict()\n",
    "    \n",
    "    for (x,y) in G.edges():\n",
    "        z1 = str(next(counter))\n",
    "        z2 = str(next(counter))\n",
    "        edgeMap[(x,y)] = z1\n",
    "        l = G[x][y]['l']\n",
    "        u = G[x][y]['u']\n",
    "        c = G[x][y]['c']\n",
    "        flowNetwork.add_node(z1, demand = l)\n",
    "        flowNetwork.add_node(z2, demand = -l)\n",
    "        flowNetwork.add_edge(x, z1, weight = c, capacity = u)\n",
    "        flowNetwork.add_edge(z1, z2, weight = 0, capacity = u)\n",
    "        flowNetwork.add_edge(z2, y, weight = 0, capacity = u)\n",
    "\n",
    "    flowCost, flowDictNet = nx.network_simplex(flowNetwork)\n",
    "    \n",
    "    flowDict = dict()\n",
    "    for x in G.nodes():\n",
    "        flowDict[x] = dict()\n",
    "\n",
    "    for (x,y) in G.edges():\n",
    "        flowDict[x][y] = flowDictNet[x][edgeMap[(x,y)]]\n",
    "\n",
    "    return flowCost, flowDict"
   ]
  },
  {
   "cell_type": "markdown",
   "metadata": {},
   "source": [
    "The function above accepts as input a `nx.DiGraph` graph `G`, a so-called *directed* graph. All graphs used in the lectures were also directed, only that we have called them simply *graphs*. It also takes two nodes, `s` (the source of the flow network) and `t` (the sink of the flow network). It assumes that the edges of the graph have attributes `l` (lowerbound), `u` (upperbound), and `c` (cost), defined for each of them. It returns the flow cost `flowCost` (i.e. a number), and a function `flowDict` (i.e. a dictionary) assigning to every edge of `G` its flow value, in a mininimum cost flow (more on this below)."
   ]
  },
  {
   "cell_type": "markdown",
   "metadata": {},
   "source": [
    "Let's start with a very simple example, just to see how we can use the `min_cost_flow` function.\n",
    "\n",
    "First, we construct a directed graph with three nodes and two edges. Notice how we assign the `l`, `u`, `c` values to the edges. The following code will construct this `flowNetwork`:\n",
    "\n",
    "<img src='data/flowNetwork1.png'>"
   ]
  },
  {
   "cell_type": "code",
   "execution_count": null,
   "metadata": {},
   "outputs": [],
   "source": [
    "flowNetwork = nx.DiGraph()\n",
    "\n",
    "# Adding three nodes (identified by their labels s,v,t, resp.) to the directed graph flowNetwork\n",
    "flowNetwork.add_node('s')\n",
    "flowNetwork.add_node('v')\n",
    "flowNetwork.add_node('t')\n",
    "\n",
    "# Adding edges between them\n",
    "flowNetwork.add_edge('s', 'v', l = 1, u = 2, c = 10)\n",
    "flowNetwork.add_edge('v', 't', l = 2, u = 3, c = 15)\n",
    "\n",
    "print(f'Created a graph with {len(flowNetwork.nodes())} nodes and {len(flowNetwork.edges())} edges')"
   ]
  },
  {
   "cell_type": "markdown",
   "metadata": {},
   "source": [
    "The nodes, edges, and `l`, `u`, `c` values of the edges can be retrieved as follows."
   ]
  },
  {
   "cell_type": "code",
   "execution_count": null,
   "metadata": {},
   "outputs": [],
   "source": [
    "print(flowNetwork.nodes())\n",
    "print(flowNetwork.edges())\n",
    "for (x,y) in flowNetwork.edges():\n",
    "    print(f'l({x},{y}) = {flowNetwork[x][y][\"l\"]}')\n",
    "    print(f'u({x},{y}) = {flowNetwork[x][y][\"u\"]}')\n",
    "    print(f'c({x},{y}) = {flowNetwork[x][y][\"c\"]}')"
   ]
  },
  {
   "cell_type": "markdown",
   "metadata": {},
   "source": [
    "Finally, we can solve the min-cost flow problem on `flowNetwork`, by calling our function `min_cost_flow(flowNetwork,s,t)`. Notice that each edge of `flowNetwork` has `l`, `u`, `c` values defined when the edges of `flowNetwork` were added, and these are the ones used in the min-cost flow problem.\n",
    "\n",
    "Notice the format of `flowDict`, which is a dictionary of dictionaries: for every node, it stores a dictionary with the out-neighbors of the node, and the min-cost flow value on the edge to that out-neighbor. For example, in this way, `flowDict['s']['v']` gives the min-cost flow value on edge `(s,v)`."
   ]
  },
  {
   "cell_type": "code",
   "execution_count": null,
   "metadata": {},
   "outputs": [],
   "source": [
    "flowCost, flowDict = min_cost_flow(flowNetwork, 's', 't')\n",
    "\n",
    "print(f'flowCost = {flowCost}')\n",
    "print(flowDict)\n",
    "print(flowDict['s']['v'])"
   ]
  },
  {
   "cell_type": "markdown",
   "metadata": {},
   "source": [
    "<h3 style='background:yellow;padding:10px;color:black'><strong>TASK 1</strong></h3>\n",
    "\n",
    "Now it's your turn to create a flow network and solve a min-cost flow problem on it. Create a flow network `fN1` consisting of $n$ nodes, $v_1,\\dots,v_n$ (for concreteness, we set `n = 10` below). For each edge $(v_i,v_{i+1}) (i \\in \\{1,\\dots,n-1\\})$, set:\n",
    "- $\\ell(v_i,v_{i+1}) = i$\n",
    "- $u(v_i,v_{i+1}) = n$\n",
    "- $c(v_i,v_{i+1}) = n-i$\n",
    "\n",
    "Set the source of the flow network to be $v_1$ and the sink of the flow network to be $v_n$, and compute a min-cost flow on it. \n",
    "\n",
    "Print the min-cost flow value, and the flow value of the edge $(v_1,v_2)$.\n",
    "\n",
    "<strong>NOTE</strong>: The node identifiers of a `nx.Digraph()` object can also be numbers. Thus, you can use `1,...,n` as identifiers. Add the nodes and edges with a `for` loop. "
   ]
  },
  {
   "cell_type": "code",
   "execution_count": null,
   "metadata": {},
   "outputs": [],
   "source": [
    "n = 10\n",
    "\n",
    "fN1 = nx.DiGraph()\n",
    "\n",
    "# Your code here ...\n"
   ]
  },
  {
   "cell_type": "markdown",
   "metadata": {},
   "source": [
    "## 1.2 Visualizing graphs\n",
    "\n",
    "Let's now introduce some helper functions for visualizing graphs. This will make it easy to chek that the reductions we are constructing are indeed correct. \n",
    "\n",
    "We will use the same library `graphviz` from the previous assignment. Notice how we customize the graphviz edge labels to show the `l`,`u`,`c` attributes of the flow network. "
   ]
  },
  {
   "cell_type": "code",
   "execution_count": null,
   "metadata": {},
   "outputs": [],
   "source": [
    "from graphviz import Digraph\n",
    "\n",
    "def network2dot(nxDigraph):\n",
    "    dot = Digraph()\n",
    "    dot.graph_attr['rankdir'] = 'LR' # Display the graph in landscape mode\n",
    "    dot.node_attr['shape'] = 'rectangle' # Rectangle nodes\n",
    "    \n",
    "    for (u,v) in nxDigraph.edges():\n",
    "        att = nxDigraph[u][v]\n",
    "        dot.edge(str(u),str(v),label=f'[{att[\"l\"]}..{att[\"u\"]}], ${att[\"c\"]}')\n",
    "         \n",
    "    return dot\n",
    "\n",
    "flowNetwork_dot = network2dot(flowNetwork)\n",
    "flowNetwork_dot"
   ]
  },
  {
   "cell_type": "markdown",
   "metadata": {},
   "source": [
    "<h3 style='background:yellow;padding:10px;color:black'><strong>TASK 2</strong></h3>\n",
    "\n",
    "Use the function `network2dot` to visualize flow network `fN1` from the previous task."
   ]
  },
  {
   "cell_type": "code",
   "execution_count": null,
   "metadata": {},
   "outputs": [],
   "source": [
    "# Your code here ...\n"
   ]
  },
  {
   "cell_type": "markdown",
   "metadata": {},
   "source": [
    "Let's also write a function that prints a generic graph (that doesn't necessarily have functions `l`, `u`, `c` defined for all edges), where the edges of the visualized graph are those given by a generic attribute `edgeLabels` on the edges of the `nx.Digraph`. For example, we can print just the costs of the edges of our `flowNetwork` above."
   ]
  },
  {
   "cell_type": "code",
   "execution_count": null,
   "metadata": {},
   "outputs": [],
   "source": [
    "def graph2dot(nxDigraph, edgeLabels=None):\n",
    "    dot = Digraph()\n",
    "    dot.graph_attr['rankdir'] = 'LR' # Display the graph in landscape mode\n",
    "    dot.node_attr['shape'] = 'rectangle' # Rectangle nodes\n",
    "\n",
    "    for (u,v) in nxDigraph.edges():\n",
    "            if edgeLabels is None:\n",
    "                dot.edge(str(u),str(v)) \n",
    "            else:\n",
    "                dot.edge(str(u),str(v),label=str(nxDigraph[u][v][edgeLabels]))\n",
    "         \n",
    "    return dot\n",
    "\n",
    "flowNetwork_graph_dot = graph2dot(flowNetwork, edgeLabels='c')\n",
    "flowNetwork_graph_dot"
   ]
  },
  {
   "cell_type": "markdown",
   "metadata": {},
   "source": [
    "# 2. First flow reductions\n",
    "\n",
    "## 2.1 Longest path in a DAG\n",
    "\n",
    "In the video lectures, we saw a reduction from the problem of computing the longest path in a weighted DAG, from a given node $s$ to a given node $t$. Recall the following example graph from the lecture, in which the longest path is shown in blue: <img src='data/graph1.png'>\n",
    "\n",
    "We will load this graph from a file, in the `edgelist` format of the `NetworkX` package. For our curiosity, let's see how this file looks like. \n",
    "\n",
    "Notice that we can run terminal commands by using the `!` sign in front, as follows."
   ]
  },
  {
   "cell_type": "code",
   "execution_count": null,
   "metadata": {},
   "outputs": [],
   "source": [
    "!head data/longestPathGraph.edgelist"
   ]
  },
  {
   "cell_type": "markdown",
   "metadata": {},
   "source": [
    "We now load the graph and visualize it with our `graph2dot` function. Notice that the edges have an atribute `weight`, which we use as edge labels in the visualization."
   ]
  },
  {
   "cell_type": "code",
   "execution_count": null,
   "metadata": {},
   "outputs": [],
   "source": [
    "fg = open(\"data/longestPathGraph.edgelist\", \"rb\")\n",
    "G2 = nx.read_edgelist(fg, create_using=nx.DiGraph)\n",
    "fg.close()\n",
    "\n",
    "graph_dot = graph2dot(G2, edgeLabels = 'weight')\n",
    "graph_dot"
   ]
  },
  {
   "cell_type": "markdown",
   "metadata": {},
   "source": [
    "<h3 style='background:yellow;padding:10px;color:black'><strong>TASK 3</strong></h3>\n",
    "\n",
    "Solve the longest (i.e. maximum weight) path problem on the graph `G2` by reducing it to a min-cost flow network. Use the same reduction as in the video lecture. \n",
    "\n",
    "Fill in the code fragments below to solve this problem. First visualize the flow network, then solve the problem.\n",
    "\n",
    "<strong>NOTE</strong>: If you need to set the upper bound to some edge to $\\infty$, you can set it to the variable `bigNumber` declared at the begining of the notebook. Use the dunction `network2dot` for visualizing."
   ]
  },
  {
   "cell_type": "code",
   "execution_count": null,
   "metadata": {},
   "outputs": [],
   "source": [
    "# We start by building a new flowNetwork from G2\n",
    "fN2 = nx.DiGraph()\n",
    "\n",
    "for v in G2.nodes():\n",
    "    fN2.add_node(v)\n",
    "\n",
    "for (u,v) in G2.edges():\n",
    "    # Added the edges of G2 as edges of the flow network\n",
    "    # What l, u, c values you set for each?\n",
    "    # Note: you can get the weight of the edge (u,v) as G2[u][v]['weight']\n",
    "    # Your code here\n",
    "    \n",
    "\n",
    "# We add the global source s* and the global sink t* to the flow network. \n",
    "# Note that these are new, different nodes than the nodes s and t, the start and end of the path\n",
    "fN2.add_node('s*')\n",
    "fN2.add_node('t*')    \n",
    "    \n",
    "# Add edges from s* to each node of the flowNetwork.\n",
    "# What l, u, c values to set for each edge (s*,v)? (keep in mind the edge (s*,s)) \n",
    "for v in G2.nodes():\n",
    "    if v == 's':\n",
    "        # Your code here\n",
    "        \n",
    "    else:\n",
    "        # Your code here\n",
    "        \n",
    "\n",
    "# Add edges from each node of the flowNetwork to t*.\n",
    "# What l, u, c values to set for each edge (v,t*)? (keep in mind the edge (t,t*)) \n",
    "for v in G2.nodes():\n",
    "    if v == 't':\n",
    "        # Your code here\n",
    "        \n",
    "    else:\n",
    "        # Your code here\n",
    "        \n",
    "    \n",
    "fN2_dot = network2dot(fN2)\n",
    "fN2_dot"
   ]
  },
  {
   "cell_type": "markdown",
   "metadata": {},
   "source": [
    "Solve the min-cost flow problem on `fN2` and print the **weight** of the longest path in `G2`."
   ]
  },
  {
   "cell_type": "code",
   "execution_count": null,
   "metadata": {},
   "outputs": [],
   "source": [
    "# Your code here\n"
   ]
  },
  {
   "cell_type": "markdown",
   "metadata": {},
   "source": [
    "## 2.2 Matching assembled sequences with reference sequences\n",
    "\n",
    "We now implement the second reduction from the video lectures. Remember that:\n",
    "- Each node $a_i$ (assembled sequenced) has to be matched with **exactly** one reference sequence (some node $b_j$), or be classified as novel (star node).\n",
    "- Each node $b_j$ (reference sequence) can be matched with **at most** one assembled sequence.\n",
    "- Each allowed matching (edge) has a cost. \n",
    "\n",
    "The task is to find such a matching satisfying the above two conditions, of total minimum cost."
   ]
  },
  {
   "cell_type": "markdown",
   "metadata": {},
   "source": [
    "Let's begin by reading the input graph and visualizing it."
   ]
  },
  {
   "cell_type": "code",
   "execution_count": null,
   "metadata": {},
   "outputs": [],
   "source": [
    "fg = open(\"data/matchingGraph.edgelist\", \"rb\")\n",
    "G3 = nx.read_edgelist(fg, create_using=nx.DiGraph)\n",
    "fg.close()\n",
    "\n",
    "graph_dot = graph2dot(G3, edgeLabels = 'cost')\n",
    "graph_dot"
   ]
  },
  {
   "cell_type": "markdown",
   "metadata": {},
   "source": [
    "The input file `matchingGraph.edgelist` does not contain information on what are the assembled sequences, and what are the reference sequences. However, we assume the assembled sequences are those without in-neighbors (i.e. in-degree zero), and the reference sequences are those without out-neighbors (i.e. out-degree zero). \n",
    "\n",
    "Also, we assume that the node 'star' represents the novel sequences, allowed to match many assembled sequences. Note that we already assigned as 10 the cost of the edges in-coming to 'star'."
   ]
  },
  {
   "cell_type": "code",
   "execution_count": null,
   "metadata": {},
   "outputs": [],
   "source": [
    "assembledSeqs = list()\n",
    "referenceSeqs = list()\n",
    "\n",
    "for v in G3.nodes():\n",
    "    if G3.in_degree(v) == 0:\n",
    "        assembledSeqs.append(v)\n",
    "    if G3.out_degree(v) == 0:\n",
    "        referenceSeqs.append(v)\n",
    "\n",
    "print(assembledSeqs)\n",
    "print(referenceSeqs)"
   ]
  },
  {
   "cell_type": "markdown",
   "metadata": {},
   "source": [
    "<h3 style='background:yellow;padding:10px;color:black'><strong>TASK 4</strong></h3>\n",
    "\n",
    "Build and visualize the min-cost flow reduction from the video lecture, by filling the following missing code fragments."
   ]
  },
  {
   "cell_type": "code",
   "execution_count": null,
   "metadata": {},
   "outputs": [],
   "source": [
    "fN3 = nx.DiGraph()\n",
    "\n",
    "for v in G3.nodes():\n",
    "    fN3.add_node(v)\n",
    "\n",
    "# Adding the global source and sink\n",
    "fN3.add_node('s')\n",
    "fN3.add_node('t')\n",
    "    \n",
    "for v in assembledSeqs:\n",
    "    # Your code here\n",
    "    \n",
    "\n",
    "for (u,v) in G3.edges():\n",
    "    # Note: you can get the cost of the edge (u,v) as G3[u][v]['cost']\n",
    "    # Your code here\n",
    "    \n",
    "\n",
    "for v in referenceSeqs:\n",
    "    # Your code here\n",
    "    \n",
    "\n",
    "fN3_dot = network2dot(fN3)\n",
    "fN3_dot"
   ]
  },
  {
   "cell_type": "markdown",
   "metadata": {},
   "source": [
    "<h3 style='background:yellow;padding:10px;color:black'><strong>TASK 5</strong></h3>\n",
    "\n",
    "To obtain the optimum matching between the assembled sequences and the references (including 'star') sequences, we must find a min-cost flow on `fN3`, and then recover the matching solution. \n",
    "\n",
    "Compute a min-cost flow (using function `min_cost_flow`). Recover the matching as those edges of `G3` which have flow value equal to 1. Print these matching edges."
   ]
  },
  {
   "cell_type": "code",
   "execution_count": null,
   "metadata": {},
   "outputs": [],
   "source": [
    "# Your code here\n"
   ]
  },
  {
   "cell_type": "markdown",
   "metadata": {},
   "source": [
    "# 3. RNA assembly as Minimum Path Cover\n",
    "\n",
    "Having gotten used with min-cost flow reductions, we now apply them to assemble RNA transcripts from splicing graphs. \n",
    "\n",
    "## 3.1 Helper functions\n",
    "\n",
    "We start by loading the graph `splicing_graph.edgelist`. This is created from human transcript annotation, and the node labels, strings of the form '(x,y)', correspond to exons, where x and y are the starting and ending positions of the exon, respectively, in the human reference. In this notebook, we are not interested in the actual bases of the exon."
   ]
  },
  {
   "cell_type": "code",
   "execution_count": null,
   "metadata": {},
   "outputs": [],
   "source": [
    "fg = open(\"data/splicing_graph.edgelist\", \"rb\")\n",
    "G4 = nx.read_edgelist(fg, create_using=nx.DiGraph)\n",
    "fg.close()\n",
    "\n",
    "# We test that the splicing graph is indeed acyclic\n",
    "print('Directed acyclic graph: ' + str(nx.is_directed_acyclic_graph(G4)))\n",
    "\n",
    "# Then we visualize the graph\n",
    "G4_dot = graph2dot(G4)\n",
    "G4_dot"
   ]
  },
  {
   "cell_type": "markdown",
   "metadata": {},
   "source": [
    "To have an idea of how our different RNA assembly models (and algorithms) behave, we also provide the *true* RNA transcripts for this graph. We can read them as follows."
   ]
  },
  {
   "cell_type": "code",
   "execution_count": null,
   "metadata": {},
   "outputs": [],
   "source": [
    "from json import load\n",
    "\n",
    "ft = open(\"data/true_transcripts.json\", \"rb\")\n",
    "true_transcripts = [[f'({v[0]},{v[1]})' for v in path] for path in load(ft)]\n",
    "ft.close()\n",
    "\n",
    "for transcript_path in true_transcripts:\n",
    "    print(transcript_path)"
   ]
  },
  {
   "cell_type": "markdown",
   "metadata": {},
   "source": [
    "However, it would be much more useful to have a visual representation of these paths. Let's write another visualization function, that prints both the graph (with default black edges), and each path, with a different color."
   ]
  },
  {
   "cell_type": "code",
   "execution_count": null,
   "metadata": {},
   "outputs": [],
   "source": [
    "def graphpaths2dot(nxDigraph, paths, pathWeights=None):\n",
    "    colors = ['red','blue','green','purple','brown']\n",
    "\n",
    "    dot = Digraph()\n",
    "    dot.graph_attr['rankdir'] = 'LR' # Display the graph in landscape mode\n",
    "    dot.node_attr['shape'] = 'rectangle' # Rectangle nodes\n",
    "\n",
    "    for (u,v) in nxDigraph.edges():\n",
    "        dot.edge(str(u),str(v)) \n",
    "         \n",
    "    for index, path in enumerate(paths):\n",
    "        pathColor = colors[index % len(colors)]\n",
    "        if pathWeights is None:\n",
    "            dot.attr('edge', color=pathColor, penwidth='2.0')\n",
    "        else:\n",
    "            dot.attr('edge', label=str(pathWeights[index]), fontcolor=pathColor, color=pathColor, penwidth='2.0')\n",
    "        \n",
    "        \n",
    "        # If a path has only one node, color that node\n",
    "        if len(path) == 1:\n",
    "            dot.node(str(path[0]), color=pathColor, penwidth='2.0')\n",
    "        else:    \n",
    "            for i in range(len(path)-1):\n",
    "                dot.edge(str(path[i]), str(path[i+1]))\n",
    "     \n",
    "    return dot\n",
    "\n",
    "G4_paths_dot = graphpaths2dot(G4, true_transcripts)\n",
    "G4_paths_dot"
   ]
  },
  {
   "cell_type": "markdown",
   "metadata": {},
   "source": [
    "## 3.2 Minimum Path Cover model\n",
    "\n",
    "In this section we will model the RNA transcript assembly problem as a minimum path cover, which we will solve with a min-cost flow reduction."
   ]
  },
  {
   "cell_type": "markdown",
   "metadata": {},
   "source": [
    "<h3 style='background:yellow;padding:10px;color:black'><strong>TASK 6</strong></h3>\n",
    "\n",
    "Implement the reduction from minimum path cover to min-cost flow. \n",
    "\n",
    "Recall that:\n",
    "- We replace each node $v$ with two nodes $v_0$ and $v_1$, and an edge $(v_0,v_1)$.\n",
    "- The edges entering an original node $v$ now enter $v_0$, and the edges exiting an original node $v$ now exit $v_1$.\n",
    "- We add a global source $s$ with edges to all $0$-nodes, and a global sink $t$, with edges from every $1$-node.\n",
    "- The cost of the edges out-going from $s$ is $1$, the cost of all other edges is $0$.\n",
    "- The lower bound is $1$ for all new edges of the form $(v_0,v_1)$, and is $0$ for all other edges.\n",
    "- You can set the upper bounds of all edges to $\\infty$ (use the global variable `bigNumber` defined at the begining of the notebook).\n",
    "\n",
    "Fill in the missing code fragment."
   ]
  },
  {
   "cell_type": "code",
   "execution_count": null,
   "metadata": {},
   "outputs": [],
   "source": [
    "fN4 = nx.DiGraph()\n",
    "\n",
    "# We add the two nodes corresponding to each node\n",
    "for v in G4.nodes():\n",
    "    fN4.add_node(v + '0')\n",
    "    fN4.add_node(v + '1')\n",
    "    \n",
    "fN4.add_node('s')\n",
    "fN4.add_node('t')\n",
    "\n",
    "# Your code here\n",
    "\n",
    "fN4_dot = network2dot(fN4)\n",
    "fN4_dot"
   ]
  },
  {
   "cell_type": "code",
   "execution_count": null,
   "metadata": {},
   "outputs": [],
   "source": [
    "flowCost4, flowDict4 = min_cost_flow(fN4, 's', 't')\n",
    "\n",
    "print(F'The minimum number of paths covering all nodes is {flowCost4}')\n",
    "print(flowDict4)"
   ]
  },
  {
   "cell_type": "markdown",
   "metadata": {},
   "source": [
    "## 4. Decomposing a flow into paths\n",
    "\n",
    "**For this section, please watch the videos for lecture 2.4 (especially videos 3 & 4)**\n",
    "\n",
    "As you see and realize from the above, the flow values alone do not give the paths (and thus the transcripts). However, any flow in a directed acyclic graph can be decomposed into a collection of weighted paths. As we've seen in the video lectures, finding the *minimum* number of such weighted paths is an NP-hard problem (thus unlikely to be solved efficiently). Moreover, we studied a heuristic for it, namely the one always choosing an $s$-$t$ path of maximum **bottleneck**.\n",
    "\n",
    "The interesting part about the minimum path cover reduction, is that *any* path decomposition of the resulting min-cost flow will correspond to a flow decomposition into a minimum number of paths, and each such path will have weight 1. However, since we will also use the maximum bottleneck heuristic as a model of RNA transcript assembly, we implement it here."
   ]
  },
  {
   "cell_type": "markdown",
   "metadata": {},
   "source": [
    "## 4.1 DP for finding a path of maximum bottleneck\n",
    "\n",
    "In this section we implement the DP algorithm from the video lectures, which, given a flow, finds an $s$-$t$ path of maximum bottleneck.\n",
    "\n",
    "<h3 style='background:yellow;padding:10px;color:black'><strong>TASK 7</strong></h3>\n",
    "\n",
    "Explain the following code (both for computing the B values, and for recovering the path of maximum bottleneck)."
   ]
  },
  {
   "cell_type": "code",
   "execution_count": null,
   "metadata": {},
   "outputs": [],
   "source": [
    "def maxBottleckPath(flowNetwork, flowDict):\n",
    "    B = dict()\n",
    "    maxInNeighbor = dict()\n",
    "\n",
    "    # Computing the B values with DP\n",
    "    for v in nx.topological_sort(flowNetwork):\n",
    "        if v == 's':\n",
    "            B[v] = bigNumber\n",
    "        else:\n",
    "            B[v] = -bigNumber\n",
    "            for u in flowNetwork.predecessors(v):\n",
    "                uBottleneck = min(B[u], flowDict[u][v])\n",
    "                if uBottleneck > B[v]:\n",
    "                    B[v] = uBottleneck \n",
    "                    maxInNeighbor[v] = u\n",
    "    \n",
    "    \n",
    "    \n",
    "    # If no s-t flow exists in the network\n",
    "    if B['t'] == 0:\n",
    "        return None, None\n",
    "    \n",
    "    # Recovering the path of maximum bottleneck\n",
    "    reverse_path = ['t']\n",
    "    while reverse_path[-1] != 's':\n",
    "        reverse_path.append(maxInNeighbor[reverse_path[-1]])\n",
    "    \n",
    "    return B['t'], list(reversed(reverse_path))"
   ]
  },
  {
   "cell_type": "markdown",
   "metadata": {},
   "source": [
    "---\n",
    "#### Your answers here ...\n",
    "---"
   ]
  },
  {
   "cell_type": "markdown",
   "metadata": {},
   "source": [
    "Let's now compute and visualize the path of maximum bottleneck of `fN4`. Again, as mentioned above, all paths will have weight $1$. In the next section, we will see an example where these paths have maximum bottleneck of various weights."
   ]
  },
  {
   "cell_type": "code",
   "execution_count": null,
   "metadata": {},
   "outputs": [],
   "source": [
    "maxBottleneck, maxBottleneckPath = maxBottleckPath(fN4, flowDict4)\n",
    "\n",
    "fN4_max_bottleneck_path_dot = graphpaths2dot(fN4, [maxBottleneckPath])\n",
    "fN4_max_bottleneck_path_dot"
   ]
  },
  {
   "cell_type": "markdown",
   "metadata": {},
   "source": [
    "## 4.2. Decomposing a flow, one path at a time\n",
    "\n",
    "In this section, we implement a function that iteratiely finds a path of maximum bottleneck, and removes it from the flow.\n",
    "\n",
    "<h3 style='background:yellow;padding:10px;color:black'><strong>TASK 8</strong></h3>\n",
    "\n",
    "Explain the following code."
   ]
  },
  {
   "cell_type": "code",
   "execution_count": null,
   "metadata": {},
   "outputs": [],
   "source": [
    "import copy\n",
    "\n",
    "def decompose(flowNetwork, flowDict):\n",
    "    pathDecomposition = list()\n",
    "    pathWeights = list()\n",
    "    # Making a copy of flowDict, otherwise the changes we make in this function \n",
    "    # will carry over to the global variable flowDict\n",
    "    tempFlow = copy.deepcopy(flowDict)\n",
    "\n",
    "    \n",
    "    while True:\n",
    "        bottleneck, path = maxBottleckPath(flowNetwork, tempFlow)\n",
    "        if path is None:\n",
    "            break\n",
    "            \n",
    "        for i in range(len(path)-1):\n",
    "            tempFlow[path[i]][path[i+1]] -= bottleneck\n",
    "        \n",
    "        pathDecomposition.append(path)\n",
    "        pathWeights.append(bottleneck)\n",
    "        \n",
    "    return pathDecomposition, pathWeights"
   ]
  },
  {
   "cell_type": "markdown",
   "metadata": {},
   "source": [
    "---\n",
    "#### Your answers here ...\n",
    "---"
   ]
  },
  {
   "cell_type": "markdown",
   "metadata": {},
   "source": [
    "Let's check (visually) that in our example we obtain as many paths as the min-cost flow value (i.e. 2 in this case), and that the paths indeed cover all edges of the form $(v_0, v_1)$, meaning that they cover all initial nodes of the graph."
   ]
  },
  {
   "cell_type": "code",
   "execution_count": null,
   "metadata": {},
   "outputs": [],
   "source": [
    "decomposedPaths4, pathWeights4 = decompose(fN4, flowDict4)\n",
    "\n",
    "fN4_decomposed_dot = graphpaths2dot(fN4, decomposedPaths4)\n",
    "fN4_decomposed_dot"
   ]
  },
  {
   "cell_type": "markdown",
   "metadata": {},
   "source": [
    "<h3 style='background:yellow;padding:10px;color:black'><strong>TASK 9</strong></h3>\n",
    "\n",
    "Fill in the code fragment below to convert `decomposedPaths` back into paths of the original graph `G4`. That is, remove `s` and `t` from them, and replace all nodes of the form $v_0,v_1$ back to $v$."
   ]
  },
  {
   "cell_type": "code",
   "execution_count": null,
   "metadata": {},
   "outputs": [],
   "source": [
    "def convertPaths(paths):\n",
    "    convertedPaths = list()\n",
    "\n",
    "    for path in paths:\n",
    "        convertedPath = list()\n",
    "        # Your code here\n",
    "        \n",
    "        convertedPaths.append(convertedPath)\n",
    "    return convertedPaths\n",
    "\n",
    "convertedPaths4 = convertPaths(decomposedPaths4)\n",
    "print('We assembled {} paths'.format(len(convertedPaths4)))\n",
    "G4_decomposed_dot = graphpaths2dot(G4, convertedPaths4)\n",
    "G4_decomposed_dot"
   ]
  },
  {
   "cell_type": "markdown",
   "metadata": {},
   "source": [
    "Finally, we have a solution to the minimum path cover problem on `G4`. Let's compare it with the true transcripts (computed also above)."
   ]
  },
  {
   "cell_type": "code",
   "execution_count": null,
   "metadata": {},
   "outputs": [],
   "source": [
    "G4_paths_dot = graphpaths2dot(G4, true_transcripts)\n",
    "G4_paths_dot"
   ]
  },
  {
   "cell_type": "markdown",
   "metadata": {},
   "source": [
    "<h3 style='background:yellow;padding:10px;color:black'><strong>TASK 9</strong></h3>\n",
    "\n",
    "Comparing the two sets of transcripts visualized here above, explain in what respects the minimum path cover formulation is not a satisfactory model of RNA assembly."
   ]
  },
  {
   "cell_type": "markdown",
   "metadata": {},
   "source": [
    "---\n",
    "#### Your answers here ...\n",
    "---"
   ]
  },
  {
   "cell_type": "markdown",
   "metadata": {},
   "source": [
    "# 5. RNA assembly as flow decomposition\n",
    "\n",
    "Let us now bring in coverage values in the game, and let's implement the last model of RNA assembly discussed in the lecture. Namely, we assume that the coverage values form a flow, and we are looking for a decomposition of it into the minimum number of paths. For simplicity (in order to avoid spliting each node $v$ into $v_0$ and $v_1$), here we assume that only edges have read coverages.\n",
    "\n",
    "As we discussed at the lecture, solving this problem optimally is NP-hard. As such, we will employ here the heuristic implemented above, that at every steps removes the path of maximum bottleneck.\n",
    "\n",
    "Let's start by visualizing the coverage values of each edge."
   ]
  },
  {
   "cell_type": "code",
   "execution_count": null,
   "metadata": {},
   "outputs": [],
   "source": [
    "G4_coverage_dot = graph2dot(G4, edgeLabels='coverage')\n",
    "G4_coverage_dot"
   ]
  },
  {
   "cell_type": "markdown",
   "metadata": {},
   "source": [
    "<h3 style='background:yellow;padding:10px;color:black'><strong>TASK 10</strong></h3>\n",
    "\n",
    "Comparing the coverage values above, and the true transcripts for this graph, what are the true coverage values of each of the three transcripts? "
   ]
  },
  {
   "cell_type": "markdown",
   "metadata": {},
   "source": [
    "---\n",
    "#### Your answers here ...\n",
    "---"
   ]
  },
  {
   "cell_type": "markdown",
   "metadata": {},
   "source": [
    "At the lecture, we said that from the input coverage values, we construct a flow network as follows.\n",
    "\n",
    "- We say that a node is a **candidate transcript start** if it has more out-going flow than in-coming flow. Namely, if the sum of coverage values of out-going edges is strictly greater than the sum of coverage values of in-coming edges.\n",
    "- We say that a node is a **candidate transcript end** if it has more in-going flow than out-coming flow. Namely, if the sum of coverage values of in-going edges is strictly greater than the sum of coverage values of out-coming edges.\n",
    "\n",
    "With this classification of nodes, we proceed as follows:\n",
    "- We add each node and each edge of the graph to the flow network, with flow value equaling its coverage.\n",
    "- We add a global source `s` and a global sink `t`.\n",
    "- For every node `v` that is a candidate transcript start, we add the edge `(s,v)` with flow value equal to the sum of the out-going flow of `v` *minus* the sum of the in-coming flow of `v`.\n",
    "- For every node `v` that is a candidate transcript end, we add the edge `(v,t)` with flow value equal to the sum of the in-coming flow of `v` *minus* the sum of the out-going flow of `v`.\n",
    "\n",
    "<h3 style='background:yellow;padding:10px;color:black'><strong>TASK 11</strong></h3>\n",
    "\n",
    "Let's build this network, call it `fN5`.\n",
    "\n",
    "**NOTE**: Here, you don't need to set `l`, `u` and `c` values for each edge of the network, since we will not solve a min-cost flow problem on it. Instead, we will also construct a dictionary `flowDict5` storing the flow value mentioned above, so that we can call our function `decompose(fN5, flowDict5)`."
   ]
  },
  {
   "cell_type": "code",
   "execution_count": null,
   "metadata": {},
   "outputs": [],
   "source": [
    "fN5 = nx.DiGraph()\n",
    "\n",
    "# We implement two functions testing if a node v is a candidate transcript start or end\n",
    "def isCandidateStart(G,v):\n",
    "    in_flow = sum([G[u][v]['coverage'] for u in G.predecessors(v)])\n",
    "    out_flow = sum([G[v][w]['coverage'] for w in G.successors(v)])\n",
    "    return (out_flow > in_flow), out_flow - in_flow\n",
    "\n",
    "def isCandidateEnd(G,v):\n",
    "    in_flow = sum([G[u][v]['coverage'] for u in G.predecessors(v)])\n",
    "    out_flow = sum([G[v][w]['coverage'] for w in G.successors(v)])\n",
    "    return (out_flow < in_flow), in_flow - out_flow\n",
    "\n",
    "# We introduce the global source and sink\n",
    "fN5.add_node('s')\n",
    "fN5.add_node('t')\n",
    "\n",
    "# We initialize the flowDict\n",
    "flowDict5 = dict()\n",
    "flowDict5['s'] = dict()\n",
    "for v in G4.nodes():\n",
    "    fN5.add_node(v)\n",
    "    flowDict5[v] = dict()\n",
    "\n",
    "# Implement the rest of the flow network\n",
    "# Fill in the missing code fragments\n",
    "\n",
    "for (u,v) in G4.edges():\n",
    "    fN5.add_edge(u, v)\n",
    "    # Your code here\n",
    "    \n",
    "\n",
    "for v in G4.nodes():\n",
    "    fN5.add_node(v)\n",
    "    # Your code here\n",
    "    \n",
    "\n",
    "fN5_dot = graph2dot(fN5)\n",
    "fN5_dot"
   ]
  },
  {
   "cell_type": "markdown",
   "metadata": {},
   "source": [
    "Let us now decompose `fN5` and `flowDict5` that you have built above using the heuristic of always selecting the path of maximum bottleneck. "
   ]
  },
  {
   "cell_type": "code",
   "execution_count": null,
   "metadata": {},
   "outputs": [],
   "source": [
    "# We implement a simpler version of the above function `convertPaths`\n",
    "# that just removes s and t from each path\n",
    "def convertPaths_simple(paths):\n",
    "    return [path[1:-1] for path in paths]\n",
    "\n",
    "decomposedPaths5, pathWeights5 = decompose(fN5, flowDict5)\n",
    "convertedPaths5 = convertPaths_simple(decomposedPaths5)\n",
    "\n",
    "G5_decomposed_dot = graphpaths2dot(G4, convertedPaths5, pathWeights5)\n",
    "G5_decomposed_dot"
   ]
  },
  {
   "cell_type": "markdown",
   "metadata": {},
   "source": [
    "<h3 style='background:yellow;padding:10px;color:black'><strong>TASK 12</strong></h3>\n",
    "\n",
    "- Are the paths resulting from the flow decomposition the same as the true transcripts? What about their coverage values (i.e. weights) retrieved from the flow?\n",
    "- Describe what are the strong and weak points of this model of RNA assembly?\n",
    "\n",
    "Let's visualize the true transcript here again, for convenience."
   ]
  },
  {
   "cell_type": "code",
   "execution_count": null,
   "metadata": {},
   "outputs": [],
   "source": [
    "G4_paths_dot = graphpaths2dot(G4, true_transcripts)\n",
    "G4_paths_dot"
   ]
  },
  {
   "cell_type": "markdown",
   "metadata": {},
   "source": [
    "---\n",
    "#### Your answers here ...\n",
    "---"
   ]
  }
 ],
 "metadata": {
  "kernelspec": {
   "display_name": "Python 3 (ipykernel)",
   "language": "python",
   "name": "python3"
  },
  "language_info": {
   "codemirror_mode": {
    "name": "ipython",
    "version": 3
   },
   "file_extension": ".py",
   "mimetype": "text/x-python",
   "name": "python",
   "nbconvert_exporter": "python",
   "pygments_lexer": "ipython3",
   "version": "3.9.6"
  }
 },
 "nbformat": 4,
 "nbformat_minor": 4
}
