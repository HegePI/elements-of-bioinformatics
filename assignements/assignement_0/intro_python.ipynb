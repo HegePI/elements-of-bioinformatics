{
 "cells": [
  {
   "cell_type": "markdown",
   "source": [
    "# Introduction to Python, Pandas and Seaborn"
   ],
   "metadata": {}
  },
  {
   "cell_type": "markdown",
   "source": [
    "# Python basics"
   ],
   "metadata": {}
  },
  {
   "cell_type": "markdown",
   "source": [
    "## Variables and simple output"
   ],
   "metadata": {}
  },
  {
   "cell_type": "markdown",
   "source": [
    "A **variable** is a recipient in which we _store_ a piece of data, to which we give a name :"
   ],
   "metadata": {}
  },
  {
   "cell_type": "code",
   "execution_count": 71,
   "source": [
    "number1 = 42\n",
    "string2 = \"hello\""
   ],
   "outputs": [],
   "metadata": {}
  },
  {
   "cell_type": "markdown",
   "source": [
    "The above code creates two variables : `number1` and `string2`.\n",
    "As we see, `number1` gets to store the number *42*, and `string2` gets to store a chain of characters (or *string*) representing the word _\"hello\"_.\n",
    "\n",
    "The easiest method to **output** what is stored in a variable is to use the function `print` :"
   ],
   "metadata": {}
  },
  {
   "cell_type": "code",
   "execution_count": 72,
   "source": [
    "print(number1)\n"
   ],
   "outputs": [
    {
     "output_type": "stream",
     "name": "stdout",
     "text": [
      "42\n"
     ]
    }
   ],
   "metadata": {}
  },
  {
   "cell_type": "code",
   "execution_count": 73,
   "source": [
    "print(string2)"
   ],
   "outputs": [
    {
     "output_type": "stream",
     "name": "stdout",
     "text": [
      "hello\n"
     ]
    }
   ],
   "metadata": {}
  },
  {
   "cell_type": "markdown",
   "source": [
    "The function `print` is a little bit more powerful, as it can output a lot of things :"
   ],
   "metadata": {}
  },
  {
   "cell_type": "code",
   "execution_count": 74,
   "source": [
    "print(\"Hello, World!\")"
   ],
   "outputs": [
    {
     "output_type": "stream",
     "name": "stdout",
     "text": [
      "Hello, World!\n"
     ]
    }
   ],
   "metadata": {}
  },
  {
   "cell_type": "code",
   "execution_count": 75,
   "source": [
    "print(\"variable 'number1' contains :\", number1)"
   ],
   "outputs": [
    {
     "output_type": "stream",
     "name": "stdout",
     "text": [
      "variable 'number1' contains : 42\n"
     ]
    }
   ],
   "metadata": {}
  },
  {
   "cell_type": "code",
   "execution_count": 76,
   "source": [
    "print(number1, \"°C\")"
   ],
   "outputs": [
    {
     "output_type": "stream",
     "name": "stdout",
     "text": [
      "42 °C\n"
     ]
    }
   ],
   "metadata": {}
  },
  {
   "cell_type": "markdown",
   "source": [
    "#### Exercise :"
   ],
   "metadata": {}
  },
  {
   "cell_type": "markdown",
   "source": [
    "Create 3 variables : the first one, `var1` will contain the number $3,14159$, the second one, `text` will contain the chain of characters *python*, and the third one, `not0` will contain the number *-20* :"
   ],
   "metadata": {}
  },
  {
   "cell_type": "code",
   "execution_count": 77,
   "source": [
    "var1 = 3.14159\n",
    "text = \"python\"\n",
    "not0 = -20\n"
   ],
   "outputs": [],
   "metadata": {}
  },
  {
   "cell_type": "markdown",
   "source": [
    "(Hints : a decimal number uses a simple dot `.` (not a comma !), a chain of characters is delimited by simple quotes `'` or double quotes `\"`, and putting a minus sign `-` in front of a number makes it negative.)"
   ],
   "metadata": {}
  },
  {
   "cell_type": "markdown",
   "source": [
    "## Simple operations"
   ],
   "metadata": {}
  },
  {
   "cell_type": "markdown",
   "source": [
    "It is as easy to perform operations on numbers as on your pocket calculator :"
   ],
   "metadata": {}
  },
  {
   "cell_type": "code",
   "execution_count": 78,
   "source": [
    "print(\"1 + 1 = \", 1 + 1)"
   ],
   "outputs": [
    {
     "output_type": "stream",
     "name": "stdout",
     "text": [
      "1 + 1 =  2\n"
     ]
    }
   ],
   "metadata": {}
  },
  {
   "cell_type": "markdown",
   "source": [
    "If the data stored in a variable is a number, it behaves exactly as a number :"
   ],
   "metadata": {}
  },
  {
   "cell_type": "code",
   "execution_count": 79,
   "source": [
    "a = 42\n",
    "print(a / 2)"
   ],
   "outputs": [
    {
     "output_type": "stream",
     "name": "stdout",
     "text": [
      "21.0\n"
     ]
    }
   ],
   "metadata": {}
  },
  {
   "cell_type": "markdown",
   "source": [
    "Note : Here we see that several instructions can be put in a row. They will be executed one after the other, in the order they appear."
   ],
   "metadata": {}
  },
  {
   "cell_type": "markdown",
   "source": [
    "#### Exercise :"
   ],
   "metadata": {}
  },
  {
   "cell_type": "markdown",
   "source": [
    "Do the multiplication `6 * 9`. Does it result in 42 ?"
   ],
   "metadata": {}
  },
  {
   "cell_type": "code",
   "execution_count": 80,
   "source": [
    "42 == (6*9)\n"
   ],
   "outputs": [
    {
     "output_type": "execute_result",
     "data": {
      "text/plain": [
       "False"
      ]
     },
     "metadata": {},
     "execution_count": 80
    }
   ],
   "metadata": {}
  },
  {
   "cell_type": "markdown",
   "source": [
    "What happens if you divide a number (say, 42) by zero ?"
   ],
   "metadata": {}
  },
  {
   "cell_type": "code",
   "execution_count": 81,
   "source": [
    "42/0"
   ],
   "outputs": [
    {
     "output_type": "error",
     "ename": "ZeroDivisionError",
     "evalue": "division by zero",
     "traceback": [
      "\u001b[0;31m---------------------------------------------------------------------------\u001b[0m",
      "\u001b[0;31mZeroDivisionError\u001b[0m                         Traceback (most recent call last)",
      "\u001b[0;32m/tmp/ipykernel_15900/3607229852.py\u001b[0m in \u001b[0;36m<module>\u001b[0;34m\u001b[0m\n\u001b[0;32m----> 1\u001b[0;31m \u001b[0;36m42\u001b[0m\u001b[0;34m/\u001b[0m\u001b[0;36m0\u001b[0m\u001b[0;34m\u001b[0m\u001b[0;34m\u001b[0m\u001b[0m\n\u001b[0m",
      "\u001b[0;31mZeroDivisionError\u001b[0m: division by zero"
     ]
    }
   ],
   "metadata": {}
  },
  {
   "cell_type": "markdown",
   "source": [
    "(Hint : if your error says `ZeroDivisionError: division by zero`, then you are correct.)"
   ],
   "metadata": {}
  },
  {
   "cell_type": "markdown",
   "source": [
    "## Lists and `for` loops"
   ],
   "metadata": {}
  },
  {
   "cell_type": "markdown",
   "source": [
    "What if we want to store a large set of **consecutive** results, so that we can `print` them later ? Well..."
   ],
   "metadata": {}
  },
  {
   "cell_type": "code",
   "execution_count": null,
   "source": [
    "result1 = 50\n",
    "result2 = -2\n",
    "result3 = 64\n",
    "result4 = 100\n",
    "# and so on"
   ],
   "outputs": [],
   "metadata": {}
  },
  {
   "cell_type": "markdown",
   "source": [
    "...is already boring to write, and..."
   ],
   "metadata": {}
  },
  {
   "cell_type": "code",
   "execution_count": null,
   "source": [
    "print(result1)\n",
    "print(result2)\n",
    "print(result3)\n",
    "print(result4)\n",
    "# and so on"
   ],
   "outputs": [
    {
     "output_type": "stream",
     "name": "stdout",
     "text": [
      "50\n",
      "-2\n",
      "64\n",
      "100\n"
     ]
    }
   ],
   "metadata": {}
  },
  {
   "cell_type": "markdown",
   "source": [
    "...is frankly _tedious_ .\n",
    "\n",
    "A **list** is a data structure that allows to store related elements **into one variable**. The point is to keep these elements **ordered**."
   ],
   "metadata": {}
  },
  {
   "cell_type": "code",
   "execution_count": null,
   "source": [
    "results = []\n",
    "results.append(50)\n",
    "results.append(-2)\n",
    "results.append(64)\n",
    "results.append(100)\n",
    "# still tedious right now"
   ],
   "outputs": [],
   "metadata": {}
  },
  {
   "cell_type": "markdown",
   "source": [
    "A `for` loop is a construct that **iterates** through a _collection_, where an **iterator** takes successively each value of the collection. Observe this :"
   ],
   "metadata": {}
  },
  {
   "cell_type": "code",
   "execution_count": null,
   "source": [
    "for elem in results:\n",
    "    print(elem)\n",
    "# that was way shorter to write :)"
   ],
   "outputs": [
    {
     "output_type": "stream",
     "name": "stdout",
     "text": [
      "50\n",
      "-2\n",
      "64\n",
      "100\n"
     ]
    }
   ],
   "metadata": {}
  },
  {
   "cell_type": "markdown",
   "source": [
    "The above code is going through each element stored in the variable `results`, and prints its content."
   ],
   "metadata": {}
  },
  {
   "cell_type": "markdown",
   "source": [
    "### Inline definition"
   ],
   "metadata": {}
  },
  {
   "cell_type": "markdown",
   "source": [
    "Compare the above definition of `results`, with this one :"
   ],
   "metadata": {}
  },
  {
   "cell_type": "code",
   "execution_count": null,
   "source": [
    "results = [50, -2, 64, 100]"
   ],
   "outputs": [],
   "metadata": {}
  },
  {
   "cell_type": "markdown",
   "source": [
    "Both lists actually store the **same** elements, but one is much shorter to write !\n",
    "And that way, the whole process is shorter, when outputting a long sequence of data :"
   ],
   "metadata": {}
  },
  {
   "cell_type": "code",
   "execution_count": null,
   "source": [
    "for elem in results:\n",
    "    print(elem)"
   ],
   "outputs": [
    {
     "output_type": "stream",
     "name": "stdout",
     "text": [
      "50\n",
      "-2\n",
      "64\n",
      "100\n"
     ]
    }
   ],
   "metadata": {}
  },
  {
   "cell_type": "markdown",
   "source": [
    "(For your information : _When to use the above compared to this one ?_ If you **know** in advance the data you want to store in a list, use this notation ; if you don't, use the `append` method.)"
   ],
   "metadata": {}
  },
  {
   "cell_type": "markdown",
   "source": [
    "#### Exercise :"
   ],
   "metadata": {}
  },
  {
   "cell_type": "markdown",
   "source": [
    "You are given a list of temperatures for several days, which goes as follows (in °C) :\n",
    "* day 1 : 5\n",
    "* day 2 : -2\n",
    "* day 3 : 0\n",
    "* day 4 : 1\n",
    "* day 5 : -5\n",
    "* day 6 : 3\n",
    "\n",
    "Use both methods to create a list `temperatures` to store the six temperatures, and use a `for` loop to print these temperatures with a _\"°C\"_ after the number :"
   ],
   "metadata": {}
  },
  {
   "cell_type": "code",
   "execution_count": null,
   "source": [
    "temperatures = [5, -2, 0, 1, -5, 3]\n",
    "for temp in temperatures:\n",
    "    print(temp, \"°C\")"
   ],
   "outputs": [
    {
     "output_type": "stream",
     "name": "stdout",
     "text": [
      "5 °C\n",
      "-2 °C\n",
      "0 °C\n",
      "1 °C\n",
      "-5 °C\n",
      "3 °C\n"
     ]
    }
   ],
   "metadata": {}
  },
  {
   "cell_type": "markdown",
   "source": [
    "(Hint : look above, where the `print` function is used, for the Celsius part.)"
   ],
   "metadata": {}
  },
  {
   "cell_type": "markdown",
   "source": [
    "## Blocks, indentation and instructions"
   ],
   "metadata": {}
  },
  {
   "cell_type": "markdown",
   "source": [
    "### Recap :"
   ],
   "metadata": {}
  },
  {
   "cell_type": "markdown",
   "source": [
    "Observe the following pieces of code :"
   ],
   "metadata": {}
  },
  {
   "cell_type": "code",
   "execution_count": null,
   "source": [
    "for elem in [1, 2]:\n",
    "    print(elem)"
   ],
   "outputs": [
    {
     "output_type": "stream",
     "name": "stdout",
     "text": [
      "1\n",
      "2\n"
     ]
    }
   ],
   "metadata": {}
  },
  {
   "cell_type": "code",
   "execution_count": null,
   "source": [
    "for _ in [1, 2]:\n",
    "    print(\"hello\")"
   ],
   "outputs": [
    {
     "output_type": "stream",
     "name": "stdout",
     "text": [
      "hello\n",
      "hello\n"
     ]
    }
   ],
   "metadata": {}
  },
  {
   "cell_type": "markdown",
   "source": [
    "In the first piece of code, the list $[1, 2]$ is **iterated through**, and we use `print` on each element `elem`. In the second piece of code, the same list is iterated through, but we just `print` _\"hello\"_."
   ],
   "metadata": {}
  },
  {
   "cell_type": "markdown",
   "source": [
    "### Novelty :"
   ],
   "metadata": {}
  },
  {
   "cell_type": "code",
   "execution_count": null,
   "source": [
    "for elem in [1, 2]:\n",
    "    print(elem)\n",
    "    print(\"hello\")"
   ],
   "outputs": [
    {
     "output_type": "stream",
     "name": "stdout",
     "text": [
      "1\n",
      "hello\n",
      "2\n",
      "hello\n"
     ]
    }
   ],
   "metadata": {}
  },
  {
   "cell_type": "code",
   "execution_count": null,
   "source": [
    "for elem in [1, 2]:\n",
    "    print(elem)\n",
    "print(\"hello\")"
   ],
   "outputs": [
    {
     "output_type": "stream",
     "name": "stdout",
     "text": [
      "1\n",
      "2\n",
      "hello\n"
     ]
    }
   ],
   "metadata": {}
  },
  {
   "cell_type": "markdown",
   "source": [
    "These pieces of code contain some novelty : in both codes we have a `for` loop and two **instructions** (here : `print`), but the output seems completely different ! Why ?\n",
    "\n",
    "It is due to **indentation**, which is the number of spaces before each instruction. In the first code, both have the same number, so they are considered as being part of the same **block** of instructions, whereas in the second, they are part of different blocks of instructions.\n",
    "\n",
    "The rule is the following : if instructions are part of the same block, they are executed consecutively.\n",
    "\n",
    " This is why in the first piece of code, the word _hello_ is printed after each content of the list. Whereas in the second piece of code, that second instruction is part of another block, and is therefore only executed **after** the `for` loop."
   ],
   "metadata": {}
  },
  {
   "cell_type": "markdown",
   "source": [
    "### Nested `for` loops :"
   ],
   "metadata": {}
  },
  {
   "cell_type": "markdown",
   "source": [
    "#### Exercise :"
   ],
   "metadata": {}
  },
  {
   "cell_type": "markdown",
   "source": [
    "Explain the behaviour of this code :"
   ],
   "metadata": {}
  },
  {
   "cell_type": "code",
   "execution_count": null,
   "source": [
    "for elem in [1, 2]:\n",
    "    print(elem)\n",
    "    for _ in [1, 2]:\n",
    "        print(\"hello\")"
   ],
   "outputs": [
    {
     "output_type": "stream",
     "name": "stdout",
     "text": [
      "1\n",
      "hello\n",
      "hello\n",
      "2\n",
      "hello\n",
      "hello\n"
     ]
    }
   ],
   "metadata": {}
  },
  {
   "cell_type": "markdown",
   "source": [
    "## Conditions"
   ],
   "metadata": {}
  },
  {
   "cell_type": "markdown",
   "source": [
    "What if we want to output _\"hello\"_ only if our list `results` contains a certain value, say $64$ ?\n",
    "\n",
    "This is where an `if` block is used :"
   ],
   "metadata": {}
  },
  {
   "cell_type": "code",
   "execution_count": null,
   "source": [
    "if 64 in results:\n",
    "    print(\"hello\")"
   ],
   "outputs": [
    {
     "output_type": "stream",
     "name": "stdout",
     "text": [
      "hello\n"
     ]
    }
   ],
   "metadata": {}
  },
  {
   "cell_type": "markdown",
   "source": [
    "And what if we also want to output _\"not hello\"_ if our list doesn't contain it ?"
   ],
   "metadata": {}
  },
  {
   "cell_type": "code",
   "execution_count": null,
   "source": [
    "if 64 in results:\n",
    "    print(\"hello\")\n",
    "else:\n",
    "    print(\"not hello\")"
   ],
   "outputs": [
    {
     "output_type": "stream",
     "name": "stdout",
     "text": [
      "hello\n"
     ]
    }
   ],
   "metadata": {}
  },
  {
   "cell_type": "markdown",
   "source": [
    "What can be observed here, is that this creates **blocks** of instructions. So for example, if we want to also append the number $42$ to the `results` list if it isn't already part of it, we can write the following :"
   ],
   "metadata": {}
  },
  {
   "cell_type": "code",
   "execution_count": null,
   "source": [
    "if 42 not in results:\n",
    "    print(\"not hello\")\n",
    "    results.append(42)"
   ],
   "outputs": [
    {
     "output_type": "stream",
     "name": "stdout",
     "text": [
      "not hello\n"
     ]
    }
   ],
   "metadata": {}
  },
  {
   "cell_type": "markdown",
   "source": [
    "#### Exercise :"
   ],
   "metadata": {}
  },
  {
   "cell_type": "markdown",
   "source": [
    "Create a list `numbers` containing the numbers $2$, $4$, $8$, $16$, $32$ and $128$ :"
   ],
   "metadata": {}
  },
  {
   "cell_type": "code",
   "execution_count": null,
   "source": [
    "numbers = [2, 4, 8, 16, 32, 128]\n"
   ],
   "outputs": [],
   "metadata": {}
  },
  {
   "cell_type": "markdown",
   "source": [
    "Now create a piece of code where you check if the number $64$ is included in `numbers`, and :\n",
    "* if it is, output _64 is included_\n",
    "* otherwise, append it to the list, and output _64 is now included_"
   ],
   "metadata": {}
  },
  {
   "cell_type": "code",
   "execution_count": null,
   "source": [
    "if 64 in numbers:\n",
    "    print(\"64 is included\")\n",
    "else:\n",
    "    numbers.append(64)\n",
    "    print(\"64 is now included\")"
   ],
   "outputs": [
    {
     "output_type": "stream",
     "name": "stdout",
     "text": [
      "64 is now included\n"
     ]
    }
   ],
   "metadata": {}
  },
  {
   "cell_type": "markdown",
   "source": [
    "Repeat here your previous code :"
   ],
   "metadata": {}
  },
  {
   "cell_type": "code",
   "execution_count": null,
   "source": [
    "if 64 in numbers:\n",
    "    print(\"64 is included\")\n",
    "else:\n",
    "    numbers.append(64)\n",
    "    print(\"64 is now included\")\n"
   ],
   "outputs": [
    {
     "output_type": "stream",
     "name": "stdout",
     "text": [
      "64 is included\n"
     ]
    }
   ],
   "metadata": {}
  },
  {
   "cell_type": "markdown",
   "source": [
    "What do you observe ?"
   ],
   "metadata": {}
  },
  {
   "cell_type": "markdown",
   "source": [
    "### Boolean expressions"
   ],
   "metadata": {}
  },
  {
   "cell_type": "markdown",
   "source": [
    "The above condition is of **boolean** nature : $64$ (or $42$) is **either** _in_ the list or _not in_ the list.\n",
    "\n",
    "Similarly, we might want to test if the value of an element is bigger or smaller than another value. Observe this :"
   ],
   "metadata": {}
  },
  {
   "cell_type": "code",
   "execution_count": null,
   "source": [
    "if 42 < 64:\n",
    "    print(\"42 is smaller than 64\")"
   ],
   "outputs": [
    {
     "output_type": "stream",
     "name": "stdout",
     "text": [
      "42 is smaller than 64\n"
     ]
    }
   ],
   "metadata": {}
  },
  {
   "cell_type": "code",
   "execution_count": null,
   "source": [
    "if 42 <= 42:\n",
    "    print(\"42 is smaller or equal to 42\")"
   ],
   "outputs": [
    {
     "output_type": "stream",
     "name": "stdout",
     "text": [
      "42 is smaller or equal to 42\n"
     ]
    }
   ],
   "metadata": {}
  },
  {
   "cell_type": "code",
   "execution_count": null,
   "source": [
    "if 42 > 64:\n",
    "    print(\"42 is not greater than 64\")"
   ],
   "outputs": [],
   "metadata": {}
  },
  {
   "cell_type": "code",
   "execution_count": null,
   "source": [
    "if 42 >= 42:\n",
    "    print(\"42 is greater or equal to 42\")"
   ],
   "outputs": [
    {
     "output_type": "stream",
     "name": "stdout",
     "text": [
      "42 is greater or equal to 42\n"
     ]
    }
   ],
   "metadata": {}
  },
  {
   "cell_type": "code",
   "execution_count": null,
   "source": [
    "if 4 != 42:\n",
    "    print(\"4 is different from 42\")"
   ],
   "outputs": [
    {
     "output_type": "stream",
     "name": "stdout",
     "text": [
      "4 is different from 42\n"
     ]
    }
   ],
   "metadata": {}
  },
  {
   "cell_type": "markdown",
   "source": [
    "**Important note :** We haven't considered checking if a number is the same as another number yet. This is because you should remember to use **the correct operator**, which is `==`. If you use a single `=`, it would mean that you're trying to store something into a variable, which is fundamentally different !\n",
    "\n",
    "Observe :"
   ],
   "metadata": {}
  },
  {
   "cell_type": "code",
   "execution_count": null,
   "source": [
    "if \"hello\" == \"hello\":\n",
    "    print(\"both strings are equal\")"
   ],
   "outputs": [
    {
     "output_type": "stream",
     "name": "stdout",
     "text": [
      "both strings are equal\n"
     ]
    }
   ],
   "metadata": {}
  },
  {
   "cell_type": "markdown",
   "source": [
    "### Combining boolean expressions"
   ],
   "metadata": {}
  },
  {
   "cell_type": "markdown",
   "source": [
    "Sometimes, we want to test several things at the same time ; this is where the keywords `and` and `or` come in.\n",
    "\n",
    "Observe :"
   ],
   "metadata": {}
  },
  {
   "cell_type": "code",
   "execution_count": null,
   "source": [
    "random_number = 4"
   ],
   "outputs": [],
   "metadata": {}
  },
  {
   "cell_type": "code",
   "execution_count": null,
   "source": [
    "if (random_number < 100) and (random_number not in results):\n",
    "    results.append(random_number)\n",
    "    print(\"appended the random number\")"
   ],
   "outputs": [
    {
     "output_type": "stream",
     "name": "stdout",
     "text": [
      "appended the random number\n"
     ]
    }
   ],
   "metadata": {}
  },
  {
   "cell_type": "code",
   "execution_count": null,
   "source": [
    "if (9 in results) or (random_number in results):\n",
    "    print(\"9 is not included, but the random number is\")"
   ],
   "outputs": [
    {
     "output_type": "stream",
     "name": "stdout",
     "text": [
      "9 is not included, but the random number is\n"
     ]
    }
   ],
   "metadata": {}
  },
  {
   "cell_type": "markdown",
   "source": [
    "Note : The parentheses around the boolean expressions are not mandatory here, but they are recommended if they make your code more readable."
   ],
   "metadata": {}
  },
  {
   "cell_type": "markdown",
   "source": [
    "### Nesting blocks"
   ],
   "metadata": {}
  },
  {
   "cell_type": "markdown",
   "source": [
    "All of these block types can be nested. For example, this is one of the ways how we can unique the elements of a list :"
   ],
   "metadata": {}
  },
  {
   "cell_type": "code",
   "execution_count": null,
   "source": [
    "numbers = [5, 2, 4, 5, 6, 4, -20, 2]"
   ],
   "outputs": [],
   "metadata": {}
  },
  {
   "cell_type": "code",
   "execution_count": null,
   "source": [
    "uniques = []\n",
    "\n",
    "for n in numbers:\n",
    "    if n not in uniques:\n",
    "        uniques.append(n)"
   ],
   "outputs": [],
   "metadata": {}
  },
  {
   "cell_type": "code",
   "execution_count": null,
   "source": [
    "print(numbers)\n",
    "print(uniques)"
   ],
   "outputs": [
    {
     "output_type": "stream",
     "name": "stdout",
     "text": [
      "[5, 2, 4, 5, 6, 4, -20, 2]\n",
      "[5, 2, 4, 6, -20]\n"
     ]
    }
   ],
   "metadata": {}
  },
  {
   "cell_type": "markdown",
   "source": [
    "Similarly, an `if` block can contain another `if` block :"
   ],
   "metadata": {}
  },
  {
   "cell_type": "code",
   "execution_count": null,
   "source": [
    "if random_number < 10:\n",
    "    if random_number > 0:\n",
    "        print(\"the random number is smaller than 10 and greater than 0\")"
   ],
   "outputs": [
    {
     "output_type": "stream",
     "name": "stdout",
     "text": [
      "the random number is smaller than 10 and greater than 0\n"
     ]
    }
   ],
   "metadata": {}
  },
  {
   "cell_type": "markdown",
   "source": [
    "#### Exercise :"
   ],
   "metadata": {}
  },
  {
   "cell_type": "markdown",
   "source": [
    "Print the elements of the above `uniques` list, but only when they are positive and their double is smaller than 10 :"
   ],
   "metadata": {}
  },
  {
   "cell_type": "code",
   "execution_count": 82,
   "source": [
    "for u in uniques:\n",
    "    if u > 0 and u*2 < 10:\n",
    "        print(u)\n"
   ],
   "outputs": [
    {
     "output_type": "stream",
     "name": "stdout",
     "text": [
      "2\n",
      "4\n"
     ]
    }
   ],
   "metadata": {}
  },
  {
   "cell_type": "markdown",
   "source": [
    "(Hint : Nest an `if` block in a `for` loop.)"
   ],
   "metadata": {}
  },
  {
   "cell_type": "markdown",
   "source": [
    "#### Exercise :"
   ],
   "metadata": {}
  },
  {
   "cell_type": "markdown",
   "source": [
    "Try to rewrite the following conditions as nested conditions :"
   ],
   "metadata": {}
  },
  {
   "cell_type": "code",
   "execution_count": null,
   "source": [
    "if random_number > 0 and (random_number < 10 and random_number - 2 > 0):\n",
    "    print(\"success ?\")"
   ],
   "outputs": [
    {
     "output_type": "stream",
     "name": "stdout",
     "text": [
      "success ?\n"
     ]
    }
   ],
   "metadata": {}
  },
  {
   "cell_type": "code",
   "execution_count": null,
   "source": [],
   "outputs": [],
   "metadata": {}
  },
  {
   "cell_type": "code",
   "execution_count": null,
   "source": [
    "if random_number > 0 and (random_number * 4 < 10 or random_number * 2 < 10):\n",
    "    print(\"success ?\")"
   ],
   "outputs": [
    {
     "output_type": "stream",
     "name": "stdout",
     "text": [
      "success ?\n"
     ]
    }
   ],
   "metadata": {}
  },
  {
   "cell_type": "code",
   "execution_count": null,
   "source": [],
   "outputs": [],
   "metadata": {}
  },
  {
   "cell_type": "markdown",
   "source": [
    "## Index in a list"
   ],
   "metadata": {}
  },
  {
   "cell_type": "markdown",
   "source": [
    "A list is an **ordered** collection of elements : there is a _first_ element, then a _second_ element, then a _third_ element, and so on. That means that we can access the stored data if we know its **index** in the list :"
   ],
   "metadata": {}
  },
  {
   "cell_type": "code",
   "execution_count": null,
   "source": [
    "print(numbers)"
   ],
   "outputs": [
    {
     "output_type": "stream",
     "name": "stdout",
     "text": [
      "[5, 2, 4, 5, 6, 4, -20, 2]\n"
     ]
    }
   ],
   "metadata": {}
  },
  {
   "cell_type": "code",
   "execution_count": null,
   "source": [
    "print(\" first element :\", numbers[0])\n",
    "print(\"second element :\", numbers[1])\n",
    "print(\"fourth element :\", numbers[3])\n",
    "print(\"  last element :\", numbers[-1])"
   ],
   "outputs": [
    {
     "output_type": "stream",
     "name": "stdout",
     "text": [
      " first element : 5\n",
      "second element : 2\n",
      "fourth element : 5\n",
      "  last element : 2\n"
     ]
    }
   ],
   "metadata": {}
  },
  {
   "cell_type": "markdown",
   "source": [
    "**Important note** : The index of a list starts at $0$, not at 1.\n",
    "\n",
    "Additionally, we can that way also modify the data stored at a certain index :"
   ],
   "metadata": {}
  },
  {
   "cell_type": "code",
   "execution_count": null,
   "source": [
    "numbers[3] = 42"
   ],
   "outputs": [],
   "metadata": {}
  },
  {
   "cell_type": "code",
   "execution_count": null,
   "source": [
    "print(numbers)"
   ],
   "outputs": [
    {
     "output_type": "stream",
     "name": "stdout",
     "text": [
      "[5, 2, 4, 42, 6, 4, -20, 2]\n"
     ]
    }
   ],
   "metadata": {}
  },
  {
   "cell_type": "markdown",
   "source": [
    "Notice the change, compared to above : the fourth element went from being $5$ to being $42$."
   ],
   "metadata": {}
  },
  {
   "cell_type": "markdown",
   "source": [
    "#### Exercise :"
   ],
   "metadata": {}
  },
  {
   "cell_type": "markdown",
   "source": [
    "Using the above `numbers` list, output the content of the third element ($4$) and the second last element ($-20$) :"
   ],
   "metadata": {}
  },
  {
   "cell_type": "code",
   "execution_count": null,
   "source": [],
   "outputs": [],
   "metadata": {}
  },
  {
   "cell_type": "markdown",
   "source": [
    "Now, modify the list so that $42$ becomes $16$, and $-20$ becomes $0$ :"
   ],
   "metadata": {}
  },
  {
   "cell_type": "code",
   "execution_count": null,
   "source": [],
   "outputs": [],
   "metadata": {}
  },
  {
   "cell_type": "markdown",
   "source": [
    "Finally, try to access the tenth element of the list :"
   ],
   "metadata": {}
  },
  {
   "cell_type": "code",
   "execution_count": null,
   "source": [],
   "outputs": [],
   "metadata": {}
  },
  {
   "cell_type": "markdown",
   "source": [
    "(Hint : if your error says `IndexError: list index out of range`, then you are correct.)"
   ],
   "metadata": {}
  },
  {
   "cell_type": "markdown",
   "source": [
    "## Dictionaries"
   ],
   "metadata": {}
  },
  {
   "cell_type": "markdown",
   "source": [
    "Let's say we want to store people's name and age. With lists, we would do this :"
   ],
   "metadata": {}
  },
  {
   "cell_type": "code",
   "execution_count": null,
   "source": [
    "names = [\"Pekka\", \"Francesca\", \"Hans\", \"Isabelle\", \"Stijn\", \"Marina\"]\n",
    "ages  = [73,      18,          93,     28,         36,      6]"
   ],
   "outputs": [],
   "metadata": {}
  },
  {
   "cell_type": "markdown",
   "source": [
    "Now let's assume we want to find how old _Isabelle_ is. We would have to find the index where her name is stored, and then use it to find her age :"
   ],
   "metadata": {}
  },
  {
   "cell_type": "code",
   "execution_count": null,
   "source": [
    "print(names[3])\n",
    "print(\"Isabelle is\", ages[3], \"years old.\")"
   ],
   "outputs": [
    {
     "output_type": "stream",
     "name": "stdout",
     "text": [
      "Isabelle\n",
      "Isabelle is 28 years old.\n"
     ]
    }
   ],
   "metadata": {}
  },
  {
   "cell_type": "markdown",
   "source": [
    "This is quite an annoying thing to do. Let's try something different :"
   ],
   "metadata": {}
  },
  {
   "cell_type": "code",
   "execution_count": null,
   "source": [
    "ages = { \"Pekka\": 73, \"Francesca\": 18, \"Hans\": 93, \"Isabelle\": 28, \"Stijn\": 36, \"Marina\": 6 }"
   ],
   "outputs": [],
   "metadata": {}
  },
  {
   "cell_type": "markdown",
   "source": [
    "This data structure is called a **dictionary** : it associates a **key** (here the name) to a **value** (here the age). Let's find out how old _Pekka_ is :"
   ],
   "metadata": {}
  },
  {
   "cell_type": "code",
   "execution_count": null,
   "source": [
    "print(\"Pekka is\", ages[\"Pekka\"], \"years old.\")"
   ],
   "outputs": [
    {
     "output_type": "stream",
     "name": "stdout",
     "text": [
      "Pekka is 73 years old.\n"
     ]
    }
   ],
   "metadata": {}
  },
  {
   "cell_type": "markdown",
   "source": [
    "One advantage of dictionaries is that we can add data on the fly :"
   ],
   "metadata": {}
  },
  {
   "cell_type": "code",
   "execution_count": null,
   "source": [
    "ages[\"Ueli\"] = 45"
   ],
   "outputs": [],
   "metadata": {}
  },
  {
   "cell_type": "markdown",
   "source": [
    "## Functions"
   ],
   "metadata": {}
  },
  {
   "cell_type": "markdown",
   "source": [
    "Whenever we write code, there is often the need to perform the same routines.\n",
    "\n",
    "For example, obtaining the length of the `results` list can be this way :"
   ],
   "metadata": {}
  },
  {
   "cell_type": "code",
   "execution_count": null,
   "source": [
    "length = 0\n",
    "\n",
    "for _ in results:\n",
    "    length = length + 1\n",
    "\n",
    "print(\"length of 'results' =\", length)"
   ],
   "outputs": [
    {
     "output_type": "stream",
     "name": "stdout",
     "text": [
      "length of 'results' = 6\n"
     ]
    }
   ],
   "metadata": {}
  },
  {
   "cell_type": "markdown",
   "source": [
    "And to obtain the length of the `numbers` list :"
   ],
   "metadata": {}
  },
  {
   "cell_type": "code",
   "execution_count": null,
   "source": [
    "length = 0\n",
    "\n",
    "for _ in numbers:\n",
    "    length = length + 1\n",
    "\n",
    "print(\"length of 'numbers' =\", length)"
   ],
   "outputs": [
    {
     "output_type": "stream",
     "name": "stdout",
     "text": [
      "length of 'numbers' = 8\n"
     ]
    }
   ],
   "metadata": {}
  },
  {
   "cell_type": "markdown",
   "source": [
    "It is obvious that hardly anything changes between those two pieces of code (and they actually have been copy-pasted !). Wouldn't it be nice if we didn't have to copy-paste it ?\n",
    "\n",
    "By defining a **function** (here called `length_of`), we can do this :"
   ],
   "metadata": {}
  },
  {
   "cell_type": "code",
   "execution_count": null,
   "source": [
    "def length_of(xs):\n",
    "    length = 0\n",
    "    \n",
    "    for _ in xs:\n",
    "        length = length + 1\n",
    "    \n",
    "    return length"
   ],
   "outputs": [],
   "metadata": {}
  },
  {
   "cell_type": "code",
   "execution_count": null,
   "source": [
    "print(\"length of 'results' =\", length_of(results))\n",
    "print(\"length of 'numbers' =\", length_of(numbers))"
   ],
   "outputs": [
    {
     "output_type": "stream",
     "name": "stdout",
     "text": [
      "length of 'results' = 6\n",
      "length of 'numbers' = 8\n"
     ]
    }
   ],
   "metadata": {}
  },
  {
   "cell_type": "markdown",
   "source": [
    "There are a few new elements, here :\n",
    "* The keyword `def` indicates the definition of a function.\n",
    "* The definition of a function is a **block** of instructions, in which blocks can be nested (for example, here the `for` loop).\n",
    "* A function takes a certain number of **parametres**, which are the ones written in the parentheses ; this number could be any number, including no parametres at all.\n",
    "* The function is **called** by writing its name, followed by parentheses, containing the values we want to give to its parametres.\n",
    "* A function is equal to the value that follows the keyword **return**."
   ],
   "metadata": {}
  },
  {
   "cell_type": "markdown",
   "source": [
    "### More on parametres"
   ],
   "metadata": {}
  },
  {
   "cell_type": "markdown",
   "source": [
    "Let's illustrate a function without parametre and one which has one :"
   ],
   "metadata": {}
  },
  {
   "cell_type": "code",
   "execution_count": null,
   "source": [
    "def say_hello():\n",
    "    print(\"hello\")\n",
    "\n",
    "def say(words):\n",
    "    print(words)"
   ],
   "outputs": [],
   "metadata": {}
  },
  {
   "cell_type": "code",
   "execution_count": null,
   "source": [
    "say_hello()\n",
    "\n",
    "say(\"hello\")\n",
    "say(words = \"good bye\")"
   ],
   "outputs": [
    {
     "output_type": "stream",
     "name": "stdout",
     "text": [
      "hello\n",
      "hello\n",
      "good bye\n"
     ]
    }
   ],
   "metadata": {}
  },
  {
   "cell_type": "markdown",
   "source": [
    "Observe how the parametre name can be omitted or indicated, upon function call.\n",
    "\n",
    "Now, let's illustrate a function with two parametres :"
   ],
   "metadata": {}
  },
  {
   "cell_type": "code",
   "execution_count": null,
   "source": [
    "def subtract(x, y):\n",
    "    return x - y"
   ],
   "outputs": [],
   "metadata": {}
  },
  {
   "cell_type": "code",
   "execution_count": null,
   "source": [
    "print(subtract(64, 32))\n",
    "print(subtract(32, 64))\n",
    "\n",
    "print(subtract(x = 64, y = 32))\n",
    "print(subtract(y = 32, x = 64))\n",
    "\n",
    "print(subtract(64, y = 32))"
   ],
   "outputs": [
    {
     "output_type": "stream",
     "name": "stdout",
     "text": [
      "32\n",
      "-32\n",
      "32\n",
      "32\n",
      "32\n"
     ]
    }
   ],
   "metadata": {}
  },
  {
   "cell_type": "markdown",
   "source": [
    "The first two calls to `subtract` show the importance of the **order** in which the parametres are provided. The next two calls show a cool trick to bypass this order constraint : provide the parametres names. Finally, the last call shows that you don't need to resort to either one or the other.\n",
    "\n",
    "Finally, let's illustrate a function that has a **default** value :"
   ],
   "metadata": {}
  },
  {
   "cell_type": "code",
   "execution_count": null,
   "source": [
    "def print_error(msg, prefix = \"error\"):\n",
    "    print(prefix, \":\", msg)"
   ],
   "outputs": [],
   "metadata": {}
  },
  {
   "cell_type": "code",
   "execution_count": null,
   "source": [
    "print_error(\"you made a mistake\")\n",
    "print_error(msg = \"you made a mistake\")\n",
    "\n",
    "print_error(\"write code, not poems\", \"usage\")\n",
    "print_error(prefix = \"usage\", msg = \"write code, not poems\")"
   ],
   "outputs": [
    {
     "output_type": "stream",
     "name": "stdout",
     "text": [
      "error : you made a mistake\n",
      "error : you made a mistake\n",
      "usage : write code, not poems\n",
      "usage : write code, not poems\n"
     ]
    }
   ],
   "metadata": {}
  },
  {
   "cell_type": "markdown",
   "source": [
    "Here we see that if a default value is provided for a parametre, we can leave it unspecified when calling the function if we want. Otherwise, it behaves the same way as usual."
   ],
   "metadata": {}
  },
  {
   "cell_type": "markdown",
   "source": [
    "#### Exercise :"
   ],
   "metadata": {}
  },
  {
   "cell_type": "markdown",
   "source": [
    "Write a function `add` that returns the sum of three numbers it takes as parametres :"
   ],
   "metadata": {}
  },
  {
   "cell_type": "code",
   "execution_count": null,
   "source": [],
   "outputs": [],
   "metadata": {}
  },
  {
   "cell_type": "markdown",
   "source": [
    "## Some useful functions"
   ],
   "metadata": {}
  },
  {
   "cell_type": "markdown",
   "source": [
    "Python comes with some useful functions that allow you to do a few useful tricks. Here are a few of them :\n",
    "* the `len` function allows to obtain the length of any iterable collection :"
   ],
   "metadata": {}
  },
  {
   "cell_type": "code",
   "execution_count": null,
   "source": [
    "print(len(names))\n",
    "print(len(ages))"
   ],
   "outputs": [
    {
     "output_type": "stream",
     "name": "stdout",
     "text": [
      "6\n",
      "7\n"
     ]
    }
   ],
   "metadata": {}
  },
  {
   "cell_type": "markdown",
   "source": [
    "* the `range` function creates an iterable collection of numbers up to the one specified :"
   ],
   "metadata": {}
  },
  {
   "cell_type": "code",
   "execution_count": null,
   "source": [
    "for i in range(10):\n",
    "    print(i)"
   ],
   "outputs": [
    {
     "output_type": "stream",
     "name": "stdout",
     "text": [
      "0\n",
      "1\n",
      "2\n",
      "3\n",
      "4\n",
      "5\n",
      "6\n",
      "7\n",
      "8\n",
      "9\n"
     ]
    }
   ],
   "metadata": {}
  },
  {
   "cell_type": "markdown",
   "source": [
    "These two functions combined allow to do some interesting things. Observe :"
   ],
   "metadata": {}
  },
  {
   "cell_type": "code",
   "execution_count": null,
   "source": [
    "for n in numbers:\n",
    "    print(n)"
   ],
   "outputs": [
    {
     "output_type": "stream",
     "name": "stdout",
     "text": [
      "5\n",
      "2\n",
      "4\n",
      "42\n",
      "6\n",
      "4\n",
      "-20\n",
      "2\n"
     ]
    }
   ],
   "metadata": {}
  },
  {
   "cell_type": "code",
   "execution_count": null,
   "source": [
    "for i in range(len(numbers)):\n",
    "    print(numbers[i])"
   ],
   "outputs": [
    {
     "output_type": "stream",
     "name": "stdout",
     "text": [
      "5\n",
      "2\n",
      "4\n",
      "42\n",
      "6\n",
      "4\n",
      "-20\n",
      "2\n"
     ]
    }
   ],
   "metadata": {}
  },
  {
   "cell_type": "markdown",
   "source": [
    "* the `sum` function adds the various elements of an iterable collection :"
   ],
   "metadata": {}
  },
  {
   "cell_type": "code",
   "execution_count": null,
   "source": [
    "print(sum(numbers))"
   ],
   "outputs": [
    {
     "output_type": "stream",
     "name": "stdout",
     "text": [
      "45\n"
     ]
    }
   ],
   "metadata": {}
  },
  {
   "cell_type": "markdown",
   "source": [
    "* the `sorted` function, which returns a sorted version of an iterable collection :"
   ],
   "metadata": {}
  },
  {
   "cell_type": "code",
   "execution_count": null,
   "source": [
    "print(sorted(numbers))"
   ],
   "outputs": [
    {
     "output_type": "stream",
     "name": "stdout",
     "text": [
      "[-20, 2, 2, 4, 4, 5, 6, 42]\n"
     ]
    }
   ],
   "metadata": {}
  },
  {
   "cell_type": "markdown",
   "source": [
    "* the `int`, `float` and `list` functions, that convert data into other types of data :"
   ],
   "metadata": {}
  },
  {
   "cell_type": "code",
   "execution_count": null,
   "source": [
    "print(int(-273.15))\n",
    "print(float(\"-273.15\"))\n",
    "\n",
    "print(list(range(10)))"
   ],
   "outputs": [
    {
     "output_type": "stream",
     "name": "stdout",
     "text": [
      "-273\n",
      "-273.15\n",
      "[0, 1, 2, 3, 4, 5, 6, 7, 8, 9]\n"
     ]
    }
   ],
   "metadata": {}
  },
  {
   "cell_type": "markdown",
   "source": [
    "As we see, using the `int` function on a float removes its decimal part."
   ],
   "metadata": {}
  },
  {
   "cell_type": "markdown",
   "source": [
    "#### Exercise :"
   ],
   "metadata": {}
  },
  {
   "cell_type": "markdown",
   "source": [
    "Use the `len` function on the `numbers` variable, and store it in a variable `n` :"
   ],
   "metadata": {}
  },
  {
   "cell_type": "code",
   "execution_count": null,
   "source": [
    "n = "
   ],
   "outputs": [
    {
     "output_type": "error",
     "ename": "SyntaxError",
     "evalue": "invalid syntax (2472302036.py, line 1)",
     "traceback": [
      "\u001b[0;36m  File \u001b[0;32m\"/tmp/ipykernel_39181/2472302036.py\"\u001b[0;36m, line \u001b[0;32m1\u001b[0m\n\u001b[0;31m    n =\u001b[0m\n\u001b[0m        ^\u001b[0m\n\u001b[0;31mSyntaxError\u001b[0m\u001b[0;31m:\u001b[0m invalid syntax\n"
     ]
    }
   ],
   "metadata": {}
  },
  {
   "cell_type": "markdown",
   "source": [
    "Use the `sorted` function on the `numbers` variable, and store it in a list `l` :"
   ],
   "metadata": {}
  },
  {
   "cell_type": "code",
   "execution_count": null,
   "source": [
    "l = "
   ],
   "outputs": [],
   "metadata": {}
  },
  {
   "cell_type": "markdown",
   "source": [
    "Now, print the median of the numbers by using `int(n/2)` as index for `l` :"
   ],
   "metadata": {}
  },
  {
   "cell_type": "code",
   "execution_count": null,
   "source": [],
   "outputs": [],
   "metadata": {}
  },
  {
   "cell_type": "markdown",
   "source": [
    "## Objects"
   ],
   "metadata": {}
  },
  {
   "cell_type": "markdown",
   "source": [
    "Not everything in Python is numbers. Most of the data you will encounter are actually **objects**.\n",
    "\n",
    "The short and easy way to explain object-oriented programming is, here : objects have **properties** and **methods**. You access them by putting a dot `.` between the variable in which it is stored and the name of the method (or property) :"
   ],
   "metadata": {}
  },
  {
   "cell_type": "code",
   "execution_count": null,
   "source": [
    "print(\"'numbers' contains\", numbers.count(4), \"times the number 4\")\n",
    "print(\"The index of Isabelle in 'names' is\", names.index(\"Isabelle\"))"
   ],
   "outputs": [],
   "metadata": {}
  },
  {
   "cell_type": "markdown",
   "source": [
    "**Spoiler :** Lists are objects, and `append` is one of their methods ! So are dictionaries and strings."
   ],
   "metadata": {}
  },
  {
   "cell_type": "markdown",
   "source": [
    "## Modules"
   ],
   "metadata": {}
  },
  {
   "cell_type": "markdown",
   "source": [
    "In the same way that we use functions as a way to reduce the amount of repeated code, we use **modules** as a way to reduce the number of times we rewrite functions across files and projects. More importantly, it also allows to share code with other people in a cleaner way.\n",
    "\n",
    "In order to use things defined in a module, we use the **import** keyword :"
   ],
   "metadata": {}
  },
  {
   "cell_type": "code",
   "execution_count": null,
   "source": [
    "import numpy as np"
   ],
   "outputs": [],
   "metadata": {}
  },
  {
   "cell_type": "markdown",
   "source": [
    "What we see here additionally is that we can rename a module using the **as** keyword. From now on, we can use objects and functions from the _NumPy_ project in the following way :"
   ],
   "metadata": {}
  },
  {
   "cell_type": "code",
   "execution_count": null,
   "source": [
    "print(np.array(numbers))"
   ],
   "outputs": [],
   "metadata": {}
  },
  {
   "cell_type": "markdown",
   "source": [
    "#### Exercise :"
   ],
   "metadata": {}
  },
  {
   "cell_type": "markdown",
   "source": [
    "Import the _pandas_ module as _pd_ :"
   ],
   "metadata": {}
  },
  {
   "cell_type": "code",
   "execution_count": null,
   "source": [],
   "outputs": [],
   "metadata": {}
  },
  {
   "cell_type": "markdown",
   "source": [
    "# NumPy and PyPlot basics"
   ],
   "metadata": {}
  },
  {
   "cell_type": "markdown",
   "source": [
    "**_NumPy_** contains a lot of things, and not all of them are useful for us here. We will restrict ourselves therefore to one data structure, which is the `np.array`. It is an object that looks like our lists from before, except it can do more things."
   ],
   "metadata": {}
  },
  {
   "cell_type": "code",
   "execution_count": null,
   "source": [
    "import numpy as np\n"
   ],
   "outputs": [],
   "metadata": {}
  },
  {
   "cell_type": "markdown",
   "source": [
    "## Creating an `np.array`"
   ],
   "metadata": {}
  },
  {
   "cell_type": "markdown",
   "source": [
    "As a starter, there are several ways to create an `np.array` :\n",
    "* From a regular `list` :"
   ],
   "metadata": {}
  },
  {
   "cell_type": "code",
   "execution_count": null,
   "source": [
    "np.array([1, 2, 4, 8, 16, 32])"
   ],
   "outputs": [
    {
     "output_type": "execute_result",
     "data": {
      "text/plain": [
       "array([ 1,  2,  4,  8, 16, 32])"
      ]
     },
     "metadata": {},
     "execution_count": 67
    }
   ],
   "metadata": {}
  },
  {
   "cell_type": "markdown",
   "source": [
    "* As an array of zeroes :"
   ],
   "metadata": {}
  },
  {
   "cell_type": "code",
   "execution_count": null,
   "source": [
    "np.zeros(10)"
   ],
   "outputs": [
    {
     "output_type": "execute_result",
     "data": {
      "text/plain": [
       "array([0., 0., 0., 0., 0., 0., 0., 0., 0., 0.])"
      ]
     },
     "metadata": {},
     "execution_count": 68
    }
   ],
   "metadata": {}
  },
  {
   "cell_type": "markdown",
   "source": [
    "## Multiple dimensions"
   ],
   "metadata": {}
  },
  {
   "cell_type": "markdown",
   "source": [
    "One nice thing with `np.array` is that they can have multiple dimensions. Let's create two of them :"
   ],
   "metadata": {}
  },
  {
   "cell_type": "code",
   "execution_count": null,
   "source": [
    "np.array([[1, 2], [3, 4]])"
   ],
   "outputs": [],
   "metadata": {}
  },
  {
   "cell_type": "code",
   "execution_count": null,
   "source": [
    "np.zeros((3, 4))"
   ],
   "outputs": [],
   "metadata": {}
  },
  {
   "cell_type": "markdown",
   "source": [
    "The way we can access the various dimensions is by using the `shape` property :"
   ],
   "metadata": {}
  },
  {
   "cell_type": "code",
   "execution_count": null,
   "source": [
    "array = np.array([[1, 2, 3], [4, 5, 6]])\n",
    "\n",
    "print(array.shape)"
   ],
   "outputs": [],
   "metadata": {}
  },
  {
   "cell_type": "markdown",
   "source": [
    "## Accessing elements and modifying an `np.array`"
   ],
   "metadata": {}
  },
  {
   "cell_type": "markdown",
   "source": [
    "The dimensions of an `np.array` are fixed, so unlike a `list` object, we cannot append elements. On the other hand, we can access and modify elements much easier :"
   ],
   "metadata": {}
  },
  {
   "cell_type": "code",
   "execution_count": null,
   "source": [
    "array = np.array(numbers)\n",
    "\n",
    "print(numbers[5])\n",
    "print(array[5])"
   ],
   "outputs": [],
   "metadata": {}
  },
  {
   "cell_type": "markdown",
   "source": [
    "Especially for multidimensional arrays, we can now use the following notation :"
   ],
   "metadata": {}
  },
  {
   "cell_type": "code",
   "execution_count": null,
   "source": [
    "array = np.zeros((3, 4))\n",
    "\n",
    "array[2, 1] = 1"
   ],
   "outputs": [],
   "metadata": {}
  },
  {
   "cell_type": "code",
   "execution_count": null,
   "source": [
    "print(array)"
   ],
   "outputs": [],
   "metadata": {}
  },
  {
   "cell_type": "markdown",
   "source": [
    "We can obtain the values according to the first dimension this way :"
   ],
   "metadata": {}
  },
  {
   "cell_type": "code",
   "execution_count": null,
   "source": [
    "array[2]"
   ],
   "outputs": [],
   "metadata": {}
  },
  {
   "cell_type": "markdown",
   "source": [
    "Or the second dimension that way :"
   ],
   "metadata": {}
  },
  {
   "cell_type": "code",
   "execution_count": null,
   "source": [
    "array[:, 1]"
   ],
   "outputs": [],
   "metadata": {}
  },
  {
   "cell_type": "markdown",
   "source": [
    "This will set all the values of the second row to $2$ :"
   ],
   "metadata": {}
  },
  {
   "cell_type": "code",
   "execution_count": null,
   "source": [
    "array[1] = 2\n",
    "\n",
    "print(array)"
   ],
   "outputs": [],
   "metadata": {}
  },
  {
   "cell_type": "markdown",
   "source": [
    "And this will set the third column to $-1$ :"
   ],
   "metadata": {}
  },
  {
   "cell_type": "code",
   "execution_count": null,
   "source": [
    "array[:, 2] = -1\n",
    "\n",
    "print(array)"
   ],
   "outputs": [],
   "metadata": {}
  },
  {
   "cell_type": "markdown",
   "source": [
    "#### Exercise :"
   ],
   "metadata": {}
  },
  {
   "cell_type": "markdown",
   "source": [
    "Create an array called `ys`, from our `numbers` list :"
   ],
   "metadata": {}
  },
  {
   "cell_type": "code",
   "execution_count": null,
   "source": [
    "ys = "
   ],
   "outputs": [],
   "metadata": {}
  },
  {
   "cell_type": "markdown",
   "source": [
    "## Operations on `np.array`"
   ],
   "metadata": {}
  },
  {
   "cell_type": "markdown",
   "source": [
    "Observe the result of the following operations :"
   ],
   "metadata": {}
  },
  {
   "cell_type": "code",
   "execution_count": null,
   "source": [
    "array + 1"
   ],
   "outputs": [],
   "metadata": {}
  },
  {
   "cell_type": "code",
   "execution_count": null,
   "source": [
    "array * 2"
   ],
   "outputs": [],
   "metadata": {}
  },
  {
   "cell_type": "code",
   "execution_count": null,
   "source": [
    "array * array"
   ],
   "outputs": [],
   "metadata": {}
  },
  {
   "cell_type": "markdown",
   "source": [
    "What happens when we use another array ? Let's see :"
   ],
   "metadata": {}
  },
  {
   "cell_type": "code",
   "execution_count": null,
   "source": [
    "array + np.array([1, 2, 3, 4])"
   ],
   "outputs": [],
   "metadata": {}
  },
  {
   "cell_type": "code",
   "execution_count": null,
   "source": [
    "array * np.array([1, 2, 3, 4])"
   ],
   "outputs": [],
   "metadata": {}
  },
  {
   "cell_type": "markdown",
   "source": [
    "## Operations on dimensions"
   ],
   "metadata": {}
  },
  {
   "cell_type": "markdown",
   "source": [
    "The following methods might be useful during this class :\n",
    "* The **transpose** is the inversion of its axes. Compare :"
   ],
   "metadata": {}
  },
  {
   "cell_type": "code",
   "execution_count": null,
   "source": [
    "print(array)"
   ],
   "outputs": [],
   "metadata": {}
  },
  {
   "cell_type": "code",
   "execution_count": null,
   "source": [
    "print(array.T)"
   ],
   "outputs": [],
   "metadata": {}
  },
  {
   "cell_type": "markdown",
   "source": [
    "* The `reshape` method creates a copy with different number of dimensions. Compare :"
   ],
   "metadata": {}
  },
  {
   "cell_type": "code",
   "execution_count": null,
   "source": [
    "np.array(numbers)"
   ],
   "outputs": [],
   "metadata": {}
  },
  {
   "cell_type": "code",
   "execution_count": null,
   "source": [
    "np.array(numbers).reshape((2, 4))"
   ],
   "outputs": [],
   "metadata": {}
  },
  {
   "cell_type": "markdown",
   "source": [
    "#### Exercise :"
   ],
   "metadata": {}
  },
  {
   "cell_type": "markdown",
   "source": [
    "From the previous exercise's `ys` variable, use its `reshape` method to create a 4x2 array :"
   ],
   "metadata": {}
  },
  {
   "cell_type": "code",
   "execution_count": null,
   "source": [],
   "outputs": [],
   "metadata": {}
  },
  {
   "cell_type": "markdown",
   "source": [
    "## Mathematical operations"
   ],
   "metadata": {}
  },
  {
   "cell_type": "markdown",
   "source": [
    "_NumPy_ comes with several common mathematical operations, such as `np.exp`, `np.log`, `np.sqrt` and `np.power` :"
   ],
   "metadata": {}
  },
  {
   "cell_type": "code",
   "execution_count": null,
   "source": [
    "np.exp(array)"
   ],
   "outputs": [],
   "metadata": {}
  },
  {
   "cell_type": "code",
   "execution_count": null,
   "source": [
    "np.log(array)"
   ],
   "outputs": [],
   "metadata": {}
  },
  {
   "cell_type": "code",
   "execution_count": null,
   "source": [
    "np.sqrt(array)"
   ],
   "outputs": [],
   "metadata": {}
  },
  {
   "cell_type": "code",
   "execution_count": null,
   "source": [
    "np.power(array, 3)"
   ],
   "outputs": [],
   "metadata": {}
  },
  {
   "cell_type": "markdown",
   "source": [
    "#### Exercise :"
   ],
   "metadata": {}
  },
  {
   "cell_type": "markdown",
   "source": [
    "Use `np.exp` on `array` and store it in a variable `x` :"
   ],
   "metadata": {}
  },
  {
   "cell_type": "code",
   "execution_count": null,
   "source": [
    "x = "
   ],
   "outputs": [],
   "metadata": {}
  },
  {
   "cell_type": "markdown",
   "source": [
    "Now use `np.log` on `x` :"
   ],
   "metadata": {}
  },
  {
   "cell_type": "code",
   "execution_count": null,
   "source": [],
   "outputs": [],
   "metadata": {}
  },
  {
   "cell_type": "markdown",
   "source": [
    "What do you observe ?"
   ],
   "metadata": {}
  },
  {
   "cell_type": "markdown",
   "source": [
    "## PyPlot basics"
   ],
   "metadata": {}
  },
  {
   "cell_type": "markdown",
   "source": [
    "_**PyPlot**_ is a gigantic module. We will restrict ourselves here to only four types of plots."
   ],
   "metadata": {}
  },
  {
   "cell_type": "code",
   "execution_count": null,
   "source": [
    "import matplotlib.pyplot as plt"
   ],
   "outputs": [],
   "metadata": {}
  },
  {
   "cell_type": "markdown",
   "source": [
    "The main idea is that you can create the canvas of a figure as an `Axes` object, and then either call its **plotting methods** or set its **axes properties**."
   ],
   "metadata": {}
  },
  {
   "cell_type": "code",
   "execution_count": null,
   "source": [
    "_, ax = plt.subplots(figsize = (16, 10))"
   ],
   "outputs": [],
   "metadata": {}
  },
  {
   "cell_type": "markdown",
   "source": [
    "### Plotting lines"
   ],
   "metadata": {}
  },
  {
   "cell_type": "code",
   "execution_count": null,
   "source": [
    "_, axes = plt.subplots(figsize = (16, 10))\n",
    "\n",
    "# calling a plotting method\n",
    "axes.plot(numbers)\n",
    "\n",
    "# changing the axes properties\n",
    "axes.set_xlabel(\"index\")\n",
    "axes.set_ylabel(\"number\")\n",
    "axes.set_title(\"numbers\");"
   ],
   "outputs": [],
   "metadata": {}
  },
  {
   "cell_type": "markdown",
   "source": [
    "It is possible to plot several lines on one plot by simply calling a plotting method again :"
   ],
   "metadata": {}
  },
  {
   "cell_type": "code",
   "execution_count": null,
   "source": [
    "_, axes = plt.subplots(figsize = (16, 10))\n",
    "\n",
    "# calling a plotting method\n",
    "axes.plot(numbers)\n",
    "axes.plot(uniques)\n",
    "\n",
    "# changing the axes properties\n",
    "axes.set_xlabel(\"index\")\n",
    "axes.set_ylabel(\"number\")\n",
    "axes.set_title(\"numbers\");"
   ],
   "outputs": [],
   "metadata": {}
  },
  {
   "cell_type": "markdown",
   "source": [
    "### Plotting bars"
   ],
   "metadata": {}
  },
  {
   "cell_type": "code",
   "execution_count": null,
   "source": [
    "_, axes = plt.subplots(figsize = (16, 10))\n",
    "\n",
    "# calling a plotting method\n",
    "axes.bar(ages.keys(), ages.values())\n",
    "\n",
    "# changing the axes properties\n",
    "axes.set_xlabel(\"name\")\n",
    "axes.set_ylabel(\"age\")\n",
    "axes.set_title(\"people and their age\");"
   ],
   "outputs": [],
   "metadata": {}
  },
  {
   "cell_type": "markdown",
   "source": [
    "### Scatter plot"
   ],
   "metadata": {}
  },
  {
   "cell_type": "code",
   "execution_count": null,
   "source": [
    "xs = [1, 3,  5, 7, 2, 4,  6, 8]\n",
    "ys = [5, 0, -2, 8, 2, 4, -1, 0]"
   ],
   "outputs": [],
   "metadata": {}
  },
  {
   "cell_type": "code",
   "execution_count": null,
   "source": [
    "_, axes = plt.subplots(figsize = (16, 10))\n",
    "\n",
    "# calling a plotting method\n",
    "axes.scatter(xs, ys)\n",
    "\n",
    "# changing the axes properties\n",
    "axes.set_xlabel(\"x\")\n",
    "axes.set_ylabel(\"y\")\n",
    "axes.set_title(\"numbers\");"
   ],
   "outputs": [],
   "metadata": {}
  },
  {
   "cell_type": "markdown",
   "source": [
    "### Histogram"
   ],
   "metadata": {}
  },
  {
   "cell_type": "code",
   "execution_count": null,
   "source": [
    "_, axes = plt.subplots(figsize = (16, 10))\n",
    "\n",
    "# calling a plotting method\n",
    "axes.hist(numbers)\n",
    "\n",
    "# changing the axes properties\n",
    "axes.set_xlabel(\"number\")\n",
    "axes.set_ylabel(\"occurrences\")\n",
    "axes.set_title(\"numbers histogram\");"
   ],
   "outputs": [],
   "metadata": {}
  },
  {
   "cell_type": "markdown",
   "source": [
    "The number of bins can be changed by setting the `bins` parametre :"
   ],
   "metadata": {}
  },
  {
   "cell_type": "code",
   "execution_count": null,
   "source": [
    "_, axes = plt.subplots(figsize = (16, 10))\n",
    "\n",
    "# calling a plotting method\n",
    "axes.hist(numbers, bins = 100)\n",
    "\n",
    "# changing the axes properties\n",
    "axes.set_xlabel(\"number\")\n",
    "axes.set_ylabel(\"occurrences\")\n",
    "axes.set_title(\"numbers histogram\");"
   ],
   "outputs": [],
   "metadata": {}
  },
  {
   "cell_type": "markdown",
   "source": [
    "If plotting one histogram over another, it is a good idea to set the `alpha` parametre to a value between $0$ and $1$ :"
   ],
   "metadata": {}
  },
  {
   "cell_type": "code",
   "execution_count": null,
   "source": [
    "_, axes = plt.subplots(figsize = (16, 10))\n",
    "\n",
    "# calling a plotting method\n",
    "axes.hist(numbers, alpha = 0.4)\n",
    "axes.hist(numbers, bins = 100, alpha = 0.4)\n",
    "\n",
    "# changing the axes properties\n",
    "axes.set_xlabel(\"number\")\n",
    "axes.set_ylabel(\"occurrences\")\n",
    "axes.set_title(\"numbers histogram\");"
   ],
   "outputs": [],
   "metadata": {}
  },
  {
   "cell_type": "markdown",
   "source": [
    "### Multiple plots per figure"
   ],
   "metadata": {}
  },
  {
   "cell_type": "markdown",
   "source": [
    "The `plt.subplots` function can create more than just one plot per figure. This means that there will be more than just one `Axes` object. Observe :"
   ],
   "metadata": {}
  },
  {
   "cell_type": "code",
   "execution_count": null,
   "source": [
    "_, axes = plt.subplots(nrows = 2, figsize = (16, 10))\n",
    "\n",
    "# first plot\n",
    "axes[0].plot(numbers)\n",
    "\n",
    "axes[0].set_xlabel(\"index\")\n",
    "axes[0].set_ylabel(\"number\")\n",
    "axes[0].set_title(\"numbers\")\n",
    "\n",
    "# second plot\n",
    "axes[1].bar(ages.keys(), ages.values())\n",
    "\n",
    "axes[1].set_xlabel(\"name\")\n",
    "axes[1].set_ylabel(\"age\")\n",
    "axes[1].set_title(\"people and their age\");"
   ],
   "outputs": [],
   "metadata": {}
  },
  {
   "cell_type": "code",
   "execution_count": null,
   "source": [
    "_, axes = plt.subplots(ncols = 2, figsize = (16, 10))\n",
    "\n",
    "# first plot\n",
    "axes[0].plot(numbers)\n",
    "\n",
    "axes[0].set_xlabel(\"index\")\n",
    "axes[0].set_ylabel(\"number\")\n",
    "axes[0].set_title(\"numbers\")\n",
    "\n",
    "# second plot\n",
    "axes[1].bar(ages.keys(), ages.values())\n",
    "\n",
    "axes[1].set_xlabel(\"name\")\n",
    "axes[1].set_ylabel(\"age\")\n",
    "axes[1].set_title(\"people and their age\");"
   ],
   "outputs": [],
   "metadata": {}
  },
  {
   "cell_type": "code",
   "execution_count": null,
   "source": [
    "_, axes = plt.subplots(nrows = 2, ncols = 2, figsize = (16, 10))\n",
    "\n",
    "# up left plot\n",
    "axes[0, 0].plot(numbers)\n",
    "\n",
    "axes[0, 0].set_xlabel(\"index\")\n",
    "axes[0, 0].set_ylabel(\"number\")\n",
    "axes[0, 0].set_title(\"numbers\")\n",
    "\n",
    "# up right plot\n",
    "axes[0, 1].bar(ages.keys(), ages.values())\n",
    "\n",
    "axes[0, 1].set_xlabel(\"name\")\n",
    "axes[0, 1].set_ylabel(\"age\")\n",
    "axes[0, 1].set_title(\"people and their age\")\n",
    "\n",
    "# down left plot\n",
    "axes[1, 0].bar(ages.keys(), ages.values())\n",
    "\n",
    "axes[1, 0].set_xlabel(\"name\")\n",
    "axes[1, 0].set_ylabel(\"age\")\n",
    "axes[1, 0].set_title(\"people and their age\")\n",
    "\n",
    "# down right plot\n",
    "axes[1, 1].plot(numbers)\n",
    "\n",
    "axes[1, 1].set_xlabel(\"index\")\n",
    "axes[1, 1].set_ylabel(\"number\")\n",
    "axes[1, 1].set_title(\"numbers\");"
   ],
   "outputs": [],
   "metadata": {}
  },
  {
   "cell_type": "markdown",
   "source": [
    "### Heatmaps"
   ],
   "metadata": {}
  },
  {
   "cell_type": "code",
   "execution_count": null,
   "source": [
    "_, axes = plt.subplots(figsize = (16, 10))\n",
    "\n",
    "# calling a plotting method\n",
    "axes.imshow(array)\n",
    "\n",
    "# changing the axes properties\n",
    "axes.set_xlabel(\"x\")\n",
    "axes.set_ylabel(\"y\")\n",
    "axes.set_title(\"the content of 'array'\");"
   ],
   "outputs": [],
   "metadata": {}
  },
  {
   "cell_type": "markdown",
   "source": [
    "# Pandas basics"
   ],
   "metadata": {}
  },
  {
   "cell_type": "markdown",
   "source": [
    "The `pandas` library contains one main structure that is going to interest us : `DataFrame`. It is basically a table with column names."
   ],
   "metadata": {}
  },
  {
   "cell_type": "code",
   "execution_count": null,
   "source": [
    "import pandas as pd"
   ],
   "outputs": [],
   "metadata": {}
  },
  {
   "cell_type": "markdown",
   "source": [
    "## Creating a `pd.DataFrame`"
   ],
   "metadata": {}
  },
  {
   "cell_type": "markdown",
   "source": [
    "As with `np.array`, there are several ways to create a `pd.DataFrame` :\n",
    "* From an existing `np.array` :"
   ],
   "metadata": {}
  },
  {
   "cell_type": "code",
   "execution_count": null,
   "source": [
    "pd.DataFrame(array)"
   ],
   "outputs": [
    {
     "output_type": "error",
     "ename": "NameError",
     "evalue": "name 'array' is not defined",
     "traceback": [
      "\u001b[0;31m---------------------------------------------------------------------------\u001b[0m",
      "\u001b[0;31mNameError\u001b[0m                                 Traceback (most recent call last)",
      "\u001b[0;32m/tmp/ipykernel_39181/4042522265.py\u001b[0m in \u001b[0;36m<module>\u001b[0;34m\u001b[0m\n\u001b[0;32m----> 1\u001b[0;31m \u001b[0mpd\u001b[0m\u001b[0;34m.\u001b[0m\u001b[0mDataFrame\u001b[0m\u001b[0;34m(\u001b[0m\u001b[0marray\u001b[0m\u001b[0;34m)\u001b[0m\u001b[0;34m\u001b[0m\u001b[0;34m\u001b[0m\u001b[0m\n\u001b[0m",
      "\u001b[0;31mNameError\u001b[0m: name 'array' is not defined"
     ]
    }
   ],
   "metadata": {}
  },
  {
   "cell_type": "markdown",
   "source": [
    "* From a **dictionary** :"
   ],
   "metadata": {}
  },
  {
   "cell_type": "code",
   "execution_count": null,
   "source": [
    "pd.DataFrame({\n",
    "    \"name\": list(ages.keys()),\n",
    "    \"age\":  list(ages.values())\n",
    "})"
   ],
   "outputs": [
    {
     "output_type": "error",
     "ename": "NameError",
     "evalue": "name 'pd' is not defined",
     "traceback": [
      "\u001b[0;31m---------------------------------------------------------------------------\u001b[0m",
      "\u001b[0;31mNameError\u001b[0m                                 Traceback (most recent call last)",
      "\u001b[0;32m/tmp/ipykernel_39181/2062983438.py\u001b[0m in \u001b[0;36m<module>\u001b[0;34m\u001b[0m\n\u001b[0;32m----> 1\u001b[0;31m pd.DataFrame({\n\u001b[0m\u001b[1;32m      2\u001b[0m     \u001b[0;34m\"name\"\u001b[0m\u001b[0;34m:\u001b[0m \u001b[0mlist\u001b[0m\u001b[0;34m(\u001b[0m\u001b[0mages\u001b[0m\u001b[0;34m.\u001b[0m\u001b[0mkeys\u001b[0m\u001b[0;34m(\u001b[0m\u001b[0;34m)\u001b[0m\u001b[0;34m)\u001b[0m\u001b[0;34m,\u001b[0m\u001b[0;34m\u001b[0m\u001b[0;34m\u001b[0m\u001b[0m\n\u001b[1;32m      3\u001b[0m     \u001b[0;34m\"age\"\u001b[0m\u001b[0;34m:\u001b[0m  \u001b[0mlist\u001b[0m\u001b[0;34m(\u001b[0m\u001b[0mages\u001b[0m\u001b[0;34m.\u001b[0m\u001b[0mvalues\u001b[0m\u001b[0;34m(\u001b[0m\u001b[0;34m)\u001b[0m\u001b[0;34m)\u001b[0m\u001b[0;34m\u001b[0m\u001b[0;34m\u001b[0m\u001b[0m\n\u001b[1;32m      4\u001b[0m })\n",
      "\u001b[0;31mNameError\u001b[0m: name 'pd' is not defined"
     ]
    }
   ],
   "metadata": {}
  },
  {
   "cell_type": "markdown",
   "source": [
    "* From scratch, filling in the columns one after the other :"
   ],
   "metadata": {}
  },
  {
   "cell_type": "code",
   "execution_count": null,
   "source": [
    "df = pd.DataFrame()\n",
    "\n",
    "df[\"name\"] = list(ages.keys())\n",
    "df[\"age\"]  = list(ages.values())"
   ],
   "outputs": [],
   "metadata": {}
  },
  {
   "cell_type": "code",
   "execution_count": null,
   "source": [
    "df"
   ],
   "outputs": [],
   "metadata": {}
  },
  {
   "cell_type": "markdown",
   "source": [
    "## Renaming the columns and the index"
   ],
   "metadata": {}
  },
  {
   "cell_type": "markdown",
   "source": [
    "A `pd.DataFrame` has row names and column names. The names of the rows are usually not important, but the names of the columns should always be descriptive of the data they contain.\n",
    "\n",
    "Therefore, we can rename both rows and columns."
   ],
   "metadata": {}
  },
  {
   "cell_type": "code",
   "execution_count": null,
   "source": [
    "people = pd.DataFrame(ages.values())\n",
    "\n",
    "people.columns = [\"age\"]\n",
    "people.index = list(ages.keys())"
   ],
   "outputs": [],
   "metadata": {}
  },
  {
   "cell_type": "code",
   "execution_count": null,
   "source": [
    "people"
   ],
   "outputs": [],
   "metadata": {}
  },
  {
   "cell_type": "markdown",
   "source": [
    "#### Exercise :"
   ],
   "metadata": {}
  },
  {
   "cell_type": "markdown",
   "source": [
    "Create a `pd.DataFrame` from the `numbers` variable, and name its only column _number_ :"
   ],
   "metadata": {}
  },
  {
   "cell_type": "code",
   "execution_count": null,
   "source": [],
   "outputs": [],
   "metadata": {}
  },
  {
   "cell_type": "markdown",
   "source": [
    "## Accessing and modifying data"
   ],
   "metadata": {}
  },
  {
   "cell_type": "markdown",
   "source": [
    "It is very easy to create a new column :"
   ],
   "metadata": {}
  },
  {
   "cell_type": "code",
   "execution_count": null,
   "source": [
    "people[\"height\"] = [178, 167, 173, 172, 189, 61, 192]\n",
    "people[\"grade\"]  = [  5,   0,   4,   2,   3,  0,   5]"
   ],
   "outputs": [],
   "metadata": {}
  },
  {
   "cell_type": "code",
   "execution_count": null,
   "source": [
    "people"
   ],
   "outputs": [],
   "metadata": {}
  },
  {
   "cell_type": "markdown",
   "source": [
    "It is also easy to obtain the values of a column :"
   ],
   "metadata": {}
  },
  {
   "cell_type": "code",
   "execution_count": null,
   "source": [
    "people[\"height\"]"
   ],
   "outputs": [],
   "metadata": {}
  },
  {
   "cell_type": "markdown",
   "source": [
    "And we can obtain the value of several columns by indicating their name as a list of values :"
   ],
   "metadata": {}
  },
  {
   "cell_type": "code",
   "execution_count": null,
   "source": [
    "people[[\"age\", \"grade\"]]"
   ],
   "outputs": [],
   "metadata": {}
  },
  {
   "cell_type": "markdown",
   "source": [
    "One common problem when accessing data is that we might want to filter. For example, we might want only the people who failed :"
   ],
   "metadata": {}
  },
  {
   "cell_type": "code",
   "execution_count": null,
   "source": [
    "people[people[\"grade\"] == 0]"
   ],
   "outputs": [],
   "metadata": {}
  },
  {
   "cell_type": "markdown",
   "source": [
    "Or we want to have only those who failed **and** are old enough to go to university :"
   ],
   "metadata": {}
  },
  {
   "cell_type": "code",
   "execution_count": null,
   "source": [
    "people[(people[\"grade\"] == 0) & (people[\"age\"] >= 18)]"
   ],
   "outputs": [],
   "metadata": {}
  },
  {
   "cell_type": "markdown",
   "source": [
    "Or maybe we want to have the people who are young **or** old :"
   ],
   "metadata": {}
  },
  {
   "cell_type": "code",
   "execution_count": null,
   "source": [
    "people[(people[\"age\"] <= 20) | (people[\"age\"] >= 50)]"
   ],
   "outputs": [],
   "metadata": {}
  },
  {
   "cell_type": "markdown",
   "source": [
    "What if we want to get only the grade, from those people ? Well, we combine the above access :"
   ],
   "metadata": {}
  },
  {
   "cell_type": "code",
   "execution_count": null,
   "source": [
    "people[(people[\"age\"] <= 20) | (people[\"age\"] >= 50)][\"grade\"]"
   ],
   "outputs": [],
   "metadata": {}
  },
  {
   "cell_type": "markdown",
   "source": [
    "#### Exercise :"
   ],
   "metadata": {}
  },
  {
   "cell_type": "markdown",
   "source": [
    "Display the height of people who are between the age of 20 and 50 :"
   ],
   "metadata": {}
  },
  {
   "cell_type": "code",
   "execution_count": null,
   "source": [],
   "outputs": [],
   "metadata": {}
  },
  {
   "cell_type": "markdown",
   "source": [
    "### Fancier access"
   ],
   "metadata": {}
  },
  {
   "cell_type": "markdown",
   "source": [
    "The `loc` method allows to access rows and columns in a similar way. Here we view the two people who failed :"
   ],
   "metadata": {}
  },
  {
   "cell_type": "code",
   "execution_count": null,
   "source": [
    "people.loc[people[\"grade\"] == 0, \"grade\"]"
   ],
   "outputs": [],
   "metadata": {}
  },
  {
   "cell_type": "markdown",
   "source": [
    "Now, what if we want to modify the data so that _Francesca_ and _Marina_ get a bare pass instead of failing ? It's easy :"
   ],
   "metadata": {}
  },
  {
   "cell_type": "code",
   "execution_count": null,
   "source": [
    "people.loc[people[\"grade\"] == 0, \"grade\"] = 1"
   ],
   "outputs": [],
   "metadata": {}
  },
  {
   "cell_type": "code",
   "execution_count": null,
   "source": [
    "people"
   ],
   "outputs": [],
   "metadata": {}
  },
  {
   "cell_type": "markdown",
   "source": [
    "You can access the contents of a dataframe by index (similar to a `np.array`) using the `iloc` method."
   ],
   "metadata": {}
  },
  {
   "cell_type": "markdown",
   "source": [
    "### Transpose"
   ],
   "metadata": {}
  },
  {
   "cell_type": "markdown",
   "source": [
    "Exactly as with `np.array`, we can take the **transpose** of a `pd.DataFrame` :"
   ],
   "metadata": {}
  },
  {
   "cell_type": "code",
   "execution_count": null,
   "source": [
    "people.T"
   ],
   "outputs": [],
   "metadata": {}
  },
  {
   "cell_type": "markdown",
   "source": [
    "## Missing data"
   ],
   "metadata": {}
  },
  {
   "cell_type": "markdown",
   "source": [
    "Very often when working with data, parts of it can be missing. For example, we could have no idea how tall _Hans_ is. Or no idea what grade a _fail_ is supposed to be.\n",
    "\n",
    "These values are usually represented as `np.nan`. Let's change them in our dataframe :"
   ],
   "metadata": {}
  },
  {
   "cell_type": "code",
   "execution_count": null,
   "source": [
    "people.loc[\"Hans\", \"height\"] = np.nan\n",
    "\n",
    "people.loc[[\"Francesca\", \"Marina\"], \"grade\"] = np.nan"
   ],
   "outputs": [],
   "metadata": {}
  },
  {
   "cell_type": "code",
   "execution_count": null,
   "source": [
    "people"
   ],
   "outputs": [],
   "metadata": {}
  },
  {
   "cell_type": "markdown",
   "source": [
    "How do we know which values are `NaN` ? We can use the `isna` method :"
   ],
   "metadata": {}
  },
  {
   "cell_type": "code",
   "execution_count": null,
   "source": [
    "people[people[\"grade\"].isna()]"
   ],
   "outputs": [],
   "metadata": {}
  },
  {
   "cell_type": "markdown",
   "source": [
    "Or maybe we might want to work only with data that is complete. Then we use `dropna` :"
   ],
   "metadata": {}
  },
  {
   "cell_type": "code",
   "execution_count": null,
   "source": [
    "people.dropna()"
   ],
   "outputs": [],
   "metadata": {}
  },
  {
   "cell_type": "markdown",
   "source": [
    "### Filling missing values"
   ],
   "metadata": {}
  },
  {
   "cell_type": "markdown",
   "source": [
    "Usually, there is another option that can be used, which is to fill the missing numbers with some numbers using `fillna` :"
   ],
   "metadata": {}
  },
  {
   "cell_type": "code",
   "execution_count": null,
   "source": [
    "people.fillna(0)"
   ],
   "outputs": [],
   "metadata": {}
  },
  {
   "cell_type": "markdown",
   "source": [
    "In some cases, instead of filling in one unique number, we might try to take the number from the previous entry.\n",
    "\n",
    "Let's create a time series :"
   ],
   "metadata": {}
  },
  {
   "cell_type": "code",
   "execution_count": null,
   "source": [
    "temperatures = {\n",
    "    \"january\":  -2,\n",
    "    \"february\":  1,\n",
    "    \"march\":     5,\n",
    "    \"april\":     3,\n",
    "    \"may\":       np.nan,\n",
    "    \"june\":      15,\n",
    "    \"july\":      23,\n",
    "    \"august\":    29,\n",
    "    \"september\": 15,\n",
    "    \"october\":   np.nan,\n",
    "    \"november\":  5,\n",
    "    \"december\":  2\n",
    "}"
   ],
   "outputs": [],
   "metadata": {}
  },
  {
   "cell_type": "code",
   "execution_count": null,
   "source": [
    "temperatures = pd.DataFrame(\n",
    "    data    = list(temperatures.values()),\n",
    "    columns = [\"year 1\"],\n",
    "    index   = list(temperatures.keys())\n",
    ")"
   ],
   "outputs": [],
   "metadata": {}
  },
  {
   "cell_type": "code",
   "execution_count": null,
   "source": [
    "temperatures.T"
   ],
   "outputs": [],
   "metadata": {}
  },
  {
   "cell_type": "markdown",
   "source": [
    "It can make more sense to take the previous value in the series. Let's do it :"
   ],
   "metadata": {}
  },
  {
   "cell_type": "code",
   "execution_count": null,
   "source": [
    "temperatures.fillna(method = \"ffill\").T"
   ],
   "outputs": [],
   "metadata": {}
  },
  {
   "cell_type": "markdown",
   "source": [
    "#### Exercise :"
   ],
   "metadata": {}
  },
  {
   "cell_type": "markdown",
   "source": [
    "Fill the missing temperature values with 30 :"
   ],
   "metadata": {}
  },
  {
   "cell_type": "code",
   "execution_count": null,
   "source": [],
   "outputs": [],
   "metadata": {}
  },
  {
   "cell_type": "markdown",
   "source": [
    "## Statistics"
   ],
   "metadata": {}
  },
  {
   "cell_type": "markdown",
   "source": [
    "_Pandas_ comes with a lot of methods to compute statistics. We will stay with the _average_ and the _standard deviation_ here, though :"
   ],
   "metadata": {}
  },
  {
   "cell_type": "code",
   "execution_count": null,
   "source": [
    "people.mean()"
   ],
   "outputs": [],
   "metadata": {}
  },
  {
   "cell_type": "code",
   "execution_count": null,
   "source": [
    "people.std()"
   ],
   "outputs": [],
   "metadata": {}
  },
  {
   "cell_type": "markdown",
   "source": [
    "What if we want only the average height ? Well :"
   ],
   "metadata": {}
  },
  {
   "cell_type": "code",
   "execution_count": null,
   "source": [
    "people.mean()[\"height\"]"
   ],
   "outputs": [],
   "metadata": {}
  },
  {
   "cell_type": "markdown",
   "source": [
    "Those statistics are implemented to **ignore non-acquired values**. So if we treat a fail as a zero, we get this average grade :"
   ],
   "metadata": {}
  },
  {
   "cell_type": "code",
   "execution_count": null,
   "source": [
    "people[\"grade\"].fillna(0).mean()"
   ],
   "outputs": [],
   "metadata": {}
  },
  {
   "cell_type": "markdown",
   "source": [
    "## Plotting with Pandas"
   ],
   "metadata": {}
  },
  {
   "cell_type": "markdown",
   "source": [
    "Pandas implements its own ways to plot figures, usually with lots of additional preconfigured fluff.\n",
    "\n",
    "For example, let's see if there is a correlation between _age_ and _grade_ :"
   ],
   "metadata": {}
  },
  {
   "cell_type": "code",
   "execution_count": null,
   "source": [
    "people.plot.scatter(x = \"age\", y = \"grade\", figsize = (16, 10));"
   ],
   "outputs": [],
   "metadata": {}
  },
  {
   "cell_type": "markdown",
   "source": [
    "Or let's plot the time series :"
   ],
   "metadata": {}
  },
  {
   "cell_type": "code",
   "execution_count": null,
   "source": [
    "temperatures.plot(figsize = (16, 10));"
   ],
   "outputs": [],
   "metadata": {}
  },
  {
   "cell_type": "markdown",
   "source": [
    "What happens if we add another year ?"
   ],
   "metadata": {}
  },
  {
   "cell_type": "code",
   "execution_count": null,
   "source": [
    "temperatures[\"year 2\"] = [-5, -2, 4, 7, 15, 21, 26, 29, 20, 10, 3, 0]"
   ],
   "outputs": [],
   "metadata": {}
  },
  {
   "cell_type": "code",
   "execution_count": null,
   "source": [
    "temperatures.plot(figsize = (16, 10));"
   ],
   "outputs": [],
   "metadata": {}
  },
  {
   "cell_type": "markdown",
   "source": [
    "#### Exercise :"
   ],
   "metadata": {}
  },
  {
   "cell_type": "markdown",
   "source": [
    "Plot only _year 1_ values, and with filled values from the previous entry :"
   ],
   "metadata": {}
  },
  {
   "cell_type": "code",
   "execution_count": null,
   "source": [],
   "outputs": [],
   "metadata": {}
  },
  {
   "cell_type": "markdown",
   "source": [
    "## Wide format versus long format"
   ],
   "metadata": {}
  },
  {
   "cell_type": "markdown",
   "source": [
    "Both data frames we have been using here were stored in **wide format** : that means, each line is an entry on its own.\n",
    "\n",
    "We can switch to long format using the `melt` melt :"
   ],
   "metadata": {}
  },
  {
   "cell_type": "code",
   "execution_count": null,
   "source": [
    "wide = temperatures.copy()\n",
    "wide[\"month\"] = temperatures.index"
   ],
   "outputs": [],
   "metadata": {}
  },
  {
   "cell_type": "code",
   "execution_count": null,
   "source": [
    "long = wide.melt(\n",
    "    id_vars    = [\"month\"],\n",
    "    value_vars = [\"year 1\", \"year 2\"],\n",
    "    var_name   = \"year\",\n",
    "    value_name = \"°C\"\n",
    ")"
   ],
   "outputs": [],
   "metadata": {}
  },
  {
   "cell_type": "code",
   "execution_count": null,
   "source": [
    "long"
   ],
   "outputs": [],
   "metadata": {}
  },
  {
   "cell_type": "markdown",
   "source": [
    "Data is often stored in long format, so it's better to know how to handle it. Long format can be converted into wide using the `pivot` method :"
   ],
   "metadata": {}
  },
  {
   "cell_type": "code",
   "execution_count": null,
   "source": [
    "long.pivot(\n",
    "    index   = \"month\",\n",
    "    columns = \"year\",\n",
    "    values  = \"°C\"\n",
    ")"
   ],
   "outputs": [],
   "metadata": {}
  },
  {
   "cell_type": "markdown",
   "source": [
    "# Seaborn basics"
   ],
   "metadata": {}
  },
  {
   "cell_type": "markdown",
   "source": [
    "The _Seaborn_ project is based on _PyPlot_, and brings a **lot** of fluff to our plots.\n",
    "\n",
    "Let's import it :"
   ],
   "metadata": {}
  },
  {
   "cell_type": "code",
   "execution_count": null,
   "source": [
    "import seaborn as sns"
   ],
   "outputs": [],
   "metadata": {}
  },
  {
   "cell_type": "markdown",
   "source": [
    "Let's also add to the `people` data frame a _name_ column :"
   ],
   "metadata": {}
  },
  {
   "cell_type": "code",
   "execution_count": null,
   "source": [
    "people[\"name\"] = people.index"
   ],
   "outputs": [
    {
     "output_type": "error",
     "ename": "NameError",
     "evalue": "name 'people' is not defined",
     "traceback": [
      "\u001b[0;31m---------------------------------------------------------------------------\u001b[0m",
      "\u001b[0;31mNameError\u001b[0m                                 Traceback (most recent call last)",
      "\u001b[0;32m/tmp/ipykernel_15900/1258228749.py\u001b[0m in \u001b[0;36m<module>\u001b[0;34m\u001b[0m\n\u001b[0;32m----> 1\u001b[0;31m \u001b[0mpeople\u001b[0m\u001b[0;34m[\u001b[0m\u001b[0;34m\"name\"\u001b[0m\u001b[0;34m]\u001b[0m \u001b[0;34m=\u001b[0m \u001b[0mpeople\u001b[0m\u001b[0;34m.\u001b[0m\u001b[0mindex\u001b[0m\u001b[0;34m\u001b[0m\u001b[0;34m\u001b[0m\u001b[0m\n\u001b[0m",
      "\u001b[0;31mNameError\u001b[0m: name 'people' is not defined"
     ]
    }
   ],
   "metadata": {}
  },
  {
   "cell_type": "markdown",
   "source": [
    "## Plotting time series"
   ],
   "metadata": {}
  },
  {
   "cell_type": "markdown",
   "source": [
    "Plotting our time series in wide format makes _Seaborn_ use the data frame's index as the X axis, and each column becomes an entry on its own :"
   ],
   "metadata": {}
  },
  {
   "cell_type": "code",
   "execution_count": null,
   "source": [
    "_, ax = plt.subplots(figsize = (16, 10))\n",
    "\n",
    "sns.lineplot(data = temperatures, ax = ax);"
   ],
   "outputs": [],
   "metadata": {}
  },
  {
   "cell_type": "markdown",
   "source": [
    "As can be seen, the index is in the wrong order, so don't use anything else than numbers. Let's remedy this by using our data in long format :"
   ],
   "metadata": {}
  },
  {
   "cell_type": "code",
   "execution_count": null,
   "source": [
    "_, ax = plt.subplots(figsize = (16, 10))\n",
    "\n",
    "sns.lineplot(x = \"month\", y = \"°C\", data = long, ax = ax);"
   ],
   "outputs": [],
   "metadata": {}
  },
  {
   "cell_type": "markdown",
   "source": [
    "As we see, by default _Seaborn_'s `lineplot` averages series.\n",
    "\n",
    "Additionally, there are a `hue` and a `style` parametres that can be of great help when dealing with different **kinds** of data :"
   ],
   "metadata": {}
  },
  {
   "cell_type": "code",
   "execution_count": null,
   "source": [
    "_, ax = plt.subplots(figsize = (16, 10))\n",
    "\n",
    "sns.lineplot(x = \"month\", y = \"°C\", hue = \"year\", data = long, ax = ax);"
   ],
   "outputs": [],
   "metadata": {}
  },
  {
   "cell_type": "markdown",
   "source": [
    "## Scatter plots"
   ],
   "metadata": {}
  },
  {
   "cell_type": "markdown",
   "source": [
    "Let's use `scatterplot` to see if there is any correlation between _age_ and _height_ :"
   ],
   "metadata": {}
  },
  {
   "cell_type": "code",
   "execution_count": null,
   "source": [
    "_, ax = plt.subplots(figsize = (16, 10))\n",
    "\n",
    "sns.scatterplot(x = \"age\", y = \"height\", data = people, ax = ax);"
   ],
   "outputs": [],
   "metadata": {}
  },
  {
   "cell_type": "markdown",
   "source": [
    "It can be nice to identify various points ; this is where the `hue` and `style` parametres become very useful again :"
   ],
   "metadata": {}
  },
  {
   "cell_type": "code",
   "execution_count": null,
   "source": [
    "_, ax = plt.subplots(figsize = (16, 10))\n",
    "\n",
    "sns.scatterplot(x = \"age\", y = \"height\", hue = \"name\", data = people, ax = ax);"
   ],
   "outputs": [],
   "metadata": {}
  },
  {
   "cell_type": "markdown",
   "source": [
    "## Histograms"
   ],
   "metadata": {}
  },
  {
   "cell_type": "markdown",
   "source": [
    "_Seaborn_'s `distplot` has some nice additions, such as kernel density estimation :"
   ],
   "metadata": {}
  },
  {
   "cell_type": "code",
   "execution_count": null,
   "source": [
    "_, ax = plt.subplots(figsize = (16, 10))\n",
    "\n",
    "sns.distplot(temperatures[\"year 1\"].fillna(method = \"ffill\"), ax = ax)\n",
    "sns.distplot(temperatures[\"year 2\"], ax = ax);"
   ],
   "outputs": [],
   "metadata": {}
  },
  {
   "cell_type": "markdown",
   "source": [
    "# Heatmap"
   ],
   "metadata": {}
  },
  {
   "cell_type": "markdown",
   "source": [
    "The `heatmap` function is the function you actually want to use for **heatmaps**, as it provides the correct indexing on all axes, and allows for display of color bar and numbers on each cell using the `annot` parametre :"
   ],
   "metadata": {}
  },
  {
   "cell_type": "code",
   "execution_count": null,
   "source": [
    "_, ax = plt.subplots(figsize = (16, 10))\n",
    "\n",
    "sns.heatmap(array, annot = True, ax = ax);"
   ],
   "outputs": [],
   "metadata": {}
  },
  {
   "cell_type": "markdown",
   "source": [
    "The `center` parameter can help with differentiating positive and negative values :"
   ],
   "metadata": {}
  },
  {
   "cell_type": "code",
   "execution_count": null,
   "source": [
    "_, ax = plt.subplots(figsize = (16, 10))\n",
    "\n",
    "sns.heatmap(array, annot = True, center = 0, ax = ax);"
   ],
   "outputs": [],
   "metadata": {
    "scrolled": false
   }
  }
 ],
 "metadata": {
  "kernelspec": {
   "name": "python3",
   "display_name": "Python 3.9.7 64-bit ('assignement_0')"
  },
  "language_info": {
   "codemirror_mode": {
    "name": "ipython",
    "version": 3
   },
   "file_extension": ".py",
   "mimetype": "text/x-python",
   "name": "python",
   "nbconvert_exporter": "python",
   "pygments_lexer": "ipython3",
   "version": "3.9.7"
  },
  "interpreter": {
   "hash": "a5acea7d9110e5e68a93782432e8418b2a7329caa45025df22b4430606776809"
  }
 },
 "nbformat": 4,
 "nbformat_minor": 4
}