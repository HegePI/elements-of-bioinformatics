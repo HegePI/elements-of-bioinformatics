{
 "cells": [
  {
   "cell_type": "markdown",
   "metadata": {},
   "source": [
    "# Assignment 2.2: Genome assembly"
   ]
  },
  {
   "cell_type": "markdown",
   "metadata": {},
   "source": [
    "# Learning outcomes\n",
    "To get:\n",
    "- Familiarity with $k$-mer-based genome assembly (i.e. de Bruijn graphs)\n",
    "- A practical understanding of contig assembly based on unitigs (including the benefits of error correction)\n",
    "- A basic knowledge about evaluating assembly results\n",
    "- An understanding that non-trivial algorithms are required for great practical results (not always, but often)"
   ]
  },
  {
   "cell_type": "markdown",
   "metadata": {
    "tags": []
   },
   "source": [
    "# Contents\n",
    "### 1. Basics on de Bruijn graphs\n",
    "    1.1 Construction\n",
    "    1.2 Traversal\n",
    "    1.3 Visualization\n",
    "\n",
    "### 2. Contig assembly\n",
    "    2.1 Unitig assembly\n",
    "    2.2 Assembly of high-throughput sequencing reads\n",
    "\n",
    "### 3. Evaluating assembly results\n",
    "    3.1. Numerical statistics\n",
    "    3.2. Visual statistics\n",
    "\n",
    "### 4. Error handling\n",
    "    4.1. Validation\n",
    "    4.2. Correction\n",
    "\n",
    "### 5. OPTIONAL: Gap filling\n",
    "\n",
    "---\n",
    "$^\\ast$The algorithms and datasets in this assignment assume a simplified scenario: the genome is single stranded (i.e., no reverse complements), it is small (ebola virus, 20K bases), every $k$-mer in the genome is sequenced. Moreover, reads have length 100, coverage 20x, and their error rate is 0.75%."
   ]
  },
  {
   "cell_type": "markdown",
   "metadata": {
    "tags": []
   },
   "source": [
    "<h3 style='background:yellow;padding:10px;color:black'><strong>TASK 0</strong></h3>\n",
    "\n",
    "At the end of the assignment, write here how many hours it took to complete it (approximately). Write also general feedback about the assignment. What was difficult, what was easy, what was interesting, what was not, what other tasks / topics you would have liked to have in it?"
   ]
  },
  {
   "cell_type": "markdown",
   "metadata": {},
   "source": [
    "#### Your answers here ...\n",
    "---"
   ]
  },
  {
   "cell_type": "markdown",
   "metadata": {},
   "source": [
    "---\n",
    "- What is your background? (CS/Bio)"
   ]
  },
  {
   "cell_type": "markdown",
   "metadata": {},
   "source": [
    "#### Your answers here ...\n",
    "---"
   ]
  },
  {
   "cell_type": "markdown",
   "metadata": {},
   "source": [
    "# 1. Basics on de Bruijn graphs\n",
    "\n",
    "In this section you will develop the main functionality of a de Bruijn graph. \n",
    "\n",
    "The de Bruijn graph will be represented as a Python dictionary containing the $k$-mers of the graph. (Given the large amount of data from a sequencing experiment, state-of-the-art genome assemblers use more advanced data structures, and an optimized implementation in C++ for example.)\n",
    "\n",
    "## 1.0 A note on edge-centric / node-centric de Bruijn graphs\n",
    "\n",
    "Recall that during the lecture we added an edge between two $k$-mers if there was also a $(k+1)$-mer supporting the edge. This is called an *edge-centric* de Bruijn graph. \n",
    "\n",
    "In this assignment, for simplicity, we will work instead with *node-centric* de Bruijn graphs, where we add an edge whenever there is a suffix-prefix overlap of length $k-1$ between the two $k$-mers (i.e., the $(k+1)$-mer spelled by the edge doesn't need to be present in the reads).\n",
    "\n",
    "## 1.1. Construction\n",
    "\n",
    "We will begin with a simple example: we construct the de Bruijn graph based on all the $k$-mers in a *single* string `genome`. We also initialize a list of all DNA characters."
   ]
  },
  {
   "cell_type": "code",
   "execution_count": null,
   "metadata": {},
   "outputs": [],
   "source": [
    "dnaBases = ['A','C','G','T']\n",
    "genome = 'ACGATCGTTC'"
   ]
  },
  {
   "cell_type": "markdown",
   "metadata": {},
   "source": [
    "The de Bruijn graph built from all $3$-mers of the above string ``genome`` will be this one: <img src='data/testDBGraph.svg'>"
   ]
  },
  {
   "cell_type": "markdown",
   "metadata": {},
   "source": [
    "Let's construct it with the function `build_dbGraph_from_string` below. We loop through the $k$-mers of the input string and add them to `dbGraph`. In this assignment, by \"adding\", we mean that we add the corresponding $k$-mer to the dictionary `dbGraph` with value 1. We'll use those values latter for describing *abundancies*."
   ]
  },
  {
   "cell_type": "code",
   "execution_count": null,
   "metadata": {},
   "outputs": [],
   "source": [
    "def build_dbGraph_from_string(string, order):\n",
    "    dbGraph = dict()\n",
    "    for i in range(len(string) - (order-1)):\n",
    "        kmer = string[i:i+order]\n",
    "        dbGraph[kmer] = 1\n",
    "    return dbGraph\n",
    "\n",
    "k = 3 # This is the order of our test de Bruijn graph \n",
    "test_dbGraph = build_dbGraph_from_string(genome, k)\n",
    "\n",
    "print(test_dbGraph)"
   ]
  },
  {
   "cell_type": "markdown",
   "metadata": {},
   "source": [
    "## 1.2. Traversal\n",
    "\n",
    "We now implement a function that will give us the out-neighbors of a given node (i.e., of a given $k$-mer) in the de Bruijn graph.\n",
    "\n",
    "Consider first three helper functions on strings (and $k$-mers)."
   ]
  },
  {
   "cell_type": "code",
   "execution_count": null,
   "metadata": {},
   "outputs": [],
   "source": [
    "def nextKmer(kmer, newBase):\n",
    "    return kmer[1:] + newBase\n",
    "\n",
    "def prevKmer(kmer, newBase):\n",
    "    return newBase + kmer[:-1]\n",
    "\n",
    "def merge_strings(s, kmer):\n",
    "    return s + kmer[-1]\n",
    "\n",
    "print('Next kmer for \"GAT\" and \"C\" is:', nextKmer('GAT', 'C'))\n",
    "print('Previous kmer for \"GAT\" and \"C\" is:', prevKmer('GAT', 'C'))\n",
    "print('The merge of \"ACGAT\" and \"ATC\" is:', merge_strings('ACGAT','ATC'))"
   ]
  },
  {
   "cell_type": "markdown",
   "metadata": {},
   "source": [
    "<h3 style='background:yellow;padding:10px;color:black'><strong>TASK 1</strong></h3>\n",
    "\n",
    "Explain what the three functions above do."
   ]
  },
  {
   "cell_type": "markdown",
   "metadata": {},
   "source": [
    "---\n",
    "#### Your answer here ...\n",
    "---"
   ]
  },
  {
   "cell_type": "markdown",
   "metadata": {},
   "source": [
    "We now implement a function which, given a de Bruijn graph `graph` and a string `kmer`, returns the list of out-neighbors of `kmer`. This  works by enumerating through the list `dnaBases`, considers the function `nextKmer` applied to `kmer` over each such DNA base, and checks whether this possible next kmer is an element of the dictionary `graph`. To check if a kmer `s` is an element in the keys of the dictionary `graph`, we use `if s in graph:`."
   ]
  },
  {
   "cell_type": "code",
   "execution_count": null,
   "metadata": {},
   "outputs": [],
   "source": [
    "def out_neighbors(graph, kmer):\n",
    "    n = list() # The list of out-neighbors\n",
    "    for base in dnaBases:\n",
    "        nKmer = nextKmer(kmer, base)\n",
    "        if nKmer in graph:\n",
    "            n.append(nKmer)\n",
    "            \n",
    "    return n\n",
    "\n",
    "print(out_neighbors(test_dbGraph, 'ACG'))"
   ]
  },
  {
   "cell_type": "markdown",
   "metadata": {},
   "source": [
    "<h3 style='background:yellow;padding:10px;color:black'><strong>TASK 2</strong></h3>\n",
    "\n",
    "It is your job now to implement the symmetric function returning the list of in-neighbors of a given `kmer` in `test_dbGraph`. **Hint**: Use exactly the same code as in `out_neighbors` but using the function `prevKmer` instead."
   ]
  },
  {
   "cell_type": "code",
   "execution_count": null,
   "metadata": {},
   "outputs": [],
   "source": [
    "def in_neighbors(graph, kmer):\n",
    "    n = list() # The list of in-neighbors\n",
    "    # Your code here ...\n",
    "            \n",
    "    return n\n",
    "\n",
    "print(in_neighbors(test_dbGraph, 'CGA'))"
   ]
  },
  {
   "cell_type": "markdown",
   "metadata": {},
   "source": [
    "## 1.3. Visualization\n",
    "\n",
    "Having the dictionary `dbGraph` and the function `out_neighbors`, we have the basic functionality of a de Bruijn graph. As a sanity check of the implementation, we can visualize our de Bruijn graph constructed from `genome`. We do this with the **graphviz** package (using the `dot` representation). Make sure the graph you obtain is the same as the one shown above.\n"
   ]
  },
  {
   "cell_type": "code",
   "execution_count": null,
   "metadata": {},
   "outputs": [],
   "source": [
    "from graphviz import Digraph\n",
    "\n",
    "def get_dot_representation(graph):\n",
    "    dot = Digraph()\n",
    "    dot.graph_attr['rankdir'] = 'LR' # Display the graph in landscape mode\n",
    "\n",
    "    for key in graph:\n",
    "        kmer = key\n",
    "        dot.node(kmer) \n",
    "        for neighbor in out_neighbors(graph, kmer):\n",
    "            dot.edge(kmer, neighbor) \n",
    "     \n",
    "    return dot\n",
    "    \n",
    "\n",
    "dot_representation = get_dot_representation(test_dbGraph)\n",
    "dot_representation"
   ]
  },
  {
   "cell_type": "markdown",
   "metadata": {},
   "source": [
    "<h3 style='background:yellow;padding:10px;color:black'><strong>TASK 3</strong></h3>\n",
    "\n",
    "Explain how the above code works."
   ]
  },
  {
   "cell_type": "markdown",
   "metadata": {},
   "source": [
    "---\n",
    "#### Your answer here ...\n",
    "---"
   ]
  },
  {
   "cell_type": "markdown",
   "metadata": {},
   "source": [
    "# 2. Contig assembly\n",
    "\n",
    "## 2.1. Unitig assembly\n",
    "\n",
    "Recall that in class we said that a node is the first node of some unitig if its number of in-neighbors is different from $1$ or if its number of out-neighbors is different from $1$. Also, the start of a unitig must have at least $1$ out-neighbor."
   ]
  },
  {
   "cell_type": "markdown",
   "metadata": {},
   "source": [
    "<h3 style='background:yellow;padding:10px;color:black'><strong>TASK 4</strong></h3>\n",
    "\n",
    "Implement the following function. **Hint**: Use the functions `in_neighbors` and `out_neighbors` implemented above."
   ]
  },
  {
   "cell_type": "code",
   "execution_count": null,
   "metadata": {},
   "outputs": [],
   "source": [
    "def is_start_of_unitig(graph, kmer):\n",
    "    # Returns True if and only if kmer is the first node of some unitig in graph\n",
    "    is_start = False\n",
    "    # Your code here ...\n",
    "    \n",
    "    return is_start"
   ]
  },
  {
   "cell_type": "markdown",
   "metadata": {},
   "source": [
    "Recall that we say that a path $U = (v_1,v_2,\\dots,v_t)$ is a *unitig* if either\n",
    "- $t = 2$, that is, $U = (v_1,v_2)$ is a single edge, or\n",
    "- $t > 2$ and for all $i \\in \\{2,\\dots,t-1\\}$, it holds that $v_i$ has only one in-neighbor (in this case, $v_{i-1}$) and only one out-neighbor (in this case, $v_{i+1}$).\n",
    "\n",
    "Given a node `firstKmer` and one of its out-neighbors, `secondKmer`, the following function traverses the path starting with the edge `(firstKmer,secondKmer)` as long as it is a unitig. While doing so, it extends the current string `unitig` by merging to it the unique out-neighbor `nextKmer`. See the image below, where the nodes of the unitig are shown in green.\n",
    "\n",
    "<img src='data/unitig-1.png'>"
   ]
  },
  {
   "cell_type": "code",
   "execution_count": null,
   "metadata": {},
   "outputs": [],
   "source": [
    "def assemble_unitig_starting_with(graph, firstKmer, secondKmer):\n",
    "    unitig = merge_strings(firstKmer,secondKmer)\n",
    "    o_neighbors = out_neighbors(graph,secondKmer)\n",
    "    i_neighbors = in_neighbors(graph,secondKmer)\n",
    "    while len(o_neighbors) == 1 and len(i_neighbors) == 1:\n",
    "        nextKmer = o_neighbors[0]\n",
    "        unitig = merge_strings(unitig,nextKmer)\n",
    "        o_neighbors = out_neighbors(graph,nextKmer)\n",
    "        i_neighbors = in_neighbors(graph,nextKmer)\n",
    "    return unitig"
   ]
  },
  {
   "cell_type": "markdown",
   "metadata": {},
   "source": [
    "<h3 style='background:yellow;padding:10px;color:black'><strong>TASK 5</strong></h3>\n",
    "\n",
    "Explain in your own words the code above."
   ]
  },
  {
   "cell_type": "markdown",
   "metadata": {},
   "source": [
    "---\n",
    "#### Your answer here ...\n",
    "---"
   ]
  },
  {
   "cell_type": "markdown",
   "metadata": {},
   "source": [
    "We now have the two main ingredients of the algorithm finding all unitigs of the graph. Let's put them to work. We enumerate through all keys (i.e. $k$-mers) of the dictionary graph (`for kmer in graph:`) , for each such $k$-mer we test if it is the start of some unitig, and if so, we enumerate all its out-neighbors, and call the function `assemble_unitig_starting_with` with the $k$-mer and its out-neighbor as parameters. See the image below. \n",
    "\n",
    "<img src='data/unitig-2.png'>"
   ]
  },
  {
   "cell_type": "code",
   "execution_count": null,
   "metadata": {},
   "outputs": [],
   "source": [
    "def assemble_unitigs(graph):\n",
    "    unitigs = list()\n",
    "\n",
    "    for kmer in graph:\n",
    "        if is_start_of_unitig(graph, kmer):\n",
    "            for neighbor in out_neighbors(graph, kmer):\n",
    "                unitig = assemble_unitig_starting_with(graph, kmer, neighbor)\n",
    "                unitigs.append(unitig)\n",
    "    \n",
    "    return unitigs"
   ]
  },
  {
   "cell_type": "markdown",
   "metadata": {},
   "source": [
    "Check that the unitigs you get for `test_dbGraph` are the correct ones, by looking at the visualization of the graph."
   ]
  },
  {
   "cell_type": "code",
   "execution_count": null,
   "metadata": {},
   "outputs": [],
   "source": [
    "test_unitigs = assemble_unitigs(test_dbGraph)\n",
    "print(test_unitigs)\n",
    "dot_representation = get_dot_representation(test_dbGraph)\n",
    "dot_representation"
   ]
  },
  {
   "cell_type": "markdown",
   "metadata": {},
   "source": [
    "## 2.2. Assembly of high-throughput sequencing reads\n",
    "\n",
    "The graph `test_dbGraph` was built from a single genomic string. We now build a graph from the reads in a *FASTQ* file. First, we implement the following function that gets the reads. We remove the new line character from the end of each line (with `str.strip()`), and for convention, we convert all characters in the reads to uppper case (with `str.upper()`)."
   ]
  },
  {
   "cell_type": "code",
   "execution_count": null,
   "metadata": {},
   "outputs": [],
   "source": [
    "def get_reads(filePath):\n",
    "    reads = list() # The list of strings that will store the reads (the DNA strings) in the FASTQ file at filePath\n",
    "    fastqFile = open(filePath, 'r') \n",
    "    fastqLines = fastqFile.readlines() \n",
    "    fastqFile.close()\n",
    "\n",
    "    for lineIndex in range(1, len(fastqLines), 4):\n",
    "        line = fastqLines[lineIndex]\n",
    "        reads.append(line.strip().upper())\n",
    "        \n",
    "    return reads"
   ]
  },
  {
   "cell_type": "markdown",
   "metadata": {},
   "source": [
    "<h3 style='background:yellow;padding:10px;color:black'><strong>TASK 6</strong></h3>\n",
    "\n",
    "Explain what is the purpose of the line `for lineIndex in range(1, len(fastqLines), 4):`."
   ]
  },
  {
   "cell_type": "markdown",
   "metadata": {},
   "source": [
    "---\n",
    "#### Your answer here ...\n",
    "---"
   ]
  },
  {
   "cell_type": "markdown",
   "metadata": {},
   "source": [
    "<h3 style='background:yellow;padding:10px;color:black'><strong>TASK 7</strong></h3>\n",
    "\n",
    "You now have to write a function equivalent to `build_dbGraph_from_string`, which however builds the graph from a collection of strings."
   ]
  },
  {
   "cell_type": "code",
   "execution_count": null,
   "metadata": {},
   "outputs": [],
   "source": [
    "def build_dbGraph_from_reads(reads, order):\n",
    "    dbGraph = dict()\n",
    "    # Your code here ...\n",
    "            \n",
    "    return dbGraph"
   ]
  },
  {
   "cell_type": "markdown",
   "metadata": {},
   "source": [
    "With the above two functions in hand, we can build our de Bruijn graph from the reads in `reads.fastq`. For now, we will use the order `k = 15`."
   ]
  },
  {
   "cell_type": "code",
   "execution_count": null,
   "metadata": {},
   "outputs": [],
   "source": [
    "k = 15\n",
    "reads = get_reads('data/reads.fastq')\n",
    "dbGraph = build_dbGraph_from_reads(reads, k)\n",
    "\n",
    "unitigs = assemble_unitigs(dbGraph)\n",
    "\n",
    "print('Assembled', len(unitigs), 'unitigs')"
   ]
  },
  {
   "cell_type": "markdown",
   "metadata": {},
   "source": [
    "# 3. Evaluating assembly results"
   ]
  },
  {
   "cell_type": "markdown",
   "metadata": {},
   "source": [
    "With our unitigs in hand, we now try to get an idea of how good are these assembly results. \n",
    "\n",
    "## 3.1. Numerical statistics\n",
    "\n",
    "<h3 style='background:yellow;padding:10px;color:black'><strong>TASK 8</strong></h3>\n",
    "\n",
    "Implement a function that prints the mean, median, minimum and maximum values of the list of unitig lenths. Print also the number of unitigs, and the total length of all unitigs. *Hint*: use the Python package **statistics**, and the Python built-in functions **min(list)**, **max(list)** and **sum(list)**."
   ]
  },
  {
   "cell_type": "code",
   "execution_count": null,
   "metadata": {},
   "outputs": [],
   "source": [
    "import statistics\n",
    "\n",
    "def print_basic_statistics(unitigs):\n",
    "    mean = 0\n",
    "    median = 0\n",
    "    minimum = 0\n",
    "    maximum = 0\n",
    "    totalLength = 0\n",
    "    # Your code here ...\n",
    "    \n",
    "    print('Mean unitig length:', mean)\n",
    "    print('Median unitig length:', median)\n",
    "    print('Min unitig length:', minimum)\n",
    "    print('Max unitig length:', maximum)\n",
    "    print('Number of unitigs:', len(unitigs))\n",
    "    print('Total length of unitigs:', totalLength)\n",
    "\n",
    "print_basic_statistics(unitigs)"
   ]
  },
  {
   "cell_type": "markdown",
   "metadata": {},
   "source": [
    "Another measure of how contiguous an assembly is, is the N50 value. This is defined as the greatest unitig length $N$ such that the unitigs of length $\\geq N$ have sum of lengths at least 50% of all the lengths of all unitigs."
   ]
  },
  {
   "cell_type": "code",
   "execution_count": null,
   "metadata": {},
   "outputs": [],
   "source": [
    "def print_N50(unitigs):\n",
    "    sorted_unitigs = sorted(unitigs, reverse = True, key=lambda unitig: len(unitig)) # the list of unitigs is now sorted by length from large to small\n",
    "\n",
    "    totalLength = sum([len(unitig) for unitig in sorted_unitigs])\n",
    "\n",
    "    partialLength = 0\n",
    "    for unitig in sorted_unitigs:\n",
    "        partialLength += len(unitig)\n",
    "        if partialLength >= 0.5 * totalLength:\n",
    "            print('N50 value:', len(unitig))\n",
    "            return\n",
    "\n",
    "    \n",
    "print_N50(unitigs)"
   ]
  },
  {
   "cell_type": "markdown",
   "metadata": {},
   "source": [
    "<h3 style='background:yellow;padding:10px;color:black'><strong>TASK 9</strong></h3>\n",
    "\n",
    "The above definition (before the previous code cell) of the N50 measure is a bit hard to understand. Explain what N50 represents based on the above code that computes it."
   ]
  },
  {
   "cell_type": "markdown",
   "metadata": {},
   "source": [
    "---\n",
    "#### Your answer here ...\n",
    "---"
   ]
  },
  {
   "cell_type": "markdown",
   "metadata": {},
   "source": [
    "## 3.2. Visual statistics\n",
    "\n",
    "Finally, to get a better understanding of the contiguity of the unitigs, we do a scatter plot of their lengths as follows. \n",
    "\n",
    "<h3 style='background:yellow;padding:10px;color:black'><strong>TASK 10</strong></h3>\n",
    "\n",
    "Explain how the scatter plot below is obtained and what each dot represents."
   ]
  },
  {
   "cell_type": "markdown",
   "metadata": {},
   "source": [
    "---\n",
    "#### Your answer here ...\n",
    "---"
   ]
  },
  {
   "cell_type": "code",
   "execution_count": null,
   "metadata": {},
   "outputs": [],
   "source": [
    "import matplotlib.pyplot as pyplot\n",
    "\n",
    "def plot_lengths(unitigs):\n",
    "    pyplot.style.use('seaborn-whitegrid')\n",
    "    \n",
    "    unitig_lengths = [len(unitig) for unitig in unitigs]\n",
    "    unitig_lengths.sort(reverse = True)\n",
    "    \n",
    "    pyplot.plot(unitig_lengths, 'o', color='black') # We plot list\n",
    "    \n",
    "plot_lengths(unitigs)"
   ]
  },
  {
   "cell_type": "markdown",
   "metadata": {},
   "source": [
    "# 4. Error handling"
   ]
  },
  {
   "cell_type": "markdown",
   "metadata": {},
   "source": [
    "**The above assembly results are quite dismal: unitigs are only slightly longer than the value of `k` used in the assembly!**\n",
    "\n",
    "On second thought, recall that the reads contain sequencing errors: these introduce erroneous $k$-mers in the graph, and thus introduce branches inside unitigs. \n",
    "\n",
    "We'll now see how to deal with these.\n",
    "\n",
    "## 4.1. Validation\n",
    "\n",
    "To convince us of this fact, suppose for the purpose of this assignment that we also have available the *true genome* from which the reads were sequenced. **This is not true in practice, since we are actually trying to figure out this genome!** However, development and evaluation of genome assemblers usually follows this pattern (since we now have many available genomes), as a validation and benckmarking step.\n",
    "\n",
    "Let's now align all unitigs to this true genome, and see how many actually align. The ones that do not thus contain $k$-mers with errors.\n",
    "\n",
    "First, we read the true genome from the FASTA file `data/genome.fasta`."
   ]
  },
  {
   "cell_type": "code",
   "execution_count": null,
   "metadata": {},
   "outputs": [],
   "source": [
    "def get_genome(filePath):\n",
    "    genome = str()\n",
    "    \n",
    "    fastaFile = open(filePath, 'r') \n",
    "    \n",
    "    fastaFile.readline() # Read header line\n",
    "    fastaLines = fastaFile.readlines()\n",
    "    fastaFile.close()\n",
    "\n",
    "    for line in fastaLines:\n",
    "        genome += line.strip().upper()\n",
    "    \n",
    "    return genome\n",
    "\n",
    "trueGenome = get_genome('data/genome.fasta')\n",
    "\n",
    "# Print the first 200 characters of trueGenome, for sanity check\n",
    "print(trueGenome[:200])"
   ]
  },
  {
   "cell_type": "markdown",
   "metadata": {},
   "source": [
    "Since we cannot call an actual read aligner in this Jupyter notebook, we will use the Python function `str.find(substring)`, which returns the position of the first occurence of ``substring`` inside ``str``, or ``-1`` if no such occurrence exists."
   ]
  },
  {
   "cell_type": "code",
   "execution_count": null,
   "metadata": {},
   "outputs": [],
   "source": [
    "def align(genome, unitigs):\n",
    "    notFound = 0 # This will store the number of unitigs not found in genome\n",
    "\n",
    "    for unitig in unitigs:\n",
    "        pos = genome.find(unitig)\n",
    "        if pos == -1:\n",
    "            notFound += 1\n",
    "    \n",
    "    return notFound\n",
    "    \n",
    "notFound = align(trueGenome, unitigs)\n",
    "\n",
    "print('Unitigs not aligning:', notFound)\n",
    "print('Proportion of unitigs not aligning:', notFound / len(unitigs))"
   ]
  },
  {
   "cell_type": "markdown",
   "metadata": {},
   "source": [
    "**Wow, a signficant amount of unitigs do not align!** This is a strong indication that the reads contain errors, and that we must filter these out. \n",
    "\n",
    "## 4.2. Correction\n",
    "\n",
    "The main error correction idea used in the assembly field is to decide on an `abundance` threshold (which will depend on read coverage and error rate), such that any $k$-mer which appears less than `abundance` times in the reads is not added as a node in the de Bruijn graph. \n",
    "\n",
    "We will now implement this approach and will again assemble unitigs, just as before, in this new de Bruijn graph. We will then compare the unitig lengths before and after this correction step. \n",
    "\n",
    "Consider the following analogue of `build_dbGraph_from_reads`, which now takes into account also the parameter `abundance`."
   ]
  },
  {
   "cell_type": "code",
   "execution_count": null,
   "metadata": {},
   "outputs": [],
   "source": [
    "# The abundance threshold we will use throughout\n",
    "a = 3\n",
    "\n",
    "def build_dbGraph_from_reads_abundance(reads, order, abundance):\n",
    "    dbGraph = dict()\n",
    "\n",
    "    count = dict()\n",
    "    for read in reads:\n",
    "        for i in range(len(read) - (order - 1)):\n",
    "            kmer = read[i:i+order]\n",
    "            count[kmer] = count.get(kmer,0) + 1 # count.get(kmer,0) returns count[kmer], if kmer is a key in count, and 0 otherwise\n",
    "    for kmer in count:\n",
    "        if count[kmer] >= abundance:\n",
    "            dbGraph[kmer] = abundance\n",
    "    \n",
    "    return dbGraph\n",
    "\n",
    "corrected_dbGraph = build_dbGraph_from_reads_abundance(reads, k, a)\n",
    "print('Nodes in the graph:', len(corrected_dbGraph))"
   ]
  },
  {
   "cell_type": "markdown",
   "metadata": {},
   "source": [
    "<h3 style='background:yellow;padding:10px;color:black'><strong>TASK 11</strong></h3>\n",
    "\n",
    "Explain how the above code works."
   ]
  },
  {
   "cell_type": "markdown",
   "metadata": {},
   "source": [
    "---\n",
    "#### Your answer here ...\n",
    "---"
   ]
  },
  {
   "cell_type": "markdown",
   "metadata": {},
   "source": [
    "Let's now assemble the unitigs of `corrected_dbGraph` and compute the statistics about its unitigs."
   ]
  },
  {
   "cell_type": "code",
   "execution_count": null,
   "metadata": {},
   "outputs": [],
   "source": [
    "corrected_unitigs = assemble_unitigs(corrected_dbGraph)\n",
    "\n",
    "print_basic_statistics(corrected_unitigs)\n",
    "print_N50(corrected_unitigs)\n",
    "plot_lengths(corrected_unitigs)\n",
    "print('Unitigs not aligning:', align(trueGenome, corrected_unitigs))"
   ]
  },
  {
   "cell_type": "markdown",
   "metadata": {},
   "source": [
    "**Things are now significatly different!**\n",
    "\n",
    "We managed to obtain only **34 unitigs**, and half of all their total length comes from unitigs of **length 2518 or more (N50 metric)**. Moreover, only **8** of them do not align to the true benchmark genome. \n",
    "\n",
    "**A simple correction approach makes such a big difference.**"
   ]
  },
  {
   "cell_type": "markdown",
   "metadata": {},
   "source": [
    "### Which `k` and `abundance` to choose?\n",
    "\n",
    "Finally, let's consider the tradeoff between `k` and `abundance`. The code below assembles the unitigs of the de Bruijn graph for several values of `k` and several values of `a`. For each pair `(k,a)`, it computes how many unitigs are assembled, and how many of them do not align to the true reference.\n",
    "\n",
    "<span style=\"color:red\"><strong>Run the code below and wait several seconds for it to finish!</strong></span>"
   ]
  },
  {
   "cell_type": "code",
   "execution_count": null,
   "metadata": {},
   "outputs": [],
   "source": [
    "import pandas\n",
    "from IPython.display import display\n",
    "\n",
    "results = list()\n",
    "abundance_values = [1,2,3,4,5,6]\n",
    "k_values = [15,21,27,39,51]\n",
    "\n",
    "for a_value in abundance_values:\n",
    "    a_results = list()\n",
    "    for k_value in k_values:\n",
    "        print(f'Getting results for a:{a_value}, k:{k_value}. Please wait ...')\n",
    "        temp_dbGraph = build_dbGraph_from_reads_abundance(reads, k_value, a_value)\n",
    "        temp_unitigs = assemble_unitigs(temp_dbGraph)\n",
    "        temp_notFound = align(trueGenome, temp_unitigs)\n",
    "        a_results.append((len(temp_unitigs),temp_notFound))\n",
    "    results.append(a_results)\n",
    "\n",
    "row_labels = [f'a:{a_value}' for a_value in abundance_values]\n",
    "col_labels = [f'k:{k_value}' for k_value in k_values]\n",
    "   \n",
    "print('\\nDone, here are the results. The format of each cell is (#unitigs, #unitigs not aligning).\\n')\n",
    "display(pandas.DataFrame(data=results, index=row_labels, columns=col_labels, dtype=None, copy=False))"
   ]
  },
  {
   "cell_type": "markdown",
   "metadata": {},
   "source": [
    "<h3 style='background:yellow;padding:10px;color:black'><strong>TASK 12</strong></h3>\n",
    "\n",
    "Explain the results of the above table. Where are the best results, where are the worse results, **why**? \n",
    "\n",
    "How would you choose the values of `k` and `a` in practice (when you don't have the true genome to guide the choice)?"
   ]
  },
  {
   "cell_type": "markdown",
   "metadata": {},
   "source": [
    "---\n",
    "#### Your answers here ...\n",
    "---"
   ]
  },
  {
   "cell_type": "markdown",
   "metadata": {},
   "source": [
    "# OPTIONAL: 4. Gap filling\n",
    "\n",
    "Gap filling is one of the last steps on a genome assembly pipeline. \n",
    "\n",
    "The main steps of an assembly pipeline (e.g. with short reads) are: \n",
    "1. Error correction\n",
    "2. Contig assembly\n",
    "3. Scaffolding\n",
    "4. Gap filling\n",
    "\n",
    "So far in this assignment, we've covered the first two steps. \n",
    "\n",
    "In the scaffolding step, paired-end information is used to connect the contigs together. More precisely, if the first read in a pair aligns to a contig $A$, and the second read in the pair aligns to a contig $B$, then this is an indication of how contigs $A$ and $B$ appear in the genome. \n",
    "\n",
    "In fact, by inspecting the precise alignment of the two reads inside each contig (i.e., their starting positions inside the contig), and knowing the approximate length of genomic distance between the two reads in the pair, then one can also infer the distance between contigs $A$ and $B$ in the genome. \n",
    "\n",
    "There are many ways to perform scaffolding (as mentioned during the lecture), and we will not cover scaffolding here. \n",
    "\n",
    "---\n",
    "\n",
    "Instead, we will focus on **Step 4. Gap filling.**\n",
    "\n",
    "First, we read a single scaffold from a FASTA file. For simplicity of code, we assume that this scaffold is made up only of two contigs, and sequence of characters `N` between them (denoting the unknown bases).\n",
    "\n",
    "The length of this sequence of `N` equals the length of the unknown genomic sequence between the contigs. \n",
    "\n",
    "Let's read in the single scaffold from file `data/scaffolds.fasta`."
   ]
  },
  {
   "cell_type": "code",
   "execution_count": null,
   "metadata": {},
   "outputs": [],
   "source": [
    "def get_scaffold(filePath):\n",
    "    string = str()\n",
    "    \n",
    "    fastaFile = open(filePath, 'r') \n",
    "    fastaFile.readline() # Read header line\n",
    "    fastaLines = fastaFile.readlines() \n",
    "    fastaFile.close()\n",
    "    \n",
    "    for line in fastaLines:\n",
    "        string += line.strip().upper()\n",
    "    \n",
    "    pos_firstN = string.find('N')\n",
    "    pos_lastN = string.rfind('N')\n",
    "    firstContig = string[:pos_firstN]\n",
    "    lastContig = string[pos_lastN + 1:]\n",
    "    gap_length = pos_lastN - pos_firstN + 1\n",
    "    \n",
    "    return firstContig, lastContig, gap_length\n",
    "\n",
    "firstContig, lastContig, gap_length = get_scaffold('data/scaffolds.fasta')\n",
    "print('Gap length:', gap_length)"
   ]
  },
  {
   "cell_type": "markdown",
   "metadata": {},
   "source": [
    "We now try to see how the graph looks like between `firstContig` and `lastContig`. (More specifically, between the $k$-mer made up of the last `k` characters of `firstContig` and the $k$mer made up of the first `k` characters of `lastContig`.) That is, we check how many simple paths (without repeated nodes) there are between these two kmers. Each of these is a possible way to fill the gap.\n",
    "\n",
    "<span style=\"color:red\"><strong>Run the code below and wait up to one minute for it to finish!</strong></span>"
   ]
  },
  {
   "cell_type": "code",
   "execution_count": null,
   "metadata": {},
   "outputs": [],
   "source": [
    "import networkx as nx\n",
    "\n",
    "def convert_to_networkx_graph(graph):\n",
    "    arcs = list()\n",
    "    \n",
    "    for kmer in graph:\n",
    "        for o_neighbor in out_neighbors(graph,kmer):\n",
    "            arcs.append((kmer,o_neighbor))\n",
    "    \n",
    "    return nx.DiGraph(arcs)\n",
    "    \n",
    "networkx_graph = convert_to_networkx_graph(corrected_dbGraph)\n",
    "print('Converted the de Bruijn graph to nextworkx format')\n",
    "\n",
    "fh = open(\"data/dbGraph.edgelist\",'wb')\n",
    "nx.write_edgelist(networkx_graph, fh)\n",
    "fh.close()\n",
    "\n",
    "print(f'k = {k}')\n",
    "\n",
    "source_kmer = firstContig[-k:]\n",
    "target_kmer = lastContig[:k]\n",
    "\n",
    "print(f'Finding all simple paths (without repeated nodes) between source_kmer:{source_kmer} and target_kmer:{target_kmer}')\n",
    "print('Please wait up to one minute...')\n",
    "all_paths = list(nx.all_simple_paths(networkx_graph, source=source_kmer, target=target_kmer))\n",
    "\n",
    "print('Found simple paths of the following lengths:')\n",
    "for index, path in enumerate(all_paths):\n",
    "    print(f'Path {index}, length:{len(path)}')"
   ]
  },
  {
   "cell_type": "markdown",
   "metadata": {},
   "source": [
    "**Bingo!** We have a gap of length $624$, and we found a path of length $640$ (in addition to two other longer paths). In fact, this path is a perfect match for our gap length (you are required to explain why below). \n",
    "\n",
    "As such, this is a strong indication that the genomic string corresponding to path is the correct way to fill the gap between the two scaffolds.\n",
    "\n",
    "Consider the function below."
   ]
  },
  {
   "cell_type": "code",
   "execution_count": null,
   "metadata": {},
   "outputs": [],
   "source": [
    "def convert_path_to_string(path, k):\n",
    "    string = str()\n",
    "    \n",
    "    for kmer in path[1:-k]:\n",
    "        string = merge_strings(string, kmer)\n",
    "        \n",
    "    return string\n",
    "\n",
    "solutionPath = all_paths[0]\n",
    "gapString = convert_path_to_string(solutionPath, k)\n",
    "\n",
    "print(len(gapString))"
   ]
  },
  {
   "cell_type": "markdown",
   "metadata": {},
   "source": [
    "<h3 style='background:yellow;padding:10px;color:black'><strong>TASK</strong></h3>\n",
    "\n",
    "Explain why the code above gives a string of length matching exactly the gap length (i.e., the number of `N` characters in the scaffold)."
   ]
  },
  {
   "cell_type": "markdown",
   "metadata": {},
   "source": [
    "---\n",
    "#### Your answer here ...\n",
    "---"
   ]
  },
  {
   "cell_type": "markdown",
   "metadata": {},
   "source": [
    "Finally, we fill the gap in the scaffold. \n",
    "\n",
    "We also align it to the true genome, in order to verify our assumption that the filling path is correct."
   ]
  },
  {
   "cell_type": "code",
   "execution_count": null,
   "metadata": {},
   "outputs": [],
   "source": [
    "filledScaffold = firstContig + gapString + lastContig\n",
    "\n",
    "print('Filled scaffold aligns to genome:', align(filledScaffold, trueGenome) == 0)"
   ]
  },
  {
   "cell_type": "markdown",
   "metadata": {},
   "source": [
    "### Note on practicality\n",
    "\n",
    "The purpose of the above code is to show you that even if a gap cannot be filled just by doing unitig assembly, further genomic content can be revealed by adding in the paired-end information, **even in the form of a single number, the gap length**. \n",
    "\n",
    "However, practical gap filler do not work exactly in the above manner. Instead, they try to include the expected gap length in the search for the filling path."
   ]
  },
  {
   "cell_type": "markdown",
   "metadata": {},
   "source": [
    "<h3 style='background:yellow;padding:10px;color:black'><strong>TASK</strong></h3>\n",
    "\n",
    "Explain what are the drawbacks of using a code very similar to the above (even if one has an equivalent C++ implementation) when doing gap filling in practice."
   ]
  },
  {
   "cell_type": "markdown",
   "metadata": {},
   "source": [
    "---\n",
    "#### Your answer here ...\n",
    "---"
   ]
  }
 ],
 "metadata": {
  "kernelspec": {
   "display_name": "Python 3 (ipykernel)",
   "language": "python",
   "name": "python3"
  },
  "language_info": {
   "codemirror_mode": {
    "name": "ipython",
    "version": 3
   },
   "file_extension": ".py",
   "mimetype": "text/x-python",
   "name": "python",
   "nbconvert_exporter": "python",
   "pygments_lexer": "ipython3",
   "version": "3.10.0"
  }
 },
 "nbformat": 4,
 "nbformat_minor": 4
}
