{
 "cells": [
  {
   "cell_type": "markdown",
   "metadata": {},
   "source": [
    "## LSI31008 Elements of Bioinformatics, Assignment 2: Basic sequence statistics, the genetic code and transcription factor binding sites.\n"
   ]
  },
  {
   "cell_type": "markdown",
   "metadata": {},
   "source": [
    "Here we will explore the (near) universal genetic code discussed at the lecture. We first load in yeast _S.cerevisiae_ coding sequence downloaded from [SGD](https://downloads.yeastgenome.org/sequence/S288C_reference/orf_dna/). The idea is to evaluate various statistics from the genomic data and think about them in the light of the genetic code. For background reading please have a look of [\"JB Plotkin, G Kudla: Synonymous but not the same: the causes and consequences of codon bias\"](https://www.nature.com/articles/nrg2899) and [\"EV Koonin, AS Novozhilov: Origin and evolution of the genetic code: The universal enigma\"](https://iubmb.onlinelibrary.wiley.com/doi/abs/10.1002/iub.146).\n"
   ]
  },
  {
   "cell_type": "markdown",
   "metadata": {},
   "source": [
    "The Biopython package offers easy ways to read in FASTA-files and to handle sequences. To install it on the CSC Jupyter environment you need to run the following commands: (Note: you might need to run this separately and then restart this notebook to ensure that the package is available to your session)\n"
   ]
  },
  {
   "cell_type": "code",
   "execution_count": 2,
   "metadata": {},
   "outputs": [
    {
     "name": "stdout",
     "output_type": "stream",
     "text": [
      "Requirement already satisfied: biopython in /home/heikki/anaconda3/envs/elements_of_bioinformatics/lib/python3.10/site-packages (1.79)\n",
      "Requirement already satisfied: numpy in /home/heikki/anaconda3/envs/elements_of_bioinformatics/lib/python3.10/site-packages (from biopython) (1.21.5)\n"
     ]
    }
   ],
   "source": [
    "import sys\n",
    "!{sys.executable} -m pip install --user biopython"
   ]
  },
  {
   "cell_type": "markdown",
   "metadata": {},
   "source": [
    "Import Biopython SeqIO for reading FASTA-files\n"
   ]
  },
  {
   "cell_type": "code",
   "execution_count": 3,
   "metadata": {},
   "outputs": [],
   "source": [
    "from Bio import SeqIO\n",
    "from math import floor\n",
    "import matplotlib.pyplot as plt\n"
   ]
  },
  {
   "cell_type": "markdown",
   "metadata": {},
   "source": [
    "Read the file into a dictionary of SeqRecord objects\n",
    "\n",
    "Please see the following links for information on using Biopython sequence tools:\n",
    "\n",
    "https://biopython.org/wiki/SeqIO\n",
    "\n",
    "https://biopython.org/wiki/SeqRecord\n",
    "\n",
    "https://biopython.org/wiki/Seq\n"
   ]
  },
  {
   "cell_type": "code",
   "execution_count": 4,
   "metadata": {},
   "outputs": [],
   "source": [
    "input_file = 'data/orf_coding.fasta'\n",
    "records = SeqIO.to_dict(SeqIO.parse(input_file, \"fasta\"))\n"
   ]
  },
  {
   "cell_type": "markdown",
   "metadata": {},
   "source": [
    "See that we have 5917 keys:\n"
   ]
  },
  {
   "cell_type": "code",
   "execution_count": 5,
   "metadata": {},
   "outputs": [
    {
     "data": {
      "text/plain": [
       "5917"
      ]
     },
     "execution_count": 5,
     "metadata": {},
     "output_type": "execute_result"
    }
   ],
   "source": [
    "ids = list(records.keys())\n",
    "len(ids)"
   ]
  },
  {
   "cell_type": "markdown",
   "metadata": {},
   "source": [
    "A single record in the dictionary contains all kinds of data:\n"
   ]
  },
  {
   "cell_type": "code",
   "execution_count": 6,
   "metadata": {},
   "outputs": [
    {
     "data": {
      "text/plain": [
       "SeqRecord(seq=Seq('ATGGCATCCACCGATTTCTCCAAGATTGAAACTTTGAAACAATTAAACGCTTCT...TAA'), id='YAL003W', name='YAL003W', description='YAL003W EFB1 SGDID:S000000003, Chr I from 142174-142253,142620-143160, Genome Release 64-2-1, intron sequence removed, Verified ORF, \"Translation elongation factor 1 beta; stimulates nucleotide exchange to regenerate EF-1 alpha-GTP for the next elongation cycle; part of the EF-1 complex, which facilitates binding of aminoacyl-tRNA to the ribosomal A site\"', dbxrefs=[])"
      ]
     },
     "execution_count": 6,
     "metadata": {},
     "output_type": "execute_result"
    }
   ],
   "source": [
    "records[ids[2]]"
   ]
  },
  {
   "cell_type": "markdown",
   "metadata": {},
   "source": [
    "To get the nucleotide sequence out use `.seq`\n"
   ]
  },
  {
   "cell_type": "code",
   "execution_count": 7,
   "metadata": {},
   "outputs": [
    {
     "data": {
      "text/plain": [
       "'ATGGTACTGACGATTTATCCTGACGAACTCGTACAAATAGTGTCTGATAAAATTGCTTCAAATAAGGGAAAAATCACTTTGAATCAGCTGTGGGATATATCTGGTAAATATTTTGATTTGTCTGATAAAAAAGTTAAACAGTTCGTGCTTTCATGCGTGATATTGAAAAAGGACATTGAGGTGTATTGTGATGGTGCTATAACAACTAAAAATGTGACTGATATTATAGGCGACGCTAATCATTCATACTCGGTTGGGATTACTGAGGACAGCCTATGGACATTATTAACGGGATACACAAAAAAGGAGTCAACTATTGGAAATTCTGCATTTGAACTACTTCTCGAAGTTGCCAAATCAGGAGAAAAAGGGATCAATACTATGGATTTGGCGCAGGTAACTGGGCAAGATCCTAGAAGTGTGACTGGACGTATCAAGAAAATAAACCACCTGTTAACAAGTTCACAACTGATTTATAAGGGACACGTCGTGAAGCAATTGAAGCTAAAAAAATTCAGCCATGACGGGGTGGATAGTAATCCCTATATTAATATTAGGGATCATTTAGCAACAATAGTTGAGGTGGTAAAACGATCAAAAAATGGTATTCGCCAGATAATTGATTTAAAGCGTGAATTGAAATTTGACAAAGAGAAAAGACTTTCTAAAGCTTTTATTGCAGCTATTGCATGGTTAGATGAAAAGGAGTACTTAAAGAAAGTGCTTGTAGTATCACCCAAGAATCCTGCCATTAAAATCAGATGTGTAAAATACGTGAAAGATATTCCAGACTCTAAAGGCTCGCCTTCATTTGAGTATGATAGCAATAGCGCGGATGAAGATTCTGTATCAGATAGCAAGGCAGCTTTCGAAGATGAAGACTTAGTCGAAGGTTTAGATAATTTCAATGCGACTGATTTATTACAAAATCAAGGCCTTGTTATGGAAGAGAAAGAGGATGCTGTAAAGAATGAAGTTCTTCTTAATCGATTTTATCCACTTCAAAATCAGACTTATGACATTGCAGATAAGTCTGGCCTTAAAGGAATTTCAACTATGGATGTTGTAAATCGAATTACCGGAAAAGAATTTCAGCGAGCTTTTACCAAATCAAGCGAATATTATTTAGAAAGTGTGGATAAGCAAAAAGAAAATACAGGGGGGTATAGGCTTTTTCGCATATACGATTTTGAGGGAAAGAAGAAGTTTTTTAGGCTGTTCACAGCTCAGAACTTTCAAAAGTTAACAAATGCGGAAGACGAAATATCCGTTCCAAAAGGGTTTGATGAGCTAGGCAAATCTCGTACCGATTTGAAAACTCTCAACGAGGATAATTTCGTCGCACTCAACAACACTGTTAGATTTACAACGGACAGCGATGGACAGGATATATTCTTCTGGCACGGTGAATTAAAAATTCCCCCAAACTCAAAAAAAACTCCGAATAAAAACAAACGGAAGAGGCAGGTTAAAAACAGTACTAATGCTTCTGTTGCAGGAAACATTTCGAATCCCAAAAGGATTAAGCTAGAGCAGCATGTCAGCACTGCACAGGAGCCGAAATCTGCTGAAGATAGTCCAAGTTCAAACGGAGGCACTGTTGTCAAAGGCAAGGTGGTTAACTTCGGCGGCTTTTCTGCCCGCTCTTTGCGTTCACTACAGAGACAGAGAGCCATTTTGAAAGTTATGAATACGATTGGTGGGGTAGCATACCTGAGAGAACAATTTTACGAAAGCGTTTCTAAATATATGGGCTCCACAACGACATTAGATAAAAAGACTGTCCGTGGTGATGTTGATTTGATGGTAGAAAGCGAAAAATTAGGAGCCAGAACAGAGCCTGTATCAGGAAGAAAAATTATTTTTTTGCCCACTGTTGGAGAGGACGCTATCCAAAGGTACATCCTGAAAGAAAAAGATAGTAAAAAAGCAACCTTTACTGATGTTATACATGATACGGAAATATACTTCTTTGACCAAACGGAAAAAAATAGGTTTCACAGAGGAAAGAAATCAGTTGAAAGAATTCGTAAGTTTCAGAACCGCCAAAAGAATGCTAAGATCAAAGCTTCAGATGACGCTATCTCTAAGAAGAGTACGTCGGTCAACGTATCAGATGGAAAGATCAAAAGGAGAGACAAAAAAGTGTCTGCTGGTAGGACAACGGTGGTCGTGGAAAATACTAAAGAAGACAAAACTGTCTATCATGCAGGCACTAAAGATGGTGTTCAGGCTTTAATCAGAGCTGTTGTAGTTACTAAAAGTATTAAAAATGAAATAATGTGGGACAAAATAACAAAATTATTTCCTAATAATTCTTTAGATAACCTAAAAAAGAAATGGACGGCACGGCGAGTAAGAATGGGTCATAGTGGTTGGAGGGCATATGTCGATAAGTGGAAAAAAATGCTCGTTCTAGCCATTAAAAGTGAAAAGATTTCACTGAGGGATGTTGAAGAACTAGATCTTATCAAATTGCTTGATATTTGGACCTCTTTTGATGAAAAGGAAATAAAAAGGCCGCTCTTTCTTTATAAGAACTACGAAGAGAATAGAAAAAAATTTACTCTGGTACGTGATGACACACTTACACATTCTGGCAACGATCTGGCCATGTCTTCTATGATTCAAAGAGAGATCTCTTCTTTAAAAAAAACTTACACTAGAAAGATTTCCGCTTCTACTAAGGACTTATCGAAGAGTCAAAGCGACGATTATATTCGCACAGTGATCCGGTCCATATTAATAGAAAGTCCTTCGACCACTAGAAATGAAATAGAGGCGTTGAAGAACGTTGGAAACGAATCAATAGATAACGTCATCATGGATATGGCTAAGGAAAAGCAAATTTATCTCCATGGCTCAAAACTTGAATGTACTGATACTTTACCAGACATTTTGGAAAATAGAGGAAATTATAAAGATTTTGGTGTAGCTTTTCAGTATAGATGTAAGGTTAATGAATTATTGGAGGCCGGAAACGCTATTGTTATCAATCAAGAGCCGTCCGATATATCCTCTTGGGTTTTAATTGATTTGATTTCGGGAGAGCTATTGAATATGGATGTAATTCCAATGGTGAGAAATGTTCGACCTTTAACGTATACTTCAAGGAGATTTGAAATACGAACATTAACTCCCCCTCTGATTATATATGCCAATTCTCAGACAAAATTGAATACAGCAAGGAAGTCTGCTGTCAAAGTTCCACTGGGCAAACCATTTTCTCGTTTATGGGTGAATGGATCTGGTTCCATTAGGCCAAACATATGGAAGCAGGTAGTTACTATGGTCGTTAACGAAATAATATTTCATCCAGGGATAACATTGAGTAGATTGCAATCTAGGTGTCGTGAAGTACTTTCGCTTCATGAAATATCAGAAATATGCAAATGGCTCCTAGAAAGACAAGTATTAATAACTACTGATTTTGATGGCTATTGGGTCAATCATAATTGGTATTCTATATATGAATCTACATAA'"
      ]
     },
     "execution_count": 7,
     "metadata": {},
     "output_type": "execute_result"
    }
   ],
   "source": [
    "sequence = (records[ids[0]]).seq\n",
    "str(sequence)"
   ]
  },
  {
   "cell_type": "markdown",
   "metadata": {},
   "source": [
    "Or `.translate()` for amino acid sequence: (Note: you may need to write your own translation method for some Problems)\n"
   ]
  },
  {
   "cell_type": "code",
   "execution_count": 8,
   "metadata": {},
   "outputs": [
    {
     "data": {
      "text/plain": [
       "'MVLTIYPDELVQIVSDKIASNKGKITLNQLWDISGKYFDLSDKKVKQFVLSCVILKKDIEVYCDGAITTKNVTDIIGDANHSYSVGITEDSLWTLLTGYTKKESTIGNSAFELLLEVAKSGEKGINTMDLAQVTGQDPRSVTGRIKKINHLLTSSQLIYKGHVVKQLKLKKFSHDGVDSNPYINIRDHLATIVEVVKRSKNGIRQIIDLKRELKFDKEKRLSKAFIAAIAWLDEKEYLKKVLVVSPKNPAIKIRCVKYVKDIPDSKGSPSFEYDSNSADEDSVSDSKAAFEDEDLVEGLDNFNATDLLQNQGLVMEEKEDAVKNEVLLNRFYPLQNQTYDIADKSGLKGISTMDVVNRITGKEFQRAFTKSSEYYLESVDKQKENTGGYRLFRIYDFEGKKKFFRLFTAQNFQKLTNAEDEISVPKGFDELGKSRTDLKTLNEDNFVALNNTVRFTTDSDGQDIFFWHGELKIPPNSKKTPNKNKRKRQVKNSTNASVAGNISNPKRIKLEQHVSTAQEPKSAEDSPSSNGGTVVKGKVVNFGGFSARSLRSLQRQRAILKVMNTIGGVAYLREQFYESVSKYMGSTTTLDKKTVRGDVDLMVESEKLGARTEPVSGRKIIFLPTVGEDAIQRYILKEKDSKKATFTDVIHDTEIYFFDQTEKNRFHRGKKSVERIRKFQNRQKNAKIKASDDAISKKSTSVNVSDGKIKRRDKKVSAGRTTVVVENTKEDKTVYHAGTKDGVQALIRAVVVTKSIKNEIMWDKITKLFPNNSLDNLKKKWTARRVRMGHSGWRAYVDKWKKMLVLAIKSEKISLRDVEELDLIKLLDIWTSFDEKEIKRPLFLYKNYEENRKKFTLVRDDTLTHSGNDLAMSSMIQREISSLKKTYTRKISASTKDLSKSQSDDYIRTVIRSILIESPSTTRNEIEALKNVGNESIDNVIMDMAKEKQIYLHGSKLECTDTLPDILENRGNYKDFGVAFQYRCKVNELLEAGNAIVINQEPSDISSWVLIDLISGELLNMDVIPMVRNVRPLTYTSRRFEIRTLTPPLIIYANSQTKLNTARKSAVKVPLGKPFSRLWVNGSGSIRPNIWKQVVTMVVNEIIFHPGITLSRLQSRCREVLSLHEISEICKWLLERQVLITTDFDGYWVNHNWYSIYEST*'"
      ]
     },
     "execution_count": 8,
     "metadata": {},
     "output_type": "execute_result"
    }
   ],
   "source": [
    "str(sequence.translate())"
   ]
  },
  {
   "cell_type": "markdown",
   "metadata": {},
   "source": [
    "The following function reads a string by triplets, counts the occurrence of each triplet and returns a dictionary:\n"
   ]
  },
  {
   "cell_type": "code",
   "execution_count": 9,
   "metadata": {},
   "outputs": [],
   "source": [
    "def extract_triplets(s):\n",
    "    size = floor(len(s)/3)\n",
    "    out = {}\n",
    "    for i in range(size):\n",
    "        start = i*3\n",
    "        end = start + 3\n",
    "        triplet = s[start:end]\n",
    "        if triplet in out:\n",
    "            out[triplet] += 1\n",
    "        else:\n",
    "            out[triplet] = 1\n",
    "    return(out)"
   ]
  },
  {
   "cell_type": "markdown",
   "metadata": {},
   "source": [
    "Testing that it works:\n"
   ]
  },
  {
   "cell_type": "code",
   "execution_count": 10,
   "metadata": {},
   "outputs": [
    {
     "name": "stdout",
     "output_type": "stream",
     "text": [
      "{'ATG': 17, 'GTA': 22, 'CTG': 12, 'ACG': 11, 'ATT': 41, 'TAT': 24, 'CCT': 9, 'GAC': 21, 'GAA': 51, 'CTC': 8, 'CAA': 19, 'ATA': 31, 'GTG': 19, 'TCT': 32, 'GAT': 58, 'AAA': 81, 'GCT': 23, 'TCA': 24, 'AAT': 44, 'AAG': 44, 'GGA': 22, 'ATC': 15, 'ACT': 36, 'TTG': 20, 'CAG': 18, 'TGG': 15, 'GGT': 13, 'TTT': 32, 'GTT': 32, 'TTC': 10, 'CTT': 17, 'TGC': 2, 'GAG': 22, 'TGT': 5, 'ACA': 22, 'GGC': 15, 'CAT': 12, 'TAC': 11, 'TCG': 8, 'GGG': 9, 'AGC': 11, 'CTA': 11, 'TTA': 29, 'GCA': 15, 'GCC': 9, 'GCG': 5, 'AGA': 24, 'AGT': 15, 'CGT': 9, 'AAC': 22, 'CAC': 4, 'GTC': 14, 'CCC': 6, 'AGG': 16, 'CGA': 7, 'CGC': 5, 'CCA': 11, 'ACC': 6, 'TCC': 7, 'CCG': 4, 'CGG': 3, 'TAA': 1}\n",
      "81\n",
      "1161\n"
     ]
    }
   ],
   "source": [
    "testi = extract_triplets(str(sequence))\n",
    "print(testi)\n",
    "print(testi['AAA'])\n",
    "print(sum(testi.values()))"
   ]
  },
  {
   "cell_type": "markdown",
   "metadata": {},
   "source": [
    "The following dictionary may be useful for translating triplets into amino acids: (Note: please check that this is done right)\n"
   ]
  },
  {
   "cell_type": "code",
   "execution_count": 11,
   "metadata": {},
   "outputs": [],
   "source": [
    "transl = {\n",
    "    'AAA': 'Lys', 'AAC': 'Asn', 'AAG': 'Lys', 'AAT': 'Asn',\n",
    "    'ACA': 'Thr', 'ACC': 'Thr', 'ACG': 'Thr', 'ACT': 'Thr',\n",
    "    'AGA': 'Arg', 'AGC': 'Ser', 'AGG': 'Arg', 'AGT': 'Ser',\n",
    "    'ATA': 'Ile', 'ATC': 'Ile', 'ATG': 'Met', 'ATT': 'Ile',\n",
    "    'CAA': 'Gln', 'CAC': 'His', 'CAG': 'Gln', 'CAT': 'His',\n",
    "    'CCA': 'Pro', 'CCC': 'Pro', 'CCG': 'Pro', 'CCT': 'Pro',\n",
    "    'CGA': 'Arg', 'CGC': 'Arg', 'CGG': 'Arg', 'CGT': 'Arg',\n",
    "    'CTA': 'Leu', 'CTC': 'Leu', 'CTG': 'Leu', 'CTT': 'Leu',\n",
    "    'GAA': 'Glu', 'GAC': 'Asp', 'GAG': 'Glu', 'GAT': 'Asp',\n",
    "    'GCA': 'Ala', 'GCC': 'Ala', 'GCG': 'Ala', 'GCT': 'Ala',\n",
    "    'GGA': 'Gly', 'GGC': 'Gly', 'GGG': 'Gly', 'GGT': 'Gly',\n",
    "    'GTA': 'Val', 'GTC': 'Val', 'GTG': 'Val', 'GTT': 'Val',\n",
    "    'TAA': 'Stop', 'TAC': 'Tyr', 'TAG': 'Stop', 'TAT': 'Tyr',\n",
    "    'TCA': 'Ser', 'TCC': 'Ser', 'TCG': 'Ser', 'TCT': 'Ser',\n",
    "    'TGA': 'Stop', 'TGC': 'Cys', 'TGG': 'Trp', 'TGT': 'Cys',\n",
    "    'TTA': 'Leu', 'TTC': 'Phe', 'TTG': 'Leu', 'TTT': 'Phe'\n",
    "}\n"
   ]
  },
  {
   "cell_type": "code",
   "execution_count": 12,
   "metadata": {},
   "outputs": [
    {
     "data": {
      "text/plain": [
       "'Lys'"
      ]
     },
     "execution_count": 12,
     "metadata": {},
     "output_type": "execute_result"
    }
   ],
   "source": [
    "transl['AAA']"
   ]
  },
  {
   "cell_type": "markdown",
   "metadata": {},
   "source": [
    "## Problem 1a\n",
    "\n",
    "Evaluate what is the fraction of nucleotides 'A', 'C', 'G' and 'T' in the coding sequence of _S.cer_.\n"
   ]
  },
  {
   "cell_type": "code",
   "execution_count": 13,
   "metadata": {},
   "outputs": [
    {
     "name": "stdout",
     "output_type": "stream",
     "text": [
      "{'A': 2883611, 'C': 1683047, 'G': 1795281, 'T': 2426618}\n"
     ]
    }
   ],
   "source": [
    "nucleotide_amounts = {'A': 0, 'C': 0, 'G': 0, 'T': 0}\n",
    "\n",
    "for record_key in records.keys():\n",
    "    nuc_seq = records[record_key].seq\n",
    "    for nucleotide in nuc_seq:\n",
    "        nucleotide_amounts[nucleotide] += 1\n",
    "\n",
    "print(nucleotide_amounts)\n"
   ]
  },
  {
   "cell_type": "markdown",
   "metadata": {},
   "source": [
    "## Problem 1b\n",
    "\n",
    "Translate the coding sequences to protein sequence. Make a barchart showing the numbers of each amino-acid and stop codon, order by prevalence.\n"
   ]
  },
  {
   "cell_type": "code",
   "execution_count": 14,
   "metadata": {},
   "outputs": [
    {
     "data": {
      "image/png": "[encoded data removed]",
      "text/plain": [
       "<Figure size 1152x720 with 1 Axes>"
      ]
     },
     "metadata": {
      "needs_background": "light"
     },
     "output_type": "display_data"
    }
   ],
   "source": [
    "res = {}\n",
    "\n",
    "for record_key in records.keys():\n",
    "    nuc_seq = records[record_key].seq\n",
    "    codons = extract_triplets(str(nuc_seq))\n",
    "    for codon in codons.keys():\n",
    "        acid = transl[codon]\n",
    "        if acid in res.keys():\n",
    "            res[acid] += 1\n",
    "        else:\n",
    "            res[acid] = 1\n",
    "\n",
    "_, ax = plt.subplots(figsize=(16, 10))\n",
    "ax.bar(x=list(res.keys()), height=list(res.values()))\n",
    "plt.show()\n"
   ]
  },
  {
   "cell_type": "markdown",
   "metadata": {},
   "source": [
    "## Problem 1c\n",
    "\n",
    "Split each coding sequences to codons (triplet that do not overlap). Make a barchart showing the numbers of each codon (64 altogether) order by the most often used amino-acid and its most often used codon, its second most used codon etc. (label the chart by both the codon and its amino-acid).\n"
   ]
  },
  {
   "cell_type": "code",
   "execution_count": 15,
   "metadata": {},
   "outputs": [
    {
     "data": {
      "image/png": "[encoded data removed]",
      "text/plain": [
       "<Figure size 1152x720 with 1 Axes>"
      ]
     },
     "metadata": {
      "needs_background": "light"
     },
     "output_type": "display_data"
    }
   ],
   "source": [
    "res = {}\n",
    "\n",
    "for record_key in records.keys():\n",
    "    nuc_seq = records[record_key].seq\n",
    "    codons = extract_triplets(str(nuc_seq))\n",
    "    for codon, amount in codons.items():\n",
    "        acid = transl[codon]\n",
    "        if acid in res:\n",
    "            if codon in res[acid].keys():\n",
    "                res[acid][codon] += amount\n",
    "            else:\n",
    "                res[acid][codon] = amount\n",
    "        else:\n",
    "            res[acid] = {codon: amount}\n",
    "\n",
    "_, ax = plt.subplots(figsize=(16, 10))\n",
    "\n",
    "for acid, codon_sums in res.items():\n",
    "    codon_sums = dict(\n",
    "        sorted(codon_sums.items(), key=lambda item: item[1], reverse=True)\n",
    "    )\n",
    "    bars = ax.bar(\n",
    "        x=list(codon_sums.keys()),\n",
    "        height=codon_sums.values(),\n",
    "        label=acid,\n",
    "    )\n",
    "\n",
    "for tick in ax.get_xticklabels():\n",
    "    tick.set_rotation(90)\n",
    "\n",
    "ax.legend()\n",
    "\n",
    "plt.show()\n"
   ]
  },
  {
   "cell_type": "markdown",
   "metadata": {},
   "source": [
    "## Problem 1d\n",
    "\n",
    "From the codon frequency data, focus your attention to codons that code for the same amino-acid. Just by looking can you identify big differences in the particular codons that are being used to make a particular amino-acid? (Hint, look at Figure 2 of [\"JB Plotkin, G Kudla: Synonymous but not the same: the causes and consequences of codon bias\"](https://www.nature.com/articles/nrg2899)).\n"
   ]
  },
  {
   "cell_type": "code",
   "execution_count": null,
   "metadata": {},
   "outputs": [],
   "source": []
  },
  {
   "cell_type": "markdown",
   "metadata": {},
   "source": [
    "## Problem 2: Binding energy statistics in the yeast genome (intergenic regions)\n"
   ]
  },
  {
   "cell_type": "markdown",
   "metadata": {},
   "source": [
    "Here we analyse signatures of selection from genomic data using transcription factor binding sites as an example. See e.g. [\"Kinney JB, Tkacik G, Callan CG (2007) Precise physical models of protein-DNA interaction from high-throughput data. Proc Natl Acad Sci USA 104(2):501–506\"](http://www.pnas.org/content/104/2/501.short) and [\"Mustonen V, Kinney J, Callan CG, Lässig M (2008) Energy-dependent fitness: a quantitative model for the evolution of yeast transcription factor binding sites. Proc Natl Acad Sci USA 105(34):12376–12381\"](http://www.pnas.org/content/105/34/12376.short).\n",
    "\n",
    "Directory `data/` contains a file `alignment.txt.NaN.removed` where intergenic sequences for four yeast species (_S.cer, S.par, S.mik, S.bay_) are given. Note we have removed insertions and deletions from the alignment so that analyses which in this assignment focus on a single species aspects are a bit simpler.\n"
   ]
  },
  {
   "cell_type": "code",
   "execution_count": 16,
   "metadata": {},
   "outputs": [],
   "source": [
    "from setup import *\n",
    "%matplotlib inline"
   ]
  },
  {
   "cell_type": "code",
   "execution_count": 17,
   "metadata": {},
   "outputs": [],
   "source": [
    "# import data to a dataframe\n",
    "datafile = \"data/alignment.txt.NaN.removed\"\n",
    "seq_igs = pd.read_csv(datafile, sep=\"\\s+\")\n",
    "tfBindingFile = \"data/Emat.abf1.kinney\"\n",
    "# imports an energy matrix modelling transcription factor to DNA binding for factor Abf1\n",
    "# the dimensions are 4 x 20, correspoding to the four nucleotides A,C,G,T and the binding sites motif length 20\n",
    "# smaller energy values indicate better binding\n",
    "Emat = np.array(pd.read_csv(tfBindingFile, header=None, sep=\"\\s+\"))\n"
   ]
  },
  {
   "cell_type": "code",
   "execution_count": 18,
   "metadata": {},
   "outputs": [],
   "source": [
    "def getEnergy(seq: str, Emat: np.ndarray) -> list[float]:\n",
    "    \"\"\"\n",
    "    function, which returns list on numeric values,\n",
    "    where each number represents energy of a single\n",
    "    nucleus.\n",
    "    input: seg - nucleutide sequence,\n",
    "    Emat - 4 x 20 matrix of numeric values\n",
    "    \"\"\"\n",
    "    s1 = list(seq.\n",
    "              replace('A', '0').\n",
    "              replace('C', '1').\n",
    "              replace('G', '2').\n",
    "              replace('T', '3').\n",
    "              replace('N', '4')\n",
    "              )  # Converts every nucleus with a numeric value\n",
    "    Lmat = Emat.shape[1]  # Length of a matrix\n",
    "    Lseq = len(s1)  # Length of a sequence\n",
    "    Ev = []\n",
    "    for i in range(0, Lseq-Lmat+1):  # Loops through\n",
    "        E = 0.0\n",
    "        k = 0\n",
    "        flag = 0\n",
    "        eps = 0.0\n",
    "        for j in range(i, i+Lmat):\n",
    "            nuc = int(s1[j])\n",
    "            if nuc < 4:\n",
    "                eps = Emat[nuc, k]\n",
    "            else:\n",
    "                # remove sequences with missing data\n",
    "                flag = 1\n",
    "            E += eps\n",
    "            k += 1\n",
    "        if flag == 0:\n",
    "            Ev.append(E)\n",
    "    return Ev\n"
   ]
  },
  {
   "cell_type": "code",
   "execution_count": 19,
   "metadata": {},
   "outputs": [],
   "source": [
    "def randomise(seq: str) -> str:\n",
    "    \"\"\"\n",
    "    function, which assigns to each nucleus\n",
    "    in a sequence a numeric value (A: 0, C: 1, G: 2, T: 3, N: 4),\n",
    "    shuffles the resulting number sequence\n",
    "    and returns the shuffled list\n",
    "    \"\"\"\n",
    "    s1 = list(seq.\n",
    "              replace('A', '0').\n",
    "              replace('C', '1').\n",
    "              replace('G', '2').\n",
    "              replace('T', '3').\n",
    "              replace('N', '4')\n",
    "              )\n",
    "    random.shuffle(s1)\n",
    "    return \"\".join(s1)\n"
   ]
  },
  {
   "cell_type": "markdown",
   "metadata": {},
   "source": [
    "#### Problem 2a:\n",
    "\n",
    "Visualise the binding energy matrix _Emat_ with elements $\\epsilon_k(a)$ where $k$ denotes column (binding site position) and $a \\in{A,C,G,T}$ nucleotides. What is the best possible binding sequence according to this model?\n"
   ]
  },
  {
   "cell_type": "code",
   "execution_count": 54,
   "metadata": {},
   "outputs": [
    {
     "name": "stdout",
     "output_type": "stream",
     "text": [
      "high energy sequence: CCATATTAAGATATAACTTT\n"
     ]
    },
    {
     "data": {
      "image/png": "[encoded data removed]",
      "text/plain": [
       "<Figure size 432x288 with 1 Axes>"
      ]
     },
     "metadata": {
      "needs_background": "light"
     },
     "output_type": "display_data"
    }
   ],
   "source": [
    "def get_nuc_by_index(index: float) -> str:\n",
    "    # Get the column of a Emat matrix from index and get the index of a list in which is the greatest value\n",
    "    a = np.argmax([Emat[:, index]])\n",
    "    if a == 0:\n",
    "        return \"A\"\n",
    "    elif a == 1:\n",
    "        return \"C\"\n",
    "    elif a == 2:\n",
    "        return \"G\"\n",
    "    elif a == 3:\n",
    "        return \"T\"\n",
    "    else:\n",
    "        return \"_\"\n",
    "\n",
    "\n",
    "plt.plot(Emat[0, ])\n",
    "plt.plot(Emat[1, ])\n",
    "plt.plot(Emat[2, ])\n",
    "plt.plot((Emat[3, ]))\n",
    "\n",
    "seq = \"\"\n",
    "for i in range(20):\n",
    "    seq = seq + get_nuc_by_index(i)\n",
    "\n",
    "print(\"high energy sequence:\", seq)\n"
   ]
  },
  {
   "cell_type": "markdown",
   "metadata": {},
   "source": [
    "#### Problem 2b:\n",
    "\n",
    "Explain what the functions `getEnergy()` and `randomise()` do, and add some comments to the code to help a reader understand how they work.\n"
   ]
  },
  {
   "cell_type": "code",
   "execution_count": null,
   "metadata": {},
   "outputs": [],
   "source": []
  },
  {
   "cell_type": "markdown",
   "metadata": {},
   "source": [
    "#### Problem 2c:\n",
    "\n",
    "Now, run the cell below (takes ~1 minute) and put a comment on each line to explain what it does. Plot a histogram of EvAll (use logarithmic y-axis).\n"
   ]
  },
  {
   "cell_type": "code",
   "execution_count": 21,
   "metadata": {},
   "outputs": [
    {
     "data": {
      "image/png": "[encoded data removed]",
      "text/plain": [
       "<Figure size 432x288 with 1 Axes>"
      ]
     },
     "metadata": {
      "needs_background": "light"
     },
     "output_type": "display_data"
    }
   ],
   "source": [
    "Nigs = seq_igs.shape[0]\n",
    "Eigs = []\n",
    "for n in range(0, Nigs):\n",
    "    seq = seq_igs['Scer'][n]\n",
    "    Eigs.append(getEnergy(seq, Emat))\n",
    "\n",
    "EvAll = [val for sublist in Eigs for val in sublist]\n",
    "\n",
    "plt.plot(EvAll)\n",
    "\n",
    "plt.show()\n"
   ]
  },
  {
   "cell_type": "code",
   "execution_count": null,
   "metadata": {},
   "outputs": [],
   "source": []
  },
  {
   "cell_type": "markdown",
   "metadata": {},
   "source": [
    "#### Problem 2d:\n",
    "\n",
    "In fact, the histogram (2c) does not show all the possible binding sites in intergenic regions because the given sequences represent only the leading strand of DNA. To get the missing half, you can either make a second data set by reverse complementing all intergenic sequence or by reverse complementing the energy matrix (apply that to a new energy matrix by copy-pasting the code from 1c and modifying it as needed; hint: np.fliplr() and np.flipud might be useful). Make a histogram as in 1c but now for all data.\n"
   ]
  },
  {
   "cell_type": "code",
   "execution_count": null,
   "metadata": {},
   "outputs": [],
   "source": []
  },
  {
   "cell_type": "markdown",
   "metadata": {},
   "source": [
    "#### Problem 2e:\n",
    "\n",
    "Make a null model by permuting randomly each intergenic sequence using the function randomise() (i.e. copy the code from 2d and add one line with `randomise()`). Plot the counts from the null model together with the real data into a histogram. Comment on what you see. Where is selection visible?\n"
   ]
  },
  {
   "cell_type": "code",
   "execution_count": null,
   "metadata": {},
   "outputs": [],
   "source": []
  }
 ],
 "metadata": {
  "interpreter": {
   "hash": "220aab0b405123df9685219ea8525089384971898b8406015d9a3bad2a747bab"
  },
  "kernelspec": {
   "display_name": "Python 3.9.7 64-bit ('assignement_2': virtualenv)",
   "name": "python3"
  },
  "language_info": {
   "codemirror_mode": {
    "name": "ipython",
    "version": 3
   },
   "file_extension": ".py",
   "mimetype": "text/x-python",
   "name": "python",
   "nbconvert_exporter": "python",
   "pygments_lexer": "ipython3",
   "version": "3.10.1"
  }
 },
 "nbformat": 4,
 "nbformat_minor": 2
}
